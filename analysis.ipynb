{
 "cells": [
  {
   "attachments": {},
   "cell_type": "markdown",
   "metadata": {},
   "source": [
    "# Analysis of Motorcycles Sales Data"
   ]
  },
  {
   "attachments": {},
   "cell_type": "markdown",
   "metadata": {},
   "source": [
    "## Data Transformation"
   ]
  },
  {
   "cell_type": "code",
   "execution_count": 134,
   "metadata": {},
   "outputs": [],
   "source": [
    "import pandas as pd"
   ]
  },
  {
   "cell_type": "code",
   "execution_count": 135,
   "metadata": {},
   "outputs": [
    {
     "data": {
      "text/html": [
       "<div>\n",
       "<style scoped>\n",
       "    .dataframe tbody tr th:only-of-type {\n",
       "        vertical-align: middle;\n",
       "    }\n",
       "\n",
       "    .dataframe tbody tr th {\n",
       "        vertical-align: top;\n",
       "    }\n",
       "\n",
       "    .dataframe thead th {\n",
       "        text-align: right;\n",
       "    }\n",
       "</style>\n",
       "<table border=\"1\" class=\"dataframe\">\n",
       "  <thead>\n",
       "    <tr style=\"text-align: right;\">\n",
       "      <th></th>\n",
       "      <th>date</th>\n",
       "      <th>warehouse</th>\n",
       "      <th>client_type</th>\n",
       "      <th>product_line</th>\n",
       "      <th>quantity</th>\n",
       "      <th>unit_price</th>\n",
       "      <th>total</th>\n",
       "      <th>payment</th>\n",
       "    </tr>\n",
       "  </thead>\n",
       "  <tbody>\n",
       "    <tr>\n",
       "      <th>0</th>\n",
       "      <td>1/6/2021</td>\n",
       "      <td>Central</td>\n",
       "      <td>Retail</td>\n",
       "      <td>Miscellaneous</td>\n",
       "      <td>8</td>\n",
       "      <td>16.85</td>\n",
       "      <td>134.83</td>\n",
       "      <td>Credit card</td>\n",
       "    </tr>\n",
       "    <tr>\n",
       "      <th>1</th>\n",
       "      <td>1/6/2021</td>\n",
       "      <td>North</td>\n",
       "      <td>Retail</td>\n",
       "      <td>Breaking system</td>\n",
       "      <td>9</td>\n",
       "      <td>19.29</td>\n",
       "      <td>173.61</td>\n",
       "      <td>Cash</td>\n",
       "    </tr>\n",
       "    <tr>\n",
       "      <th>2</th>\n",
       "      <td>1/6/2021</td>\n",
       "      <td>North</td>\n",
       "      <td>Retail</td>\n",
       "      <td>Suspension &amp; traction</td>\n",
       "      <td>8</td>\n",
       "      <td>32.93</td>\n",
       "      <td>263.45</td>\n",
       "      <td>Credit card</td>\n",
       "    </tr>\n",
       "    <tr>\n",
       "      <th>3</th>\n",
       "      <td>1/6/2021</td>\n",
       "      <td>North</td>\n",
       "      <td>Wholesale</td>\n",
       "      <td>Frame &amp; body</td>\n",
       "      <td>16</td>\n",
       "      <td>37.84</td>\n",
       "      <td>605.44</td>\n",
       "      <td>Transfer</td>\n",
       "    </tr>\n",
       "    <tr>\n",
       "      <th>4</th>\n",
       "      <td>1/6/2021</td>\n",
       "      <td>Central</td>\n",
       "      <td>Retail</td>\n",
       "      <td>Engine</td>\n",
       "      <td>2</td>\n",
       "      <td>60.48</td>\n",
       "      <td>120.96</td>\n",
       "      <td>Credit card</td>\n",
       "    </tr>\n",
       "  </tbody>\n",
       "</table>\n",
       "</div>"
      ],
      "text/plain": [
       "       date warehouse client_type           product_line  quantity  \\\n",
       "0  1/6/2021   Central      Retail          Miscellaneous         8   \n",
       "1  1/6/2021     North      Retail        Breaking system         9   \n",
       "2  1/6/2021     North      Retail  Suspension & traction         8   \n",
       "3  1/6/2021     North   Wholesale           Frame & body        16   \n",
       "4  1/6/2021   Central      Retail                 Engine         2   \n",
       "\n",
       "   unit_price   total      payment  \n",
       "0       16.85  134.83  Credit card  \n",
       "1       19.29  173.61         Cash  \n",
       "2       32.93  263.45  Credit card  \n",
       "3       37.84  605.44     Transfer  \n",
       "4       60.48  120.96  Credit card  "
      ]
     },
     "execution_count": 135,
     "metadata": {},
     "output_type": "execute_result"
    }
   ],
   "source": [
    "sales = pd.read_csv(\"data/sales_data.csv\")\n",
    "sales.head()"
   ]
  },
  {
   "cell_type": "code",
   "execution_count": 136,
   "metadata": {},
   "outputs": [
    {
     "name": "stderr",
     "output_type": "stream",
     "text": [
      "C:\\Users\\abu aisha\\AppData\\Local\\Temp\\ipykernel_7000\\2749910255.py:2: UserWarning:\n",
      "\n",
      "Parsing dates in DD/MM/YYYY format when dayfirst=False (the default) was specified. This may lead to inconsistently parsed dates! Specify a format to ensure consistent parsing.\n",
      "\n"
     ]
    }
   ],
   "source": [
    "# Convert the 'date' column to a datetime object\n",
    "sales['date'] = pd.to_datetime(sales['date'])\n",
    "\n",
    "# Set the 'date' column as the index of the DataFrame\n",
    "#sales = sales.set_index('date')"
   ]
  },
  {
   "cell_type": "code",
   "execution_count": 137,
   "metadata": {},
   "outputs": [],
   "source": [
    "from pandas.api.types import CategoricalDtype\n",
    "\n",
    "cats = [ 'Monday', 'Tuesday', 'Wednesday', 'Thursday', 'Friday', 'Saturday', 'Sunday']\n",
    "\n",
    "cat_type = CategoricalDtype(categories=cats, ordered=True)\n",
    "\n",
    "# Create new columns for the weekday and month\n",
    "sales['Weekday'] = sales['date'].dt.day_name().astype(cat_type)\n",
    "sales['Month'] = sales['date'].dt.month_name()"
   ]
  },
  {
   "attachments": {},
   "cell_type": "markdown",
   "metadata": {},
   "source": [
    "## Exploratory Data Analysis"
   ]
  },
  {
   "attachments": {},
   "cell_type": "markdown",
   "metadata": {},
   "source": [
    "### Payment Method"
   ]
  },
  {
   "cell_type": "code",
   "execution_count": 138,
   "metadata": {},
   "outputs": [
    {
     "data": {
      "application/vnd.plotly.v1+json": {
       "config": {
        "plotlyServerURL": "https://plot.ly"
       },
       "data": [
        {
         "alignmentgroup": "True",
         "hovertemplate": "Payment=%{x}<br>Number of Transactions(%)=%{y}<extra></extra>",
         "legendgroup": "Cash",
         "marker": {
          "color": "#636efa",
          "pattern": {
           "shape": ""
          }
         },
         "name": "Cash",
         "offsetgroup": "Cash",
         "orientation": "v",
         "showlegend": true,
         "textposition": "auto",
         "type": "bar",
         "x": [
          "Cash"
         ],
         "xaxis": "x",
         "y": [
          11.600000000000001
         ],
         "yaxis": "y"
        },
        {
         "alignmentgroup": "True",
         "hovertemplate": "Payment=%{x}<br>Number of Transactions(%)=%{y}<extra></extra>",
         "legendgroup": "Transfer",
         "marker": {
          "color": "#EF553B",
          "pattern": {
           "shape": ""
          }
         },
         "name": "Transfer",
         "offsetgroup": "Transfer",
         "orientation": "v",
         "showlegend": true,
         "textposition": "auto",
         "type": "bar",
         "x": [
          "Transfer"
         ],
         "xaxis": "x",
         "y": [
          22.5
         ],
         "yaxis": "y"
        },
        {
         "alignmentgroup": "True",
         "hovertemplate": "Payment=%{x}<br>Number of Transactions(%)=%{y}<extra></extra>",
         "legendgroup": "Credit card",
         "marker": {
          "color": "#00cc96",
          "pattern": {
           "shape": ""
          }
         },
         "name": "Credit card",
         "offsetgroup": "Credit card",
         "orientation": "v",
         "showlegend": true,
         "textposition": "auto",
         "type": "bar",
         "x": [
          "Credit card"
         ],
         "xaxis": "x",
         "y": [
          65.9
         ],
         "yaxis": "y"
        }
       ],
       "layout": {
        "barmode": "relative",
        "legend": {
         "title": {
          "text": "Payment"
         },
         "tracegroupgap": 0
        },
        "template": {
         "data": {
          "bar": [
           {
            "error_x": {
             "color": "#2a3f5f"
            },
            "error_y": {
             "color": "#2a3f5f"
            },
            "marker": {
             "line": {
              "color": "#E5ECF6",
              "width": 0.5
             },
             "pattern": {
              "fillmode": "overlay",
              "size": 10,
              "solidity": 0.2
             }
            },
            "type": "bar"
           }
          ],
          "barpolar": [
           {
            "marker": {
             "line": {
              "color": "#E5ECF6",
              "width": 0.5
             },
             "pattern": {
              "fillmode": "overlay",
              "size": 10,
              "solidity": 0.2
             }
            },
            "type": "barpolar"
           }
          ],
          "carpet": [
           {
            "aaxis": {
             "endlinecolor": "#2a3f5f",
             "gridcolor": "white",
             "linecolor": "white",
             "minorgridcolor": "white",
             "startlinecolor": "#2a3f5f"
            },
            "baxis": {
             "endlinecolor": "#2a3f5f",
             "gridcolor": "white",
             "linecolor": "white",
             "minorgridcolor": "white",
             "startlinecolor": "#2a3f5f"
            },
            "type": "carpet"
           }
          ],
          "choropleth": [
           {
            "colorbar": {
             "outlinewidth": 0,
             "ticks": ""
            },
            "type": "choropleth"
           }
          ],
          "contour": [
           {
            "colorbar": {
             "outlinewidth": 0,
             "ticks": ""
            },
            "colorscale": [
             [
              0,
              "#0d0887"
             ],
             [
              0.1111111111111111,
              "#46039f"
             ],
             [
              0.2222222222222222,
              "#7201a8"
             ],
             [
              0.3333333333333333,
              "#9c179e"
             ],
             [
              0.4444444444444444,
              "#bd3786"
             ],
             [
              0.5555555555555556,
              "#d8576b"
             ],
             [
              0.6666666666666666,
              "#ed7953"
             ],
             [
              0.7777777777777778,
              "#fb9f3a"
             ],
             [
              0.8888888888888888,
              "#fdca26"
             ],
             [
              1,
              "#f0f921"
             ]
            ],
            "type": "contour"
           }
          ],
          "contourcarpet": [
           {
            "colorbar": {
             "outlinewidth": 0,
             "ticks": ""
            },
            "type": "contourcarpet"
           }
          ],
          "heatmap": [
           {
            "colorbar": {
             "outlinewidth": 0,
             "ticks": ""
            },
            "colorscale": [
             [
              0,
              "#0d0887"
             ],
             [
              0.1111111111111111,
              "#46039f"
             ],
             [
              0.2222222222222222,
              "#7201a8"
             ],
             [
              0.3333333333333333,
              "#9c179e"
             ],
             [
              0.4444444444444444,
              "#bd3786"
             ],
             [
              0.5555555555555556,
              "#d8576b"
             ],
             [
              0.6666666666666666,
              "#ed7953"
             ],
             [
              0.7777777777777778,
              "#fb9f3a"
             ],
             [
              0.8888888888888888,
              "#fdca26"
             ],
             [
              1,
              "#f0f921"
             ]
            ],
            "type": "heatmap"
           }
          ],
          "heatmapgl": [
           {
            "colorbar": {
             "outlinewidth": 0,
             "ticks": ""
            },
            "colorscale": [
             [
              0,
              "#0d0887"
             ],
             [
              0.1111111111111111,
              "#46039f"
             ],
             [
              0.2222222222222222,
              "#7201a8"
             ],
             [
              0.3333333333333333,
              "#9c179e"
             ],
             [
              0.4444444444444444,
              "#bd3786"
             ],
             [
              0.5555555555555556,
              "#d8576b"
             ],
             [
              0.6666666666666666,
              "#ed7953"
             ],
             [
              0.7777777777777778,
              "#fb9f3a"
             ],
             [
              0.8888888888888888,
              "#fdca26"
             ],
             [
              1,
              "#f0f921"
             ]
            ],
            "type": "heatmapgl"
           }
          ],
          "histogram": [
           {
            "marker": {
             "pattern": {
              "fillmode": "overlay",
              "size": 10,
              "solidity": 0.2
             }
            },
            "type": "histogram"
           }
          ],
          "histogram2d": [
           {
            "colorbar": {
             "outlinewidth": 0,
             "ticks": ""
            },
            "colorscale": [
             [
              0,
              "#0d0887"
             ],
             [
              0.1111111111111111,
              "#46039f"
             ],
             [
              0.2222222222222222,
              "#7201a8"
             ],
             [
              0.3333333333333333,
              "#9c179e"
             ],
             [
              0.4444444444444444,
              "#bd3786"
             ],
             [
              0.5555555555555556,
              "#d8576b"
             ],
             [
              0.6666666666666666,
              "#ed7953"
             ],
             [
              0.7777777777777778,
              "#fb9f3a"
             ],
             [
              0.8888888888888888,
              "#fdca26"
             ],
             [
              1,
              "#f0f921"
             ]
            ],
            "type": "histogram2d"
           }
          ],
          "histogram2dcontour": [
           {
            "colorbar": {
             "outlinewidth": 0,
             "ticks": ""
            },
            "colorscale": [
             [
              0,
              "#0d0887"
             ],
             [
              0.1111111111111111,
              "#46039f"
             ],
             [
              0.2222222222222222,
              "#7201a8"
             ],
             [
              0.3333333333333333,
              "#9c179e"
             ],
             [
              0.4444444444444444,
              "#bd3786"
             ],
             [
              0.5555555555555556,
              "#d8576b"
             ],
             [
              0.6666666666666666,
              "#ed7953"
             ],
             [
              0.7777777777777778,
              "#fb9f3a"
             ],
             [
              0.8888888888888888,
              "#fdca26"
             ],
             [
              1,
              "#f0f921"
             ]
            ],
            "type": "histogram2dcontour"
           }
          ],
          "mesh3d": [
           {
            "colorbar": {
             "outlinewidth": 0,
             "ticks": ""
            },
            "type": "mesh3d"
           }
          ],
          "parcoords": [
           {
            "line": {
             "colorbar": {
              "outlinewidth": 0,
              "ticks": ""
             }
            },
            "type": "parcoords"
           }
          ],
          "pie": [
           {
            "automargin": true,
            "type": "pie"
           }
          ],
          "scatter": [
           {
            "fillpattern": {
             "fillmode": "overlay",
             "size": 10,
             "solidity": 0.2
            },
            "type": "scatter"
           }
          ],
          "scatter3d": [
           {
            "line": {
             "colorbar": {
              "outlinewidth": 0,
              "ticks": ""
             }
            },
            "marker": {
             "colorbar": {
              "outlinewidth": 0,
              "ticks": ""
             }
            },
            "type": "scatter3d"
           }
          ],
          "scattercarpet": [
           {
            "marker": {
             "colorbar": {
              "outlinewidth": 0,
              "ticks": ""
             }
            },
            "type": "scattercarpet"
           }
          ],
          "scattergeo": [
           {
            "marker": {
             "colorbar": {
              "outlinewidth": 0,
              "ticks": ""
             }
            },
            "type": "scattergeo"
           }
          ],
          "scattergl": [
           {
            "marker": {
             "colorbar": {
              "outlinewidth": 0,
              "ticks": ""
             }
            },
            "type": "scattergl"
           }
          ],
          "scattermapbox": [
           {
            "marker": {
             "colorbar": {
              "outlinewidth": 0,
              "ticks": ""
             }
            },
            "type": "scattermapbox"
           }
          ],
          "scatterpolar": [
           {
            "marker": {
             "colorbar": {
              "outlinewidth": 0,
              "ticks": ""
             }
            },
            "type": "scatterpolar"
           }
          ],
          "scatterpolargl": [
           {
            "marker": {
             "colorbar": {
              "outlinewidth": 0,
              "ticks": ""
             }
            },
            "type": "scatterpolargl"
           }
          ],
          "scatterternary": [
           {
            "marker": {
             "colorbar": {
              "outlinewidth": 0,
              "ticks": ""
             }
            },
            "type": "scatterternary"
           }
          ],
          "surface": [
           {
            "colorbar": {
             "outlinewidth": 0,
             "ticks": ""
            },
            "colorscale": [
             [
              0,
              "#0d0887"
             ],
             [
              0.1111111111111111,
              "#46039f"
             ],
             [
              0.2222222222222222,
              "#7201a8"
             ],
             [
              0.3333333333333333,
              "#9c179e"
             ],
             [
              0.4444444444444444,
              "#bd3786"
             ],
             [
              0.5555555555555556,
              "#d8576b"
             ],
             [
              0.6666666666666666,
              "#ed7953"
             ],
             [
              0.7777777777777778,
              "#fb9f3a"
             ],
             [
              0.8888888888888888,
              "#fdca26"
             ],
             [
              1,
              "#f0f921"
             ]
            ],
            "type": "surface"
           }
          ],
          "table": [
           {
            "cells": {
             "fill": {
              "color": "#EBF0F8"
             },
             "line": {
              "color": "white"
             }
            },
            "header": {
             "fill": {
              "color": "#C8D4E3"
             },
             "line": {
              "color": "white"
             }
            },
            "type": "table"
           }
          ]
         },
         "layout": {
          "annotationdefaults": {
           "arrowcolor": "#2a3f5f",
           "arrowhead": 0,
           "arrowwidth": 1
          },
          "autotypenumbers": "strict",
          "coloraxis": {
           "colorbar": {
            "outlinewidth": 0,
            "ticks": ""
           }
          },
          "colorscale": {
           "diverging": [
            [
             0,
             "#8e0152"
            ],
            [
             0.1,
             "#c51b7d"
            ],
            [
             0.2,
             "#de77ae"
            ],
            [
             0.3,
             "#f1b6da"
            ],
            [
             0.4,
             "#fde0ef"
            ],
            [
             0.5,
             "#f7f7f7"
            ],
            [
             0.6,
             "#e6f5d0"
            ],
            [
             0.7,
             "#b8e186"
            ],
            [
             0.8,
             "#7fbc41"
            ],
            [
             0.9,
             "#4d9221"
            ],
            [
             1,
             "#276419"
            ]
           ],
           "sequential": [
            [
             0,
             "#0d0887"
            ],
            [
             0.1111111111111111,
             "#46039f"
            ],
            [
             0.2222222222222222,
             "#7201a8"
            ],
            [
             0.3333333333333333,
             "#9c179e"
            ],
            [
             0.4444444444444444,
             "#bd3786"
            ],
            [
             0.5555555555555556,
             "#d8576b"
            ],
            [
             0.6666666666666666,
             "#ed7953"
            ],
            [
             0.7777777777777778,
             "#fb9f3a"
            ],
            [
             0.8888888888888888,
             "#fdca26"
            ],
            [
             1,
             "#f0f921"
            ]
           ],
           "sequentialminus": [
            [
             0,
             "#0d0887"
            ],
            [
             0.1111111111111111,
             "#46039f"
            ],
            [
             0.2222222222222222,
             "#7201a8"
            ],
            [
             0.3333333333333333,
             "#9c179e"
            ],
            [
             0.4444444444444444,
             "#bd3786"
            ],
            [
             0.5555555555555556,
             "#d8576b"
            ],
            [
             0.6666666666666666,
             "#ed7953"
            ],
            [
             0.7777777777777778,
             "#fb9f3a"
            ],
            [
             0.8888888888888888,
             "#fdca26"
            ],
            [
             1,
             "#f0f921"
            ]
           ]
          },
          "colorway": [
           "#636efa",
           "#EF553B",
           "#00cc96",
           "#ab63fa",
           "#FFA15A",
           "#19d3f3",
           "#FF6692",
           "#B6E880",
           "#FF97FF",
           "#FECB52"
          ],
          "font": {
           "color": "#2a3f5f"
          },
          "geo": {
           "bgcolor": "white",
           "lakecolor": "white",
           "landcolor": "#E5ECF6",
           "showlakes": true,
           "showland": true,
           "subunitcolor": "white"
          },
          "hoverlabel": {
           "align": "left"
          },
          "hovermode": "closest",
          "mapbox": {
           "style": "light"
          },
          "paper_bgcolor": "white",
          "plot_bgcolor": "#E5ECF6",
          "polar": {
           "angularaxis": {
            "gridcolor": "white",
            "linecolor": "white",
            "ticks": ""
           },
           "bgcolor": "#E5ECF6",
           "radialaxis": {
            "gridcolor": "white",
            "linecolor": "white",
            "ticks": ""
           }
          },
          "scene": {
           "xaxis": {
            "backgroundcolor": "#E5ECF6",
            "gridcolor": "white",
            "gridwidth": 2,
            "linecolor": "white",
            "showbackground": true,
            "ticks": "",
            "zerolinecolor": "white"
           },
           "yaxis": {
            "backgroundcolor": "#E5ECF6",
            "gridcolor": "white",
            "gridwidth": 2,
            "linecolor": "white",
            "showbackground": true,
            "ticks": "",
            "zerolinecolor": "white"
           },
           "zaxis": {
            "backgroundcolor": "#E5ECF6",
            "gridcolor": "white",
            "gridwidth": 2,
            "linecolor": "white",
            "showbackground": true,
            "ticks": "",
            "zerolinecolor": "white"
           }
          },
          "shapedefaults": {
           "line": {
            "color": "#2a3f5f"
           }
          },
          "ternary": {
           "aaxis": {
            "gridcolor": "white",
            "linecolor": "white",
            "ticks": ""
           },
           "baxis": {
            "gridcolor": "white",
            "linecolor": "white",
            "ticks": ""
           },
           "bgcolor": "#E5ECF6",
           "caxis": {
            "gridcolor": "white",
            "linecolor": "white",
            "ticks": ""
           }
          },
          "title": {
           "x": 0.05
          },
          "xaxis": {
           "automargin": true,
           "gridcolor": "white",
           "linecolor": "white",
           "ticks": "",
           "title": {
            "standoff": 15
           },
           "zerolinecolor": "white",
           "zerolinewidth": 2
          },
          "yaxis": {
           "automargin": true,
           "gridcolor": "white",
           "linecolor": "white",
           "ticks": "",
           "title": {
            "standoff": 15
           },
           "zerolinecolor": "white",
           "zerolinewidth": 2
          }
         }
        },
        "title": {
         "text": "Number of Transactions by Payment Method"
        },
        "xaxis": {
         "anchor": "y",
         "categoryarray": [
          "Cash",
          "Transfer",
          "Credit card"
         ],
         "categoryorder": "array",
         "domain": [
          0,
          1
         ],
         "title": {
          "text": "Payment"
         }
        },
        "yaxis": {
         "anchor": "x",
         "domain": [
          0,
          1
         ],
         "title": {
          "text": "Number of Transactions(%)"
         }
        }
       }
      }
     },
     "metadata": {},
     "output_type": "display_data"
    }
   ],
   "source": [
    "import plotly.express as px\n",
    "\n",
    "# Plot the DataFrame\n",
    "payment_method = px.bar(sales.groupby('payment').count().reset_index().\n",
    "                        assign(percentage=lambda x: (x['date'] / x['date'].sum()) * 100).\n",
    "                        loc[:,[\"payment\",\"percentage\"]].sort_values(by='percentage', ascending=True), \n",
    "                        color=\"payment\", x='payment', y='percentage', title='Number of Transactions by Payment Method', \n",
    "                        labels={'payment': 'Payment','percentage': 'Number of Transactions(%)'})\n",
    "\n",
    "# Sort the bars from lowest to highest\n",
    "payment_method.show()"
   ]
  },
  {
   "attachments": {},
   "cell_type": "markdown",
   "metadata": {},
   "source": [
    "### Daily Revenue"
   ]
  },
  {
   "cell_type": "code",
   "execution_count": 139,
   "metadata": {},
   "outputs": [
    {
     "name": "stderr",
     "output_type": "stream",
     "text": [
      "C:\\Users\\abu aisha\\AppData\\Local\\Temp\\ipykernel_7000\\356656317.py:2: FutureWarning:\n",
      "\n",
      "The default value of numeric_only in DataFrameGroupBy.sum is deprecated. In a future version, numeric_only will default to False. Either specify numeric_only or select only columns which should be valid for the function.\n",
      "\n"
     ]
    },
    {
     "data": {
      "application/vnd.plotly.v1+json": {
       "config": {
        "plotlyServerURL": "https://plot.ly"
       },
       "data": [
        {
         "hovertemplate": "Date=%{x}<br>Daily Revenue=%{y}<extra></extra>",
         "legendgroup": "",
         "line": {
          "color": "#636efa",
          "dash": "solid"
         },
         "marker": {
          "symbol": "circle"
         },
         "mode": "lines",
         "name": "",
         "orientation": "v",
         "showlegend": false,
         "type": "scatter",
         "x": [
          "2021-01-06T00:00:00",
          "2021-01-07T00:00:00",
          "2021-01-08T00:00:00",
          "2021-02-06T00:00:00",
          "2021-02-07T00:00:00",
          "2021-02-08T00:00:00",
          "2021-03-06T00:00:00",
          "2021-03-07T00:00:00",
          "2021-03-08T00:00:00",
          "2021-04-06T00:00:00",
          "2021-04-07T00:00:00",
          "2021-04-08T00:00:00",
          "2021-05-06T00:00:00",
          "2021-05-07T00:00:00",
          "2021-05-08T00:00:00",
          "2021-06-06T00:00:00",
          "2021-06-07T00:00:00",
          "2021-06-08T00:00:00",
          "2021-06-13T00:00:00",
          "2021-06-14T00:00:00",
          "2021-06-15T00:00:00",
          "2021-06-16T00:00:00",
          "2021-06-17T00:00:00",
          "2021-06-18T00:00:00",
          "2021-06-19T00:00:00",
          "2021-06-20T00:00:00",
          "2021-06-21T00:00:00",
          "2021-06-22T00:00:00",
          "2021-06-23T00:00:00",
          "2021-06-24T00:00:00",
          "2021-06-25T00:00:00",
          "2021-06-26T00:00:00",
          "2021-06-27T00:00:00",
          "2021-06-28T00:00:00",
          "2021-06-29T00:00:00",
          "2021-06-30T00:00:00",
          "2021-07-06T00:00:00",
          "2021-07-07T00:00:00",
          "2021-07-08T00:00:00",
          "2021-07-13T00:00:00",
          "2021-07-14T00:00:00",
          "2021-07-15T00:00:00",
          "2021-07-16T00:00:00",
          "2021-07-17T00:00:00",
          "2021-07-18T00:00:00",
          "2021-07-19T00:00:00",
          "2021-07-20T00:00:00",
          "2021-07-21T00:00:00",
          "2021-07-22T00:00:00",
          "2021-07-23T00:00:00",
          "2021-07-24T00:00:00",
          "2021-07-25T00:00:00",
          "2021-07-26T00:00:00",
          "2021-07-27T00:00:00",
          "2021-07-28T00:00:00",
          "2021-07-29T00:00:00",
          "2021-07-30T00:00:00",
          "2021-07-31T00:00:00",
          "2021-08-06T00:00:00",
          "2021-08-07T00:00:00",
          "2021-08-08T00:00:00",
          "2021-08-13T00:00:00",
          "2021-08-14T00:00:00",
          "2021-08-15T00:00:00",
          "2021-08-16T00:00:00",
          "2021-08-17T00:00:00",
          "2021-08-18T00:00:00",
          "2021-08-19T00:00:00",
          "2021-08-20T00:00:00",
          "2021-08-21T00:00:00",
          "2021-08-22T00:00:00",
          "2021-08-23T00:00:00",
          "2021-08-24T00:00:00",
          "2021-08-25T00:00:00",
          "2021-08-26T00:00:00",
          "2021-08-27T00:00:00",
          "2021-08-28T00:00:00",
          "2021-09-06T00:00:00",
          "2021-09-07T00:00:00",
          "2021-09-08T00:00:00",
          "2021-10-06T00:00:00",
          "2021-10-07T00:00:00",
          "2021-10-08T00:00:00",
          "2021-11-06T00:00:00",
          "2021-11-07T00:00:00",
          "2021-11-08T00:00:00",
          "2021-12-06T00:00:00",
          "2021-12-07T00:00:00",
          "2021-12-08T00:00:00"
         ],
         "xaxis": "x",
         "y": [
          5378.29,
          4511.43,
          4599.58,
          1297.1399999999999,
          4125.26,
          5282.8099999999995,
          1054.85,
          4206.3,
          8417.08,
          899.4,
          3356.47,
          4911.22,
          2893.56,
          1940.12,
          1334.91,
          4304.7300000000005,
          2396.37,
          2661.0099999999998,
          1578.94,
          2413.74,
          6727.1,
          3180.95,
          2880.03,
          4132.7,
          3611.84,
          3961.27,
          1360.56,
          1528.01,
          3591.77,
          3268.62,
          3391.14,
          3363.71,
          4038.69,
          6123.79,
          3316.67,
          2857.32,
          2519.71,
          3774.96,
          6128.64,
          2304.1,
          979.4799999999999,
          2894.15,
          5095.21,
          1224.08,
          3451.84,
          2091.44,
          3866.54,
          3341.6,
          779.57,
          2861.16,
          1114.71,
          1903.15,
          3648.33,
          2254.16,
          4545.76,
          1404.5900000000001,
          1795.85,
          5219.7,
          5073.56,
          4192.56,
          5041.6900000000005,
          4097.66,
          1702.75,
          3079.2400000000002,
          976.9300000000001,
          3974.67,
          3940.68,
          2390.95,
          3008.3500000000004,
          3232.53,
          2678.83,
          1271.85,
          3633.7,
          2340.66,
          1267.22,
          3467.13,
          4399.7,
          2391.44,
          3093.15,
          3169.9300000000003,
          3241.03,
          4761.4,
          5443.33,
          1683.24,
          3157.42,
          1697.4899999999998,
          3256.23,
          3257.05,
          6094.52
         ],
         "yaxis": "y"
        }
       ],
       "layout": {
        "legend": {
         "tracegroupgap": 0
        },
        "template": {
         "data": {
          "bar": [
           {
            "error_x": {
             "color": "#2a3f5f"
            },
            "error_y": {
             "color": "#2a3f5f"
            },
            "marker": {
             "line": {
              "color": "#E5ECF6",
              "width": 0.5
             },
             "pattern": {
              "fillmode": "overlay",
              "size": 10,
              "solidity": 0.2
             }
            },
            "type": "bar"
           }
          ],
          "barpolar": [
           {
            "marker": {
             "line": {
              "color": "#E5ECF6",
              "width": 0.5
             },
             "pattern": {
              "fillmode": "overlay",
              "size": 10,
              "solidity": 0.2
             }
            },
            "type": "barpolar"
           }
          ],
          "carpet": [
           {
            "aaxis": {
             "endlinecolor": "#2a3f5f",
             "gridcolor": "white",
             "linecolor": "white",
             "minorgridcolor": "white",
             "startlinecolor": "#2a3f5f"
            },
            "baxis": {
             "endlinecolor": "#2a3f5f",
             "gridcolor": "white",
             "linecolor": "white",
             "minorgridcolor": "white",
             "startlinecolor": "#2a3f5f"
            },
            "type": "carpet"
           }
          ],
          "choropleth": [
           {
            "colorbar": {
             "outlinewidth": 0,
             "ticks": ""
            },
            "type": "choropleth"
           }
          ],
          "contour": [
           {
            "colorbar": {
             "outlinewidth": 0,
             "ticks": ""
            },
            "colorscale": [
             [
              0,
              "#0d0887"
             ],
             [
              0.1111111111111111,
              "#46039f"
             ],
             [
              0.2222222222222222,
              "#7201a8"
             ],
             [
              0.3333333333333333,
              "#9c179e"
             ],
             [
              0.4444444444444444,
              "#bd3786"
             ],
             [
              0.5555555555555556,
              "#d8576b"
             ],
             [
              0.6666666666666666,
              "#ed7953"
             ],
             [
              0.7777777777777778,
              "#fb9f3a"
             ],
             [
              0.8888888888888888,
              "#fdca26"
             ],
             [
              1,
              "#f0f921"
             ]
            ],
            "type": "contour"
           }
          ],
          "contourcarpet": [
           {
            "colorbar": {
             "outlinewidth": 0,
             "ticks": ""
            },
            "type": "contourcarpet"
           }
          ],
          "heatmap": [
           {
            "colorbar": {
             "outlinewidth": 0,
             "ticks": ""
            },
            "colorscale": [
             [
              0,
              "#0d0887"
             ],
             [
              0.1111111111111111,
              "#46039f"
             ],
             [
              0.2222222222222222,
              "#7201a8"
             ],
             [
              0.3333333333333333,
              "#9c179e"
             ],
             [
              0.4444444444444444,
              "#bd3786"
             ],
             [
              0.5555555555555556,
              "#d8576b"
             ],
             [
              0.6666666666666666,
              "#ed7953"
             ],
             [
              0.7777777777777778,
              "#fb9f3a"
             ],
             [
              0.8888888888888888,
              "#fdca26"
             ],
             [
              1,
              "#f0f921"
             ]
            ],
            "type": "heatmap"
           }
          ],
          "heatmapgl": [
           {
            "colorbar": {
             "outlinewidth": 0,
             "ticks": ""
            },
            "colorscale": [
             [
              0,
              "#0d0887"
             ],
             [
              0.1111111111111111,
              "#46039f"
             ],
             [
              0.2222222222222222,
              "#7201a8"
             ],
             [
              0.3333333333333333,
              "#9c179e"
             ],
             [
              0.4444444444444444,
              "#bd3786"
             ],
             [
              0.5555555555555556,
              "#d8576b"
             ],
             [
              0.6666666666666666,
              "#ed7953"
             ],
             [
              0.7777777777777778,
              "#fb9f3a"
             ],
             [
              0.8888888888888888,
              "#fdca26"
             ],
             [
              1,
              "#f0f921"
             ]
            ],
            "type": "heatmapgl"
           }
          ],
          "histogram": [
           {
            "marker": {
             "pattern": {
              "fillmode": "overlay",
              "size": 10,
              "solidity": 0.2
             }
            },
            "type": "histogram"
           }
          ],
          "histogram2d": [
           {
            "colorbar": {
             "outlinewidth": 0,
             "ticks": ""
            },
            "colorscale": [
             [
              0,
              "#0d0887"
             ],
             [
              0.1111111111111111,
              "#46039f"
             ],
             [
              0.2222222222222222,
              "#7201a8"
             ],
             [
              0.3333333333333333,
              "#9c179e"
             ],
             [
              0.4444444444444444,
              "#bd3786"
             ],
             [
              0.5555555555555556,
              "#d8576b"
             ],
             [
              0.6666666666666666,
              "#ed7953"
             ],
             [
              0.7777777777777778,
              "#fb9f3a"
             ],
             [
              0.8888888888888888,
              "#fdca26"
             ],
             [
              1,
              "#f0f921"
             ]
            ],
            "type": "histogram2d"
           }
          ],
          "histogram2dcontour": [
           {
            "colorbar": {
             "outlinewidth": 0,
             "ticks": ""
            },
            "colorscale": [
             [
              0,
              "#0d0887"
             ],
             [
              0.1111111111111111,
              "#46039f"
             ],
             [
              0.2222222222222222,
              "#7201a8"
             ],
             [
              0.3333333333333333,
              "#9c179e"
             ],
             [
              0.4444444444444444,
              "#bd3786"
             ],
             [
              0.5555555555555556,
              "#d8576b"
             ],
             [
              0.6666666666666666,
              "#ed7953"
             ],
             [
              0.7777777777777778,
              "#fb9f3a"
             ],
             [
              0.8888888888888888,
              "#fdca26"
             ],
             [
              1,
              "#f0f921"
             ]
            ],
            "type": "histogram2dcontour"
           }
          ],
          "mesh3d": [
           {
            "colorbar": {
             "outlinewidth": 0,
             "ticks": ""
            },
            "type": "mesh3d"
           }
          ],
          "parcoords": [
           {
            "line": {
             "colorbar": {
              "outlinewidth": 0,
              "ticks": ""
             }
            },
            "type": "parcoords"
           }
          ],
          "pie": [
           {
            "automargin": true,
            "type": "pie"
           }
          ],
          "scatter": [
           {
            "fillpattern": {
             "fillmode": "overlay",
             "size": 10,
             "solidity": 0.2
            },
            "type": "scatter"
           }
          ],
          "scatter3d": [
           {
            "line": {
             "colorbar": {
              "outlinewidth": 0,
              "ticks": ""
             }
            },
            "marker": {
             "colorbar": {
              "outlinewidth": 0,
              "ticks": ""
             }
            },
            "type": "scatter3d"
           }
          ],
          "scattercarpet": [
           {
            "marker": {
             "colorbar": {
              "outlinewidth": 0,
              "ticks": ""
             }
            },
            "type": "scattercarpet"
           }
          ],
          "scattergeo": [
           {
            "marker": {
             "colorbar": {
              "outlinewidth": 0,
              "ticks": ""
             }
            },
            "type": "scattergeo"
           }
          ],
          "scattergl": [
           {
            "marker": {
             "colorbar": {
              "outlinewidth": 0,
              "ticks": ""
             }
            },
            "type": "scattergl"
           }
          ],
          "scattermapbox": [
           {
            "marker": {
             "colorbar": {
              "outlinewidth": 0,
              "ticks": ""
             }
            },
            "type": "scattermapbox"
           }
          ],
          "scatterpolar": [
           {
            "marker": {
             "colorbar": {
              "outlinewidth": 0,
              "ticks": ""
             }
            },
            "type": "scatterpolar"
           }
          ],
          "scatterpolargl": [
           {
            "marker": {
             "colorbar": {
              "outlinewidth": 0,
              "ticks": ""
             }
            },
            "type": "scatterpolargl"
           }
          ],
          "scatterternary": [
           {
            "marker": {
             "colorbar": {
              "outlinewidth": 0,
              "ticks": ""
             }
            },
            "type": "scatterternary"
           }
          ],
          "surface": [
           {
            "colorbar": {
             "outlinewidth": 0,
             "ticks": ""
            },
            "colorscale": [
             [
              0,
              "#0d0887"
             ],
             [
              0.1111111111111111,
              "#46039f"
             ],
             [
              0.2222222222222222,
              "#7201a8"
             ],
             [
              0.3333333333333333,
              "#9c179e"
             ],
             [
              0.4444444444444444,
              "#bd3786"
             ],
             [
              0.5555555555555556,
              "#d8576b"
             ],
             [
              0.6666666666666666,
              "#ed7953"
             ],
             [
              0.7777777777777778,
              "#fb9f3a"
             ],
             [
              0.8888888888888888,
              "#fdca26"
             ],
             [
              1,
              "#f0f921"
             ]
            ],
            "type": "surface"
           }
          ],
          "table": [
           {
            "cells": {
             "fill": {
              "color": "#EBF0F8"
             },
             "line": {
              "color": "white"
             }
            },
            "header": {
             "fill": {
              "color": "#C8D4E3"
             },
             "line": {
              "color": "white"
             }
            },
            "type": "table"
           }
          ]
         },
         "layout": {
          "annotationdefaults": {
           "arrowcolor": "#2a3f5f",
           "arrowhead": 0,
           "arrowwidth": 1
          },
          "autotypenumbers": "strict",
          "coloraxis": {
           "colorbar": {
            "outlinewidth": 0,
            "ticks": ""
           }
          },
          "colorscale": {
           "diverging": [
            [
             0,
             "#8e0152"
            ],
            [
             0.1,
             "#c51b7d"
            ],
            [
             0.2,
             "#de77ae"
            ],
            [
             0.3,
             "#f1b6da"
            ],
            [
             0.4,
             "#fde0ef"
            ],
            [
             0.5,
             "#f7f7f7"
            ],
            [
             0.6,
             "#e6f5d0"
            ],
            [
             0.7,
             "#b8e186"
            ],
            [
             0.8,
             "#7fbc41"
            ],
            [
             0.9,
             "#4d9221"
            ],
            [
             1,
             "#276419"
            ]
           ],
           "sequential": [
            [
             0,
             "#0d0887"
            ],
            [
             0.1111111111111111,
             "#46039f"
            ],
            [
             0.2222222222222222,
             "#7201a8"
            ],
            [
             0.3333333333333333,
             "#9c179e"
            ],
            [
             0.4444444444444444,
             "#bd3786"
            ],
            [
             0.5555555555555556,
             "#d8576b"
            ],
            [
             0.6666666666666666,
             "#ed7953"
            ],
            [
             0.7777777777777778,
             "#fb9f3a"
            ],
            [
             0.8888888888888888,
             "#fdca26"
            ],
            [
             1,
             "#f0f921"
            ]
           ],
           "sequentialminus": [
            [
             0,
             "#0d0887"
            ],
            [
             0.1111111111111111,
             "#46039f"
            ],
            [
             0.2222222222222222,
             "#7201a8"
            ],
            [
             0.3333333333333333,
             "#9c179e"
            ],
            [
             0.4444444444444444,
             "#bd3786"
            ],
            [
             0.5555555555555556,
             "#d8576b"
            ],
            [
             0.6666666666666666,
             "#ed7953"
            ],
            [
             0.7777777777777778,
             "#fb9f3a"
            ],
            [
             0.8888888888888888,
             "#fdca26"
            ],
            [
             1,
             "#f0f921"
            ]
           ]
          },
          "colorway": [
           "#636efa",
           "#EF553B",
           "#00cc96",
           "#ab63fa",
           "#FFA15A",
           "#19d3f3",
           "#FF6692",
           "#B6E880",
           "#FF97FF",
           "#FECB52"
          ],
          "font": {
           "color": "#2a3f5f"
          },
          "geo": {
           "bgcolor": "white",
           "lakecolor": "white",
           "landcolor": "#E5ECF6",
           "showlakes": true,
           "showland": true,
           "subunitcolor": "white"
          },
          "hoverlabel": {
           "align": "left"
          },
          "hovermode": "closest",
          "mapbox": {
           "style": "light"
          },
          "paper_bgcolor": "white",
          "plot_bgcolor": "#E5ECF6",
          "polar": {
           "angularaxis": {
            "gridcolor": "white",
            "linecolor": "white",
            "ticks": ""
           },
           "bgcolor": "#E5ECF6",
           "radialaxis": {
            "gridcolor": "white",
            "linecolor": "white",
            "ticks": ""
           }
          },
          "scene": {
           "xaxis": {
            "backgroundcolor": "#E5ECF6",
            "gridcolor": "white",
            "gridwidth": 2,
            "linecolor": "white",
            "showbackground": true,
            "ticks": "",
            "zerolinecolor": "white"
           },
           "yaxis": {
            "backgroundcolor": "#E5ECF6",
            "gridcolor": "white",
            "gridwidth": 2,
            "linecolor": "white",
            "showbackground": true,
            "ticks": "",
            "zerolinecolor": "white"
           },
           "zaxis": {
            "backgroundcolor": "#E5ECF6",
            "gridcolor": "white",
            "gridwidth": 2,
            "linecolor": "white",
            "showbackground": true,
            "ticks": "",
            "zerolinecolor": "white"
           }
          },
          "shapedefaults": {
           "line": {
            "color": "#2a3f5f"
           }
          },
          "ternary": {
           "aaxis": {
            "gridcolor": "white",
            "linecolor": "white",
            "ticks": ""
           },
           "baxis": {
            "gridcolor": "white",
            "linecolor": "white",
            "ticks": ""
           },
           "bgcolor": "#E5ECF6",
           "caxis": {
            "gridcolor": "white",
            "linecolor": "white",
            "ticks": ""
           }
          },
          "title": {
           "x": 0.05
          },
          "xaxis": {
           "automargin": true,
           "gridcolor": "white",
           "linecolor": "white",
           "ticks": "",
           "title": {
            "standoff": 15
           },
           "zerolinecolor": "white",
           "zerolinewidth": 2
          },
          "yaxis": {
           "automargin": true,
           "gridcolor": "white",
           "linecolor": "white",
           "ticks": "",
           "title": {
            "standoff": 15
           },
           "zerolinecolor": "white",
           "zerolinewidth": 2
          }
         }
        },
        "title": {
         "text": "Daily Revenue"
        },
        "xaxis": {
         "anchor": "y",
         "domain": [
          0,
          1
         ],
         "title": {
          "text": "Date"
         }
        },
        "yaxis": {
         "anchor": "x",
         "domain": [
          0,
          1
         ],
         "title": {
          "text": "Daily Revenue"
         }
        }
       }
      }
     },
     "metadata": {},
     "output_type": "display_data"
    }
   ],
   "source": [
    "# Plot the DataFrame\n",
    "daily_revenue = px.line(sales.groupby('date').sum().reset_index().loc[:,[\"date\",\"total\"]], \n",
    "                        x='date', y='total', title='Daily Revenue',\n",
    "                        labels={'date': 'Date','total': 'Daily Revenue'})\n",
    "\n",
    "# Show the plot\n",
    "daily_revenue.show()"
   ]
  },
  {
   "attachments": {},
   "cell_type": "markdown",
   "metadata": {},
   "source": []
  },
  {
   "attachments": {},
   "cell_type": "markdown",
   "metadata": {},
   "source": [
    "### Days of the week with higher revenue"
   ]
  },
  {
   "cell_type": "code",
   "execution_count": 140,
   "metadata": {},
   "outputs": [
    {
     "data": {
      "application/vnd.plotly.v1+json": {
       "config": {
        "plotlyServerURL": "https://plot.ly"
       },
       "data": [
        {
         "alignmentgroup": "True",
         "hovertemplate": "Day of the Week=%{x}<br>Number of Transactions(%)=%{y}<extra></extra>",
         "legendgroup": "Monday",
         "marker": {
          "color": "#636efa",
          "pattern": {
           "shape": ""
          }
         },
         "name": "Monday",
         "offsetgroup": "Monday",
         "orientation": "v",
         "showlegend": true,
         "textposition": "auto",
         "type": "bar",
         "x": [
          "Monday"
         ],
         "xaxis": "x",
         "y": [
          14.399999999999999
         ],
         "yaxis": "y"
        },
        {
         "alignmentgroup": "True",
         "hovertemplate": "Day of the Week=%{x}<br>Number of Transactions(%)=%{y}<extra></extra>",
         "legendgroup": "Tuesday",
         "marker": {
          "color": "#EF553B",
          "pattern": {
           "shape": ""
          }
         },
         "name": "Tuesday",
         "offsetgroup": "Tuesday",
         "orientation": "v",
         "showlegend": true,
         "textposition": "auto",
         "type": "bar",
         "x": [
          "Tuesday"
         ],
         "xaxis": "x",
         "y": [
          13.3
         ],
         "yaxis": "y"
        },
        {
         "alignmentgroup": "True",
         "hovertemplate": "Day of the Week=%{x}<br>Number of Transactions(%)=%{y}<extra></extra>",
         "legendgroup": "Wednesday",
         "marker": {
          "color": "#00cc96",
          "pattern": {
           "shape": ""
          }
         },
         "name": "Wednesday",
         "offsetgroup": "Wednesday",
         "orientation": "v",
         "showlegend": true,
         "textposition": "auto",
         "type": "bar",
         "x": [
          "Wednesday"
         ],
         "xaxis": "x",
         "y": [
          17
         ],
         "yaxis": "y"
        },
        {
         "alignmentgroup": "True",
         "hovertemplate": "Day of the Week=%{x}<br>Number of Transactions(%)=%{y}<extra></extra>",
         "legendgroup": "Thursday",
         "marker": {
          "color": "#ab63fa",
          "pattern": {
           "shape": ""
          }
         },
         "name": "Thursday",
         "offsetgroup": "Thursday",
         "orientation": "v",
         "showlegend": true,
         "textposition": "auto",
         "type": "bar",
         "x": [
          "Thursday"
         ],
         "xaxis": "x",
         "y": [
          12.6
         ],
         "yaxis": "y"
        },
        {
         "alignmentgroup": "True",
         "hovertemplate": "Day of the Week=%{x}<br>Number of Transactions(%)=%{y}<extra></extra>",
         "legendgroup": "Friday",
         "marker": {
          "color": "#FFA15A",
          "pattern": {
           "shape": ""
          }
         },
         "name": "Friday",
         "offsetgroup": "Friday",
         "orientation": "v",
         "showlegend": true,
         "textposition": "auto",
         "type": "bar",
         "x": [
          "Friday"
         ],
         "xaxis": "x",
         "y": [
          15.1
         ],
         "yaxis": "y"
        },
        {
         "alignmentgroup": "True",
         "hovertemplate": "Day of the Week=%{x}<br>Number of Transactions(%)=%{y}<extra></extra>",
         "legendgroup": "Saturday",
         "marker": {
          "color": "#19d3f3",
          "pattern": {
           "shape": ""
          }
         },
         "name": "Saturday",
         "offsetgroup": "Saturday",
         "orientation": "v",
         "showlegend": true,
         "textposition": "auto",
         "type": "bar",
         "x": [
          "Saturday"
         ],
         "xaxis": "x",
         "y": [
          15.1
         ],
         "yaxis": "y"
        },
        {
         "alignmentgroup": "True",
         "hovertemplate": "Day of the Week=%{x}<br>Number of Transactions(%)=%{y}<extra></extra>",
         "legendgroup": "Sunday",
         "marker": {
          "color": "#FF6692",
          "pattern": {
           "shape": ""
          }
         },
         "name": "Sunday",
         "offsetgroup": "Sunday",
         "orientation": "v",
         "showlegend": true,
         "textposition": "auto",
         "type": "bar",
         "x": [
          "Sunday"
         ],
         "xaxis": "x",
         "y": [
          12.5
         ],
         "yaxis": "y"
        }
       ],
       "layout": {
        "barmode": "relative",
        "legend": {
         "title": {
          "text": "Day of the Week"
         },
         "tracegroupgap": 0
        },
        "template": {
         "data": {
          "bar": [
           {
            "error_x": {
             "color": "#2a3f5f"
            },
            "error_y": {
             "color": "#2a3f5f"
            },
            "marker": {
             "line": {
              "color": "#E5ECF6",
              "width": 0.5
             },
             "pattern": {
              "fillmode": "overlay",
              "size": 10,
              "solidity": 0.2
             }
            },
            "type": "bar"
           }
          ],
          "barpolar": [
           {
            "marker": {
             "line": {
              "color": "#E5ECF6",
              "width": 0.5
             },
             "pattern": {
              "fillmode": "overlay",
              "size": 10,
              "solidity": 0.2
             }
            },
            "type": "barpolar"
           }
          ],
          "carpet": [
           {
            "aaxis": {
             "endlinecolor": "#2a3f5f",
             "gridcolor": "white",
             "linecolor": "white",
             "minorgridcolor": "white",
             "startlinecolor": "#2a3f5f"
            },
            "baxis": {
             "endlinecolor": "#2a3f5f",
             "gridcolor": "white",
             "linecolor": "white",
             "minorgridcolor": "white",
             "startlinecolor": "#2a3f5f"
            },
            "type": "carpet"
           }
          ],
          "choropleth": [
           {
            "colorbar": {
             "outlinewidth": 0,
             "ticks": ""
            },
            "type": "choropleth"
           }
          ],
          "contour": [
           {
            "colorbar": {
             "outlinewidth": 0,
             "ticks": ""
            },
            "colorscale": [
             [
              0,
              "#0d0887"
             ],
             [
              0.1111111111111111,
              "#46039f"
             ],
             [
              0.2222222222222222,
              "#7201a8"
             ],
             [
              0.3333333333333333,
              "#9c179e"
             ],
             [
              0.4444444444444444,
              "#bd3786"
             ],
             [
              0.5555555555555556,
              "#d8576b"
             ],
             [
              0.6666666666666666,
              "#ed7953"
             ],
             [
              0.7777777777777778,
              "#fb9f3a"
             ],
             [
              0.8888888888888888,
              "#fdca26"
             ],
             [
              1,
              "#f0f921"
             ]
            ],
            "type": "contour"
           }
          ],
          "contourcarpet": [
           {
            "colorbar": {
             "outlinewidth": 0,
             "ticks": ""
            },
            "type": "contourcarpet"
           }
          ],
          "heatmap": [
           {
            "colorbar": {
             "outlinewidth": 0,
             "ticks": ""
            },
            "colorscale": [
             [
              0,
              "#0d0887"
             ],
             [
              0.1111111111111111,
              "#46039f"
             ],
             [
              0.2222222222222222,
              "#7201a8"
             ],
             [
              0.3333333333333333,
              "#9c179e"
             ],
             [
              0.4444444444444444,
              "#bd3786"
             ],
             [
              0.5555555555555556,
              "#d8576b"
             ],
             [
              0.6666666666666666,
              "#ed7953"
             ],
             [
              0.7777777777777778,
              "#fb9f3a"
             ],
             [
              0.8888888888888888,
              "#fdca26"
             ],
             [
              1,
              "#f0f921"
             ]
            ],
            "type": "heatmap"
           }
          ],
          "heatmapgl": [
           {
            "colorbar": {
             "outlinewidth": 0,
             "ticks": ""
            },
            "colorscale": [
             [
              0,
              "#0d0887"
             ],
             [
              0.1111111111111111,
              "#46039f"
             ],
             [
              0.2222222222222222,
              "#7201a8"
             ],
             [
              0.3333333333333333,
              "#9c179e"
             ],
             [
              0.4444444444444444,
              "#bd3786"
             ],
             [
              0.5555555555555556,
              "#d8576b"
             ],
             [
              0.6666666666666666,
              "#ed7953"
             ],
             [
              0.7777777777777778,
              "#fb9f3a"
             ],
             [
              0.8888888888888888,
              "#fdca26"
             ],
             [
              1,
              "#f0f921"
             ]
            ],
            "type": "heatmapgl"
           }
          ],
          "histogram": [
           {
            "marker": {
             "pattern": {
              "fillmode": "overlay",
              "size": 10,
              "solidity": 0.2
             }
            },
            "type": "histogram"
           }
          ],
          "histogram2d": [
           {
            "colorbar": {
             "outlinewidth": 0,
             "ticks": ""
            },
            "colorscale": [
             [
              0,
              "#0d0887"
             ],
             [
              0.1111111111111111,
              "#46039f"
             ],
             [
              0.2222222222222222,
              "#7201a8"
             ],
             [
              0.3333333333333333,
              "#9c179e"
             ],
             [
              0.4444444444444444,
              "#bd3786"
             ],
             [
              0.5555555555555556,
              "#d8576b"
             ],
             [
              0.6666666666666666,
              "#ed7953"
             ],
             [
              0.7777777777777778,
              "#fb9f3a"
             ],
             [
              0.8888888888888888,
              "#fdca26"
             ],
             [
              1,
              "#f0f921"
             ]
            ],
            "type": "histogram2d"
           }
          ],
          "histogram2dcontour": [
           {
            "colorbar": {
             "outlinewidth": 0,
             "ticks": ""
            },
            "colorscale": [
             [
              0,
              "#0d0887"
             ],
             [
              0.1111111111111111,
              "#46039f"
             ],
             [
              0.2222222222222222,
              "#7201a8"
             ],
             [
              0.3333333333333333,
              "#9c179e"
             ],
             [
              0.4444444444444444,
              "#bd3786"
             ],
             [
              0.5555555555555556,
              "#d8576b"
             ],
             [
              0.6666666666666666,
              "#ed7953"
             ],
             [
              0.7777777777777778,
              "#fb9f3a"
             ],
             [
              0.8888888888888888,
              "#fdca26"
             ],
             [
              1,
              "#f0f921"
             ]
            ],
            "type": "histogram2dcontour"
           }
          ],
          "mesh3d": [
           {
            "colorbar": {
             "outlinewidth": 0,
             "ticks": ""
            },
            "type": "mesh3d"
           }
          ],
          "parcoords": [
           {
            "line": {
             "colorbar": {
              "outlinewidth": 0,
              "ticks": ""
             }
            },
            "type": "parcoords"
           }
          ],
          "pie": [
           {
            "automargin": true,
            "type": "pie"
           }
          ],
          "scatter": [
           {
            "fillpattern": {
             "fillmode": "overlay",
             "size": 10,
             "solidity": 0.2
            },
            "type": "scatter"
           }
          ],
          "scatter3d": [
           {
            "line": {
             "colorbar": {
              "outlinewidth": 0,
              "ticks": ""
             }
            },
            "marker": {
             "colorbar": {
              "outlinewidth": 0,
              "ticks": ""
             }
            },
            "type": "scatter3d"
           }
          ],
          "scattercarpet": [
           {
            "marker": {
             "colorbar": {
              "outlinewidth": 0,
              "ticks": ""
             }
            },
            "type": "scattercarpet"
           }
          ],
          "scattergeo": [
           {
            "marker": {
             "colorbar": {
              "outlinewidth": 0,
              "ticks": ""
             }
            },
            "type": "scattergeo"
           }
          ],
          "scattergl": [
           {
            "marker": {
             "colorbar": {
              "outlinewidth": 0,
              "ticks": ""
             }
            },
            "type": "scattergl"
           }
          ],
          "scattermapbox": [
           {
            "marker": {
             "colorbar": {
              "outlinewidth": 0,
              "ticks": ""
             }
            },
            "type": "scattermapbox"
           }
          ],
          "scatterpolar": [
           {
            "marker": {
             "colorbar": {
              "outlinewidth": 0,
              "ticks": ""
             }
            },
            "type": "scatterpolar"
           }
          ],
          "scatterpolargl": [
           {
            "marker": {
             "colorbar": {
              "outlinewidth": 0,
              "ticks": ""
             }
            },
            "type": "scatterpolargl"
           }
          ],
          "scatterternary": [
           {
            "marker": {
             "colorbar": {
              "outlinewidth": 0,
              "ticks": ""
             }
            },
            "type": "scatterternary"
           }
          ],
          "surface": [
           {
            "colorbar": {
             "outlinewidth": 0,
             "ticks": ""
            },
            "colorscale": [
             [
              0,
              "#0d0887"
             ],
             [
              0.1111111111111111,
              "#46039f"
             ],
             [
              0.2222222222222222,
              "#7201a8"
             ],
             [
              0.3333333333333333,
              "#9c179e"
             ],
             [
              0.4444444444444444,
              "#bd3786"
             ],
             [
              0.5555555555555556,
              "#d8576b"
             ],
             [
              0.6666666666666666,
              "#ed7953"
             ],
             [
              0.7777777777777778,
              "#fb9f3a"
             ],
             [
              0.8888888888888888,
              "#fdca26"
             ],
             [
              1,
              "#f0f921"
             ]
            ],
            "type": "surface"
           }
          ],
          "table": [
           {
            "cells": {
             "fill": {
              "color": "#EBF0F8"
             },
             "line": {
              "color": "white"
             }
            },
            "header": {
             "fill": {
              "color": "#C8D4E3"
             },
             "line": {
              "color": "white"
             }
            },
            "type": "table"
           }
          ]
         },
         "layout": {
          "annotationdefaults": {
           "arrowcolor": "#2a3f5f",
           "arrowhead": 0,
           "arrowwidth": 1
          },
          "autotypenumbers": "strict",
          "coloraxis": {
           "colorbar": {
            "outlinewidth": 0,
            "ticks": ""
           }
          },
          "colorscale": {
           "diverging": [
            [
             0,
             "#8e0152"
            ],
            [
             0.1,
             "#c51b7d"
            ],
            [
             0.2,
             "#de77ae"
            ],
            [
             0.3,
             "#f1b6da"
            ],
            [
             0.4,
             "#fde0ef"
            ],
            [
             0.5,
             "#f7f7f7"
            ],
            [
             0.6,
             "#e6f5d0"
            ],
            [
             0.7,
             "#b8e186"
            ],
            [
             0.8,
             "#7fbc41"
            ],
            [
             0.9,
             "#4d9221"
            ],
            [
             1,
             "#276419"
            ]
           ],
           "sequential": [
            [
             0,
             "#0d0887"
            ],
            [
             0.1111111111111111,
             "#46039f"
            ],
            [
             0.2222222222222222,
             "#7201a8"
            ],
            [
             0.3333333333333333,
             "#9c179e"
            ],
            [
             0.4444444444444444,
             "#bd3786"
            ],
            [
             0.5555555555555556,
             "#d8576b"
            ],
            [
             0.6666666666666666,
             "#ed7953"
            ],
            [
             0.7777777777777778,
             "#fb9f3a"
            ],
            [
             0.8888888888888888,
             "#fdca26"
            ],
            [
             1,
             "#f0f921"
            ]
           ],
           "sequentialminus": [
            [
             0,
             "#0d0887"
            ],
            [
             0.1111111111111111,
             "#46039f"
            ],
            [
             0.2222222222222222,
             "#7201a8"
            ],
            [
             0.3333333333333333,
             "#9c179e"
            ],
            [
             0.4444444444444444,
             "#bd3786"
            ],
            [
             0.5555555555555556,
             "#d8576b"
            ],
            [
             0.6666666666666666,
             "#ed7953"
            ],
            [
             0.7777777777777778,
             "#fb9f3a"
            ],
            [
             0.8888888888888888,
             "#fdca26"
            ],
            [
             1,
             "#f0f921"
            ]
           ]
          },
          "colorway": [
           "#636efa",
           "#EF553B",
           "#00cc96",
           "#ab63fa",
           "#FFA15A",
           "#19d3f3",
           "#FF6692",
           "#B6E880",
           "#FF97FF",
           "#FECB52"
          ],
          "font": {
           "color": "#2a3f5f"
          },
          "geo": {
           "bgcolor": "white",
           "lakecolor": "white",
           "landcolor": "#E5ECF6",
           "showlakes": true,
           "showland": true,
           "subunitcolor": "white"
          },
          "hoverlabel": {
           "align": "left"
          },
          "hovermode": "closest",
          "mapbox": {
           "style": "light"
          },
          "paper_bgcolor": "white",
          "plot_bgcolor": "#E5ECF6",
          "polar": {
           "angularaxis": {
            "gridcolor": "white",
            "linecolor": "white",
            "ticks": ""
           },
           "bgcolor": "#E5ECF6",
           "radialaxis": {
            "gridcolor": "white",
            "linecolor": "white",
            "ticks": ""
           }
          },
          "scene": {
           "xaxis": {
            "backgroundcolor": "#E5ECF6",
            "gridcolor": "white",
            "gridwidth": 2,
            "linecolor": "white",
            "showbackground": true,
            "ticks": "",
            "zerolinecolor": "white"
           },
           "yaxis": {
            "backgroundcolor": "#E5ECF6",
            "gridcolor": "white",
            "gridwidth": 2,
            "linecolor": "white",
            "showbackground": true,
            "ticks": "",
            "zerolinecolor": "white"
           },
           "zaxis": {
            "backgroundcolor": "#E5ECF6",
            "gridcolor": "white",
            "gridwidth": 2,
            "linecolor": "white",
            "showbackground": true,
            "ticks": "",
            "zerolinecolor": "white"
           }
          },
          "shapedefaults": {
           "line": {
            "color": "#2a3f5f"
           }
          },
          "ternary": {
           "aaxis": {
            "gridcolor": "white",
            "linecolor": "white",
            "ticks": ""
           },
           "baxis": {
            "gridcolor": "white",
            "linecolor": "white",
            "ticks": ""
           },
           "bgcolor": "#E5ECF6",
           "caxis": {
            "gridcolor": "white",
            "linecolor": "white",
            "ticks": ""
           }
          },
          "title": {
           "x": 0.05
          },
          "xaxis": {
           "automargin": true,
           "gridcolor": "white",
           "linecolor": "white",
           "ticks": "",
           "title": {
            "standoff": 15
           },
           "zerolinecolor": "white",
           "zerolinewidth": 2
          },
          "yaxis": {
           "automargin": true,
           "gridcolor": "white",
           "linecolor": "white",
           "ticks": "",
           "title": {
            "standoff": 15
           },
           "zerolinecolor": "white",
           "zerolinewidth": 2
          }
         }
        },
        "title": {
         "text": "Number of Transactions In each Day of the Week"
        },
        "xaxis": {
         "anchor": "y",
         "categoryarray": [
          "Monday",
          "Tuesday",
          "Wednesday",
          "Thursday",
          "Friday",
          "Saturday",
          "Sunday"
         ],
         "categoryorder": "array",
         "domain": [
          0,
          1
         ],
         "title": {
          "text": "Day of the Week"
         }
        },
        "yaxis": {
         "anchor": "x",
         "domain": [
          0,
          1
         ],
         "title": {
          "text": "Number of Transactions(%)"
         }
        }
       }
      }
     },
     "metadata": {},
     "output_type": "display_data"
    }
   ],
   "source": [
    "import plotly.express as px\n",
    "\n",
    "# Plot the DataFrame\n",
    "weekday_trans = px.bar(sales.groupby('Weekday').count().reset_index().\n",
    "                        assign(percentage=lambda x: (x['date'] / x['date'].sum()) * 100).\n",
    "                        loc[:,[\"Weekday\",\"percentage\"]].sort_values(by=\"Weekday\").reset_index(drop=True),\n",
    "                        color=\"Weekday\", x='Weekday', y='percentage', title='Number of Transactions In each Day of the Week', \n",
    "                        labels={'Weekday': 'Day of the Week','percentage': 'Number of Transactions(%)'})\n",
    "\n",
    "# Sort the bars from lowest to highest\n",
    "weekday_trans.show()"
   ]
  },
  {
   "attachments": {},
   "cell_type": "markdown",
   "metadata": {},
   "source": [
    "### Product Line with most Number of Transactions"
   ]
  },
  {
   "cell_type": "code",
   "execution_count": 141,
   "metadata": {},
   "outputs": [
    {
     "data": {
      "application/vnd.plotly.v1+json": {
       "config": {
        "plotlyServerURL": "https://plot.ly"
       },
       "data": [
        {
         "alignmentgroup": "True",
         "hovertemplate": "Products Category=%{x}<br>Number of Transactions(%)=%{y}<extra></extra>",
         "legendgroup": "Engine",
         "marker": {
          "color": "#636efa",
          "pattern": {
           "shape": ""
          }
         },
         "name": "Engine",
         "offsetgroup": "Engine",
         "orientation": "v",
         "showlegend": true,
         "textposition": "auto",
         "type": "bar",
         "x": [
          "Engine"
         ],
         "xaxis": "x",
         "y": [
          6.1
         ],
         "yaxis": "y"
        },
        {
         "alignmentgroup": "True",
         "hovertemplate": "Products Category=%{x}<br>Number of Transactions(%)=%{y}<extra></extra>",
         "legendgroup": "Miscellaneous",
         "marker": {
          "color": "#EF553B",
          "pattern": {
           "shape": ""
          }
         },
         "name": "Miscellaneous",
         "offsetgroup": "Miscellaneous",
         "orientation": "v",
         "showlegend": true,
         "textposition": "auto",
         "type": "bar",
         "x": [
          "Miscellaneous"
         ],
         "xaxis": "x",
         "y": [
          12.2
         ],
         "yaxis": "y"
        },
        {
         "alignmentgroup": "True",
         "hovertemplate": "Products Category=%{x}<br>Number of Transactions(%)=%{y}<extra></extra>",
         "legendgroup": "Frame & body",
         "marker": {
          "color": "#00cc96",
          "pattern": {
           "shape": ""
          }
         },
         "name": "Frame & body",
         "offsetgroup": "Frame & body",
         "orientation": "v",
         "showlegend": true,
         "textposition": "auto",
         "type": "bar",
         "x": [
          "Frame & body"
         ],
         "xaxis": "x",
         "y": [
          16.6
         ],
         "yaxis": "y"
        },
        {
         "alignmentgroup": "True",
         "hovertemplate": "Products Category=%{x}<br>Number of Transactions(%)=%{y}<extra></extra>",
         "legendgroup": "Electrical system",
         "marker": {
          "color": "#ab63fa",
          "pattern": {
           "shape": ""
          }
         },
         "name": "Electrical system",
         "offsetgroup": "Electrical system",
         "orientation": "v",
         "showlegend": true,
         "textposition": "auto",
         "type": "bar",
         "x": [
          "Electrical system"
         ],
         "xaxis": "x",
         "y": [
          19.3
         ],
         "yaxis": "y"
        },
        {
         "alignmentgroup": "True",
         "hovertemplate": "Products Category=%{x}<br>Number of Transactions(%)=%{y}<extra></extra>",
         "legendgroup": "Suspension & traction",
         "marker": {
          "color": "#FFA15A",
          "pattern": {
           "shape": ""
          }
         },
         "name": "Suspension & traction",
         "offsetgroup": "Suspension & traction",
         "orientation": "v",
         "showlegend": true,
         "textposition": "auto",
         "type": "bar",
         "x": [
          "Suspension & traction"
         ],
         "xaxis": "x",
         "y": [
          22.8
         ],
         "yaxis": "y"
        },
        {
         "alignmentgroup": "True",
         "hovertemplate": "Products Category=%{x}<br>Number of Transactions(%)=%{y}<extra></extra>",
         "legendgroup": "Breaking system",
         "marker": {
          "color": "#19d3f3",
          "pattern": {
           "shape": ""
          }
         },
         "name": "Breaking system",
         "offsetgroup": "Breaking system",
         "orientation": "v",
         "showlegend": true,
         "textposition": "auto",
         "type": "bar",
         "x": [
          "Breaking system"
         ],
         "xaxis": "x",
         "y": [
          23
         ],
         "yaxis": "y"
        }
       ],
       "layout": {
        "barmode": "relative",
        "legend": {
         "title": {
          "text": "Products Category"
         },
         "tracegroupgap": 0
        },
        "template": {
         "data": {
          "bar": [
           {
            "error_x": {
             "color": "#2a3f5f"
            },
            "error_y": {
             "color": "#2a3f5f"
            },
            "marker": {
             "line": {
              "color": "#E5ECF6",
              "width": 0.5
             },
             "pattern": {
              "fillmode": "overlay",
              "size": 10,
              "solidity": 0.2
             }
            },
            "type": "bar"
           }
          ],
          "barpolar": [
           {
            "marker": {
             "line": {
              "color": "#E5ECF6",
              "width": 0.5
             },
             "pattern": {
              "fillmode": "overlay",
              "size": 10,
              "solidity": 0.2
             }
            },
            "type": "barpolar"
           }
          ],
          "carpet": [
           {
            "aaxis": {
             "endlinecolor": "#2a3f5f",
             "gridcolor": "white",
             "linecolor": "white",
             "minorgridcolor": "white",
             "startlinecolor": "#2a3f5f"
            },
            "baxis": {
             "endlinecolor": "#2a3f5f",
             "gridcolor": "white",
             "linecolor": "white",
             "minorgridcolor": "white",
             "startlinecolor": "#2a3f5f"
            },
            "type": "carpet"
           }
          ],
          "choropleth": [
           {
            "colorbar": {
             "outlinewidth": 0,
             "ticks": ""
            },
            "type": "choropleth"
           }
          ],
          "contour": [
           {
            "colorbar": {
             "outlinewidth": 0,
             "ticks": ""
            },
            "colorscale": [
             [
              0,
              "#0d0887"
             ],
             [
              0.1111111111111111,
              "#46039f"
             ],
             [
              0.2222222222222222,
              "#7201a8"
             ],
             [
              0.3333333333333333,
              "#9c179e"
             ],
             [
              0.4444444444444444,
              "#bd3786"
             ],
             [
              0.5555555555555556,
              "#d8576b"
             ],
             [
              0.6666666666666666,
              "#ed7953"
             ],
             [
              0.7777777777777778,
              "#fb9f3a"
             ],
             [
              0.8888888888888888,
              "#fdca26"
             ],
             [
              1,
              "#f0f921"
             ]
            ],
            "type": "contour"
           }
          ],
          "contourcarpet": [
           {
            "colorbar": {
             "outlinewidth": 0,
             "ticks": ""
            },
            "type": "contourcarpet"
           }
          ],
          "heatmap": [
           {
            "colorbar": {
             "outlinewidth": 0,
             "ticks": ""
            },
            "colorscale": [
             [
              0,
              "#0d0887"
             ],
             [
              0.1111111111111111,
              "#46039f"
             ],
             [
              0.2222222222222222,
              "#7201a8"
             ],
             [
              0.3333333333333333,
              "#9c179e"
             ],
             [
              0.4444444444444444,
              "#bd3786"
             ],
             [
              0.5555555555555556,
              "#d8576b"
             ],
             [
              0.6666666666666666,
              "#ed7953"
             ],
             [
              0.7777777777777778,
              "#fb9f3a"
             ],
             [
              0.8888888888888888,
              "#fdca26"
             ],
             [
              1,
              "#f0f921"
             ]
            ],
            "type": "heatmap"
           }
          ],
          "heatmapgl": [
           {
            "colorbar": {
             "outlinewidth": 0,
             "ticks": ""
            },
            "colorscale": [
             [
              0,
              "#0d0887"
             ],
             [
              0.1111111111111111,
              "#46039f"
             ],
             [
              0.2222222222222222,
              "#7201a8"
             ],
             [
              0.3333333333333333,
              "#9c179e"
             ],
             [
              0.4444444444444444,
              "#bd3786"
             ],
             [
              0.5555555555555556,
              "#d8576b"
             ],
             [
              0.6666666666666666,
              "#ed7953"
             ],
             [
              0.7777777777777778,
              "#fb9f3a"
             ],
             [
              0.8888888888888888,
              "#fdca26"
             ],
             [
              1,
              "#f0f921"
             ]
            ],
            "type": "heatmapgl"
           }
          ],
          "histogram": [
           {
            "marker": {
             "pattern": {
              "fillmode": "overlay",
              "size": 10,
              "solidity": 0.2
             }
            },
            "type": "histogram"
           }
          ],
          "histogram2d": [
           {
            "colorbar": {
             "outlinewidth": 0,
             "ticks": ""
            },
            "colorscale": [
             [
              0,
              "#0d0887"
             ],
             [
              0.1111111111111111,
              "#46039f"
             ],
             [
              0.2222222222222222,
              "#7201a8"
             ],
             [
              0.3333333333333333,
              "#9c179e"
             ],
             [
              0.4444444444444444,
              "#bd3786"
             ],
             [
              0.5555555555555556,
              "#d8576b"
             ],
             [
              0.6666666666666666,
              "#ed7953"
             ],
             [
              0.7777777777777778,
              "#fb9f3a"
             ],
             [
              0.8888888888888888,
              "#fdca26"
             ],
             [
              1,
              "#f0f921"
             ]
            ],
            "type": "histogram2d"
           }
          ],
          "histogram2dcontour": [
           {
            "colorbar": {
             "outlinewidth": 0,
             "ticks": ""
            },
            "colorscale": [
             [
              0,
              "#0d0887"
             ],
             [
              0.1111111111111111,
              "#46039f"
             ],
             [
              0.2222222222222222,
              "#7201a8"
             ],
             [
              0.3333333333333333,
              "#9c179e"
             ],
             [
              0.4444444444444444,
              "#bd3786"
             ],
             [
              0.5555555555555556,
              "#d8576b"
             ],
             [
              0.6666666666666666,
              "#ed7953"
             ],
             [
              0.7777777777777778,
              "#fb9f3a"
             ],
             [
              0.8888888888888888,
              "#fdca26"
             ],
             [
              1,
              "#f0f921"
             ]
            ],
            "type": "histogram2dcontour"
           }
          ],
          "mesh3d": [
           {
            "colorbar": {
             "outlinewidth": 0,
             "ticks": ""
            },
            "type": "mesh3d"
           }
          ],
          "parcoords": [
           {
            "line": {
             "colorbar": {
              "outlinewidth": 0,
              "ticks": ""
             }
            },
            "type": "parcoords"
           }
          ],
          "pie": [
           {
            "automargin": true,
            "type": "pie"
           }
          ],
          "scatter": [
           {
            "fillpattern": {
             "fillmode": "overlay",
             "size": 10,
             "solidity": 0.2
            },
            "type": "scatter"
           }
          ],
          "scatter3d": [
           {
            "line": {
             "colorbar": {
              "outlinewidth": 0,
              "ticks": ""
             }
            },
            "marker": {
             "colorbar": {
              "outlinewidth": 0,
              "ticks": ""
             }
            },
            "type": "scatter3d"
           }
          ],
          "scattercarpet": [
           {
            "marker": {
             "colorbar": {
              "outlinewidth": 0,
              "ticks": ""
             }
            },
            "type": "scattercarpet"
           }
          ],
          "scattergeo": [
           {
            "marker": {
             "colorbar": {
              "outlinewidth": 0,
              "ticks": ""
             }
            },
            "type": "scattergeo"
           }
          ],
          "scattergl": [
           {
            "marker": {
             "colorbar": {
              "outlinewidth": 0,
              "ticks": ""
             }
            },
            "type": "scattergl"
           }
          ],
          "scattermapbox": [
           {
            "marker": {
             "colorbar": {
              "outlinewidth": 0,
              "ticks": ""
             }
            },
            "type": "scattermapbox"
           }
          ],
          "scatterpolar": [
           {
            "marker": {
             "colorbar": {
              "outlinewidth": 0,
              "ticks": ""
             }
            },
            "type": "scatterpolar"
           }
          ],
          "scatterpolargl": [
           {
            "marker": {
             "colorbar": {
              "outlinewidth": 0,
              "ticks": ""
             }
            },
            "type": "scatterpolargl"
           }
          ],
          "scatterternary": [
           {
            "marker": {
             "colorbar": {
              "outlinewidth": 0,
              "ticks": ""
             }
            },
            "type": "scatterternary"
           }
          ],
          "surface": [
           {
            "colorbar": {
             "outlinewidth": 0,
             "ticks": ""
            },
            "colorscale": [
             [
              0,
              "#0d0887"
             ],
             [
              0.1111111111111111,
              "#46039f"
             ],
             [
              0.2222222222222222,
              "#7201a8"
             ],
             [
              0.3333333333333333,
              "#9c179e"
             ],
             [
              0.4444444444444444,
              "#bd3786"
             ],
             [
              0.5555555555555556,
              "#d8576b"
             ],
             [
              0.6666666666666666,
              "#ed7953"
             ],
             [
              0.7777777777777778,
              "#fb9f3a"
             ],
             [
              0.8888888888888888,
              "#fdca26"
             ],
             [
              1,
              "#f0f921"
             ]
            ],
            "type": "surface"
           }
          ],
          "table": [
           {
            "cells": {
             "fill": {
              "color": "#EBF0F8"
             },
             "line": {
              "color": "white"
             }
            },
            "header": {
             "fill": {
              "color": "#C8D4E3"
             },
             "line": {
              "color": "white"
             }
            },
            "type": "table"
           }
          ]
         },
         "layout": {
          "annotationdefaults": {
           "arrowcolor": "#2a3f5f",
           "arrowhead": 0,
           "arrowwidth": 1
          },
          "autotypenumbers": "strict",
          "coloraxis": {
           "colorbar": {
            "outlinewidth": 0,
            "ticks": ""
           }
          },
          "colorscale": {
           "diverging": [
            [
             0,
             "#8e0152"
            ],
            [
             0.1,
             "#c51b7d"
            ],
            [
             0.2,
             "#de77ae"
            ],
            [
             0.3,
             "#f1b6da"
            ],
            [
             0.4,
             "#fde0ef"
            ],
            [
             0.5,
             "#f7f7f7"
            ],
            [
             0.6,
             "#e6f5d0"
            ],
            [
             0.7,
             "#b8e186"
            ],
            [
             0.8,
             "#7fbc41"
            ],
            [
             0.9,
             "#4d9221"
            ],
            [
             1,
             "#276419"
            ]
           ],
           "sequential": [
            [
             0,
             "#0d0887"
            ],
            [
             0.1111111111111111,
             "#46039f"
            ],
            [
             0.2222222222222222,
             "#7201a8"
            ],
            [
             0.3333333333333333,
             "#9c179e"
            ],
            [
             0.4444444444444444,
             "#bd3786"
            ],
            [
             0.5555555555555556,
             "#d8576b"
            ],
            [
             0.6666666666666666,
             "#ed7953"
            ],
            [
             0.7777777777777778,
             "#fb9f3a"
            ],
            [
             0.8888888888888888,
             "#fdca26"
            ],
            [
             1,
             "#f0f921"
            ]
           ],
           "sequentialminus": [
            [
             0,
             "#0d0887"
            ],
            [
             0.1111111111111111,
             "#46039f"
            ],
            [
             0.2222222222222222,
             "#7201a8"
            ],
            [
             0.3333333333333333,
             "#9c179e"
            ],
            [
             0.4444444444444444,
             "#bd3786"
            ],
            [
             0.5555555555555556,
             "#d8576b"
            ],
            [
             0.6666666666666666,
             "#ed7953"
            ],
            [
             0.7777777777777778,
             "#fb9f3a"
            ],
            [
             0.8888888888888888,
             "#fdca26"
            ],
            [
             1,
             "#f0f921"
            ]
           ]
          },
          "colorway": [
           "#636efa",
           "#EF553B",
           "#00cc96",
           "#ab63fa",
           "#FFA15A",
           "#19d3f3",
           "#FF6692",
           "#B6E880",
           "#FF97FF",
           "#FECB52"
          ],
          "font": {
           "color": "#2a3f5f"
          },
          "geo": {
           "bgcolor": "white",
           "lakecolor": "white",
           "landcolor": "#E5ECF6",
           "showlakes": true,
           "showland": true,
           "subunitcolor": "white"
          },
          "hoverlabel": {
           "align": "left"
          },
          "hovermode": "closest",
          "mapbox": {
           "style": "light"
          },
          "paper_bgcolor": "white",
          "plot_bgcolor": "#E5ECF6",
          "polar": {
           "angularaxis": {
            "gridcolor": "white",
            "linecolor": "white",
            "ticks": ""
           },
           "bgcolor": "#E5ECF6",
           "radialaxis": {
            "gridcolor": "white",
            "linecolor": "white",
            "ticks": ""
           }
          },
          "scene": {
           "xaxis": {
            "backgroundcolor": "#E5ECF6",
            "gridcolor": "white",
            "gridwidth": 2,
            "linecolor": "white",
            "showbackground": true,
            "ticks": "",
            "zerolinecolor": "white"
           },
           "yaxis": {
            "backgroundcolor": "#E5ECF6",
            "gridcolor": "white",
            "gridwidth": 2,
            "linecolor": "white",
            "showbackground": true,
            "ticks": "",
            "zerolinecolor": "white"
           },
           "zaxis": {
            "backgroundcolor": "#E5ECF6",
            "gridcolor": "white",
            "gridwidth": 2,
            "linecolor": "white",
            "showbackground": true,
            "ticks": "",
            "zerolinecolor": "white"
           }
          },
          "shapedefaults": {
           "line": {
            "color": "#2a3f5f"
           }
          },
          "ternary": {
           "aaxis": {
            "gridcolor": "white",
            "linecolor": "white",
            "ticks": ""
           },
           "baxis": {
            "gridcolor": "white",
            "linecolor": "white",
            "ticks": ""
           },
           "bgcolor": "#E5ECF6",
           "caxis": {
            "gridcolor": "white",
            "linecolor": "white",
            "ticks": ""
           }
          },
          "title": {
           "x": 0.05
          },
          "xaxis": {
           "automargin": true,
           "gridcolor": "white",
           "linecolor": "white",
           "ticks": "",
           "title": {
            "standoff": 15
           },
           "zerolinecolor": "white",
           "zerolinewidth": 2
          },
          "yaxis": {
           "automargin": true,
           "gridcolor": "white",
           "linecolor": "white",
           "ticks": "",
           "title": {
            "standoff": 15
           },
           "zerolinecolor": "white",
           "zerolinewidth": 2
          }
         }
        },
        "title": {
         "text": "Number of Transactions by Product Line"
        },
        "xaxis": {
         "anchor": "y",
         "categoryarray": [
          "Engine",
          "Miscellaneous",
          "Frame & body",
          "Electrical system",
          "Suspension & traction",
          "Breaking system"
         ],
         "categoryorder": "array",
         "domain": [
          0,
          1
         ],
         "title": {
          "text": "Products Category"
         }
        },
        "yaxis": {
         "anchor": "x",
         "domain": [
          0,
          1
         ],
         "title": {
          "text": "Number of Transactions(%)"
         }
        }
       }
      }
     },
     "metadata": {},
     "output_type": "display_data"
    }
   ],
   "source": [
    "import plotly.express as px\n",
    "\n",
    "# Plot the DataFrame\n",
    "product_line_trans = px.bar(sales.groupby('product_line').count().reset_index().\n",
    "                        assign(percentage=lambda x: (x['date'] / x['date'].sum()) * 100).\n",
    "                        loc[:,[\"product_line\",\"percentage\"]].sort_values(by=\"percentage\").reset_index(drop=True),\n",
    "                        color=\"product_line\", x='product_line', y='percentage', title='Number of Transactions by Product Line', \n",
    "                        labels={'product_line': 'Products Category','percentage': 'Number of Transactions(%)'})\n",
    "\n",
    "# Sort the bars from lowest to highest\n",
    "product_line_trans.show()"
   ]
  },
  {
   "attachments": {},
   "cell_type": "markdown",
   "metadata": {},
   "source": [
    "### Product Category with most sales"
   ]
  },
  {
   "cell_type": "code",
   "execution_count": 142,
   "metadata": {},
   "outputs": [
    {
     "name": "stderr",
     "output_type": "stream",
     "text": [
      "C:\\Users\\abu aisha\\AppData\\Local\\Temp\\ipykernel_7000\\2887843600.py:4: FutureWarning:\n",
      "\n",
      "The default value of numeric_only in DataFrameGroupBy.sum is deprecated. In a future version, numeric_only will default to False. Either specify numeric_only or select only columns which should be valid for the function.\n",
      "\n"
     ]
    },
    {
     "data": {
      "application/vnd.plotly.v1+json": {
       "config": {
        "plotlyServerURL": "https://plot.ly"
       },
       "data": [
        {
         "alignmentgroup": "True",
         "hovertemplate": "Products Category=%{y}<br>Revenue($)=%{x}<extra></extra>",
         "legendgroup": "Suspension & traction",
         "marker": {
          "color": "#636efa",
          "pattern": {
           "shape": ""
          }
         },
         "name": "Suspension & traction",
         "offsetgroup": "Suspension & traction",
         "orientation": "h",
         "showlegend": true,
         "textposition": "auto",
         "type": "bar",
         "x": [
          73014.21
         ],
         "xaxis": "x",
         "y": [
          "Suspension & traction"
         ],
         "yaxis": "y"
        },
        {
         "alignmentgroup": "True",
         "hovertemplate": "Products Category=%{y}<br>Revenue($)=%{x}<extra></extra>",
         "legendgroup": "Frame & body",
         "marker": {
          "color": "#EF553B",
          "pattern": {
           "shape": ""
          }
         },
         "name": "Frame & body",
         "offsetgroup": "Frame & body",
         "orientation": "h",
         "showlegend": true,
         "textposition": "auto",
         "type": "bar",
         "x": [
          69024.73
         ],
         "xaxis": "x",
         "y": [
          "Frame & body"
         ],
         "yaxis": "y"
        },
        {
         "alignmentgroup": "True",
         "hovertemplate": "Products Category=%{y}<br>Revenue($)=%{x}<extra></extra>",
         "legendgroup": "Electrical system",
         "marker": {
          "color": "#00cc96",
          "pattern": {
           "shape": ""
          }
         },
         "name": "Electrical system",
         "offsetgroup": "Electrical system",
         "orientation": "h",
         "showlegend": true,
         "textposition": "auto",
         "type": "bar",
         "x": [
          43612.71
         ],
         "xaxis": "x",
         "y": [
          "Electrical system"
         ],
         "yaxis": "y"
        },
        {
         "alignmentgroup": "True",
         "hovertemplate": "Products Category=%{y}<br>Revenue($)=%{x}<extra></extra>",
         "legendgroup": "Breaking system",
         "marker": {
          "color": "#ab63fa",
          "pattern": {
           "shape": ""
          }
         },
         "name": "Breaking system",
         "offsetgroup": "Breaking system",
         "orientation": "h",
         "showlegend": true,
         "textposition": "auto",
         "type": "bar",
         "x": [
          38350.15
         ],
         "xaxis": "x",
         "y": [
          "Breaking system"
         ],
         "yaxis": "y"
        },
        {
         "alignmentgroup": "True",
         "hovertemplate": "Products Category=%{y}<br>Revenue($)=%{x}<extra></extra>",
         "legendgroup": "Engine",
         "marker": {
          "color": "#FFA15A",
          "pattern": {
           "shape": ""
          }
         },
         "name": "Engine",
         "offsetgroup": "Engine",
         "orientation": "h",
         "showlegend": true,
         "textposition": "auto",
         "type": "bar",
         "x": [
          37945.38
         ],
         "xaxis": "x",
         "y": [
          "Engine"
         ],
         "yaxis": "y"
        },
        {
         "alignmentgroup": "True",
         "hovertemplate": "Products Category=%{y}<br>Revenue($)=%{x}<extra></extra>",
         "legendgroup": "Miscellaneous",
         "marker": {
          "color": "#19d3f3",
          "pattern": {
           "shape": ""
          }
         },
         "name": "Miscellaneous",
         "offsetgroup": "Miscellaneous",
         "orientation": "h",
         "showlegend": true,
         "textposition": "auto",
         "type": "bar",
         "x": [
          27165.82
         ],
         "xaxis": "x",
         "y": [
          "Miscellaneous"
         ],
         "yaxis": "y"
        }
       ],
       "layout": {
        "barmode": "relative",
        "legend": {
         "title": {
          "text": "Products Category"
         },
         "tracegroupgap": 0
        },
        "template": {
         "data": {
          "bar": [
           {
            "error_x": {
             "color": "#2a3f5f"
            },
            "error_y": {
             "color": "#2a3f5f"
            },
            "marker": {
             "line": {
              "color": "#E5ECF6",
              "width": 0.5
             },
             "pattern": {
              "fillmode": "overlay",
              "size": 10,
              "solidity": 0.2
             }
            },
            "type": "bar"
           }
          ],
          "barpolar": [
           {
            "marker": {
             "line": {
              "color": "#E5ECF6",
              "width": 0.5
             },
             "pattern": {
              "fillmode": "overlay",
              "size": 10,
              "solidity": 0.2
             }
            },
            "type": "barpolar"
           }
          ],
          "carpet": [
           {
            "aaxis": {
             "endlinecolor": "#2a3f5f",
             "gridcolor": "white",
             "linecolor": "white",
             "minorgridcolor": "white",
             "startlinecolor": "#2a3f5f"
            },
            "baxis": {
             "endlinecolor": "#2a3f5f",
             "gridcolor": "white",
             "linecolor": "white",
             "minorgridcolor": "white",
             "startlinecolor": "#2a3f5f"
            },
            "type": "carpet"
           }
          ],
          "choropleth": [
           {
            "colorbar": {
             "outlinewidth": 0,
             "ticks": ""
            },
            "type": "choropleth"
           }
          ],
          "contour": [
           {
            "colorbar": {
             "outlinewidth": 0,
             "ticks": ""
            },
            "colorscale": [
             [
              0,
              "#0d0887"
             ],
             [
              0.1111111111111111,
              "#46039f"
             ],
             [
              0.2222222222222222,
              "#7201a8"
             ],
             [
              0.3333333333333333,
              "#9c179e"
             ],
             [
              0.4444444444444444,
              "#bd3786"
             ],
             [
              0.5555555555555556,
              "#d8576b"
             ],
             [
              0.6666666666666666,
              "#ed7953"
             ],
             [
              0.7777777777777778,
              "#fb9f3a"
             ],
             [
              0.8888888888888888,
              "#fdca26"
             ],
             [
              1,
              "#f0f921"
             ]
            ],
            "type": "contour"
           }
          ],
          "contourcarpet": [
           {
            "colorbar": {
             "outlinewidth": 0,
             "ticks": ""
            },
            "type": "contourcarpet"
           }
          ],
          "heatmap": [
           {
            "colorbar": {
             "outlinewidth": 0,
             "ticks": ""
            },
            "colorscale": [
             [
              0,
              "#0d0887"
             ],
             [
              0.1111111111111111,
              "#46039f"
             ],
             [
              0.2222222222222222,
              "#7201a8"
             ],
             [
              0.3333333333333333,
              "#9c179e"
             ],
             [
              0.4444444444444444,
              "#bd3786"
             ],
             [
              0.5555555555555556,
              "#d8576b"
             ],
             [
              0.6666666666666666,
              "#ed7953"
             ],
             [
              0.7777777777777778,
              "#fb9f3a"
             ],
             [
              0.8888888888888888,
              "#fdca26"
             ],
             [
              1,
              "#f0f921"
             ]
            ],
            "type": "heatmap"
           }
          ],
          "heatmapgl": [
           {
            "colorbar": {
             "outlinewidth": 0,
             "ticks": ""
            },
            "colorscale": [
             [
              0,
              "#0d0887"
             ],
             [
              0.1111111111111111,
              "#46039f"
             ],
             [
              0.2222222222222222,
              "#7201a8"
             ],
             [
              0.3333333333333333,
              "#9c179e"
             ],
             [
              0.4444444444444444,
              "#bd3786"
             ],
             [
              0.5555555555555556,
              "#d8576b"
             ],
             [
              0.6666666666666666,
              "#ed7953"
             ],
             [
              0.7777777777777778,
              "#fb9f3a"
             ],
             [
              0.8888888888888888,
              "#fdca26"
             ],
             [
              1,
              "#f0f921"
             ]
            ],
            "type": "heatmapgl"
           }
          ],
          "histogram": [
           {
            "marker": {
             "pattern": {
              "fillmode": "overlay",
              "size": 10,
              "solidity": 0.2
             }
            },
            "type": "histogram"
           }
          ],
          "histogram2d": [
           {
            "colorbar": {
             "outlinewidth": 0,
             "ticks": ""
            },
            "colorscale": [
             [
              0,
              "#0d0887"
             ],
             [
              0.1111111111111111,
              "#46039f"
             ],
             [
              0.2222222222222222,
              "#7201a8"
             ],
             [
              0.3333333333333333,
              "#9c179e"
             ],
             [
              0.4444444444444444,
              "#bd3786"
             ],
             [
              0.5555555555555556,
              "#d8576b"
             ],
             [
              0.6666666666666666,
              "#ed7953"
             ],
             [
              0.7777777777777778,
              "#fb9f3a"
             ],
             [
              0.8888888888888888,
              "#fdca26"
             ],
             [
              1,
              "#f0f921"
             ]
            ],
            "type": "histogram2d"
           }
          ],
          "histogram2dcontour": [
           {
            "colorbar": {
             "outlinewidth": 0,
             "ticks": ""
            },
            "colorscale": [
             [
              0,
              "#0d0887"
             ],
             [
              0.1111111111111111,
              "#46039f"
             ],
             [
              0.2222222222222222,
              "#7201a8"
             ],
             [
              0.3333333333333333,
              "#9c179e"
             ],
             [
              0.4444444444444444,
              "#bd3786"
             ],
             [
              0.5555555555555556,
              "#d8576b"
             ],
             [
              0.6666666666666666,
              "#ed7953"
             ],
             [
              0.7777777777777778,
              "#fb9f3a"
             ],
             [
              0.8888888888888888,
              "#fdca26"
             ],
             [
              1,
              "#f0f921"
             ]
            ],
            "type": "histogram2dcontour"
           }
          ],
          "mesh3d": [
           {
            "colorbar": {
             "outlinewidth": 0,
             "ticks": ""
            },
            "type": "mesh3d"
           }
          ],
          "parcoords": [
           {
            "line": {
             "colorbar": {
              "outlinewidth": 0,
              "ticks": ""
             }
            },
            "type": "parcoords"
           }
          ],
          "pie": [
           {
            "automargin": true,
            "type": "pie"
           }
          ],
          "scatter": [
           {
            "fillpattern": {
             "fillmode": "overlay",
             "size": 10,
             "solidity": 0.2
            },
            "type": "scatter"
           }
          ],
          "scatter3d": [
           {
            "line": {
             "colorbar": {
              "outlinewidth": 0,
              "ticks": ""
             }
            },
            "marker": {
             "colorbar": {
              "outlinewidth": 0,
              "ticks": ""
             }
            },
            "type": "scatter3d"
           }
          ],
          "scattercarpet": [
           {
            "marker": {
             "colorbar": {
              "outlinewidth": 0,
              "ticks": ""
             }
            },
            "type": "scattercarpet"
           }
          ],
          "scattergeo": [
           {
            "marker": {
             "colorbar": {
              "outlinewidth": 0,
              "ticks": ""
             }
            },
            "type": "scattergeo"
           }
          ],
          "scattergl": [
           {
            "marker": {
             "colorbar": {
              "outlinewidth": 0,
              "ticks": ""
             }
            },
            "type": "scattergl"
           }
          ],
          "scattermapbox": [
           {
            "marker": {
             "colorbar": {
              "outlinewidth": 0,
              "ticks": ""
             }
            },
            "type": "scattermapbox"
           }
          ],
          "scatterpolar": [
           {
            "marker": {
             "colorbar": {
              "outlinewidth": 0,
              "ticks": ""
             }
            },
            "type": "scatterpolar"
           }
          ],
          "scatterpolargl": [
           {
            "marker": {
             "colorbar": {
              "outlinewidth": 0,
              "ticks": ""
             }
            },
            "type": "scatterpolargl"
           }
          ],
          "scatterternary": [
           {
            "marker": {
             "colorbar": {
              "outlinewidth": 0,
              "ticks": ""
             }
            },
            "type": "scatterternary"
           }
          ],
          "surface": [
           {
            "colorbar": {
             "outlinewidth": 0,
             "ticks": ""
            },
            "colorscale": [
             [
              0,
              "#0d0887"
             ],
             [
              0.1111111111111111,
              "#46039f"
             ],
             [
              0.2222222222222222,
              "#7201a8"
             ],
             [
              0.3333333333333333,
              "#9c179e"
             ],
             [
              0.4444444444444444,
              "#bd3786"
             ],
             [
              0.5555555555555556,
              "#d8576b"
             ],
             [
              0.6666666666666666,
              "#ed7953"
             ],
             [
              0.7777777777777778,
              "#fb9f3a"
             ],
             [
              0.8888888888888888,
              "#fdca26"
             ],
             [
              1,
              "#f0f921"
             ]
            ],
            "type": "surface"
           }
          ],
          "table": [
           {
            "cells": {
             "fill": {
              "color": "#EBF0F8"
             },
             "line": {
              "color": "white"
             }
            },
            "header": {
             "fill": {
              "color": "#C8D4E3"
             },
             "line": {
              "color": "white"
             }
            },
            "type": "table"
           }
          ]
         },
         "layout": {
          "annotationdefaults": {
           "arrowcolor": "#2a3f5f",
           "arrowhead": 0,
           "arrowwidth": 1
          },
          "autotypenumbers": "strict",
          "coloraxis": {
           "colorbar": {
            "outlinewidth": 0,
            "ticks": ""
           }
          },
          "colorscale": {
           "diverging": [
            [
             0,
             "#8e0152"
            ],
            [
             0.1,
             "#c51b7d"
            ],
            [
             0.2,
             "#de77ae"
            ],
            [
             0.3,
             "#f1b6da"
            ],
            [
             0.4,
             "#fde0ef"
            ],
            [
             0.5,
             "#f7f7f7"
            ],
            [
             0.6,
             "#e6f5d0"
            ],
            [
             0.7,
             "#b8e186"
            ],
            [
             0.8,
             "#7fbc41"
            ],
            [
             0.9,
             "#4d9221"
            ],
            [
             1,
             "#276419"
            ]
           ],
           "sequential": [
            [
             0,
             "#0d0887"
            ],
            [
             0.1111111111111111,
             "#46039f"
            ],
            [
             0.2222222222222222,
             "#7201a8"
            ],
            [
             0.3333333333333333,
             "#9c179e"
            ],
            [
             0.4444444444444444,
             "#bd3786"
            ],
            [
             0.5555555555555556,
             "#d8576b"
            ],
            [
             0.6666666666666666,
             "#ed7953"
            ],
            [
             0.7777777777777778,
             "#fb9f3a"
            ],
            [
             0.8888888888888888,
             "#fdca26"
            ],
            [
             1,
             "#f0f921"
            ]
           ],
           "sequentialminus": [
            [
             0,
             "#0d0887"
            ],
            [
             0.1111111111111111,
             "#46039f"
            ],
            [
             0.2222222222222222,
             "#7201a8"
            ],
            [
             0.3333333333333333,
             "#9c179e"
            ],
            [
             0.4444444444444444,
             "#bd3786"
            ],
            [
             0.5555555555555556,
             "#d8576b"
            ],
            [
             0.6666666666666666,
             "#ed7953"
            ],
            [
             0.7777777777777778,
             "#fb9f3a"
            ],
            [
             0.8888888888888888,
             "#fdca26"
            ],
            [
             1,
             "#f0f921"
            ]
           ]
          },
          "colorway": [
           "#636efa",
           "#EF553B",
           "#00cc96",
           "#ab63fa",
           "#FFA15A",
           "#19d3f3",
           "#FF6692",
           "#B6E880",
           "#FF97FF",
           "#FECB52"
          ],
          "font": {
           "color": "#2a3f5f"
          },
          "geo": {
           "bgcolor": "white",
           "lakecolor": "white",
           "landcolor": "#E5ECF6",
           "showlakes": true,
           "showland": true,
           "subunitcolor": "white"
          },
          "hoverlabel": {
           "align": "left"
          },
          "hovermode": "closest",
          "mapbox": {
           "style": "light"
          },
          "paper_bgcolor": "white",
          "plot_bgcolor": "#E5ECF6",
          "polar": {
           "angularaxis": {
            "gridcolor": "white",
            "linecolor": "white",
            "ticks": ""
           },
           "bgcolor": "#E5ECF6",
           "radialaxis": {
            "gridcolor": "white",
            "linecolor": "white",
            "ticks": ""
           }
          },
          "scene": {
           "xaxis": {
            "backgroundcolor": "#E5ECF6",
            "gridcolor": "white",
            "gridwidth": 2,
            "linecolor": "white",
            "showbackground": true,
            "ticks": "",
            "zerolinecolor": "white"
           },
           "yaxis": {
            "backgroundcolor": "#E5ECF6",
            "gridcolor": "white",
            "gridwidth": 2,
            "linecolor": "white",
            "showbackground": true,
            "ticks": "",
            "zerolinecolor": "white"
           },
           "zaxis": {
            "backgroundcolor": "#E5ECF6",
            "gridcolor": "white",
            "gridwidth": 2,
            "linecolor": "white",
            "showbackground": true,
            "ticks": "",
            "zerolinecolor": "white"
           }
          },
          "shapedefaults": {
           "line": {
            "color": "#2a3f5f"
           }
          },
          "ternary": {
           "aaxis": {
            "gridcolor": "white",
            "linecolor": "white",
            "ticks": ""
           },
           "baxis": {
            "gridcolor": "white",
            "linecolor": "white",
            "ticks": ""
           },
           "bgcolor": "#E5ECF6",
           "caxis": {
            "gridcolor": "white",
            "linecolor": "white",
            "ticks": ""
           }
          },
          "title": {
           "x": 0.05
          },
          "xaxis": {
           "automargin": true,
           "gridcolor": "white",
           "linecolor": "white",
           "ticks": "",
           "title": {
            "standoff": 15
           },
           "zerolinecolor": "white",
           "zerolinewidth": 2
          },
          "yaxis": {
           "automargin": true,
           "gridcolor": "white",
           "linecolor": "white",
           "ticks": "",
           "title": {
            "standoff": 15
           },
           "zerolinecolor": "white",
           "zerolinewidth": 2
          }
         }
        },
        "title": {
         "text": "Revenue by Product Line"
        },
        "xaxis": {
         "anchor": "y",
         "domain": [
          0,
          1
         ],
         "tickformat": ",.",
         "tickprefix": "$",
         "title": {
          "text": "Revenue($)"
         }
        },
        "yaxis": {
         "anchor": "x",
         "categoryarray": [
          "Miscellaneous",
          "Engine",
          "Breaking system",
          "Electrical system",
          "Frame & body",
          "Suspension & traction"
         ],
         "categoryorder": "array",
         "domain": [
          0,
          1
         ],
         "title": {
          "text": "Products Category"
         }
        }
       }
      }
     },
     "metadata": {},
     "output_type": "display_data"
    }
   ],
   "source": [
    "import plotly.express as px\n",
    "\n",
    "# Plot the DataFrame\n",
    "cat_most_sales = px.bar(sales.groupby('product_line').sum().reset_index().\n",
    "                        loc[:,[\"product_line\",\"total\"]].sort_values(by=\"total\", ascending=False),\n",
    "                        color=\"product_line\", y='product_line', x='total', title='Revenue by Product Line', \n",
    "                        labels={'product_line': 'Products Category','total': 'Revenue($)'})\n",
    "\n",
    "cat_most_sales.update_layout(xaxis_tickprefix = '$', xaxis_tickformat = ',.')\n",
    "\n",
    "# Sort the bars from lowest to highest\n",
    "cat_most_sales.show()"
   ]
  },
  {
   "cell_type": "code",
   "execution_count": 143,
   "metadata": {},
   "outputs": [
    {
     "data": {
      "text/html": [
       "<div>\n",
       "<style scoped>\n",
       "    .dataframe tbody tr th:only-of-type {\n",
       "        vertical-align: middle;\n",
       "    }\n",
       "\n",
       "    .dataframe tbody tr th {\n",
       "        vertical-align: top;\n",
       "    }\n",
       "\n",
       "    .dataframe thead th {\n",
       "        text-align: right;\n",
       "    }\n",
       "</style>\n",
       "<table border=\"1\" class=\"dataframe\">\n",
       "  <thead>\n",
       "    <tr style=\"text-align: right;\">\n",
       "      <th></th>\n",
       "      <th>date</th>\n",
       "      <th>warehouse</th>\n",
       "      <th>client_type</th>\n",
       "      <th>product_line</th>\n",
       "      <th>quantity</th>\n",
       "      <th>unit_price</th>\n",
       "      <th>total</th>\n",
       "      <th>payment</th>\n",
       "      <th>Weekday</th>\n",
       "      <th>Month</th>\n",
       "    </tr>\n",
       "  </thead>\n",
       "  <tbody>\n",
       "    <tr>\n",
       "      <th>0</th>\n",
       "      <td>2021-01-06</td>\n",
       "      <td>Central</td>\n",
       "      <td>Retail</td>\n",
       "      <td>Miscellaneous</td>\n",
       "      <td>8</td>\n",
       "      <td>16.85</td>\n",
       "      <td>134.83</td>\n",
       "      <td>Credit card</td>\n",
       "      <td>Wednesday</td>\n",
       "      <td>January</td>\n",
       "    </tr>\n",
       "    <tr>\n",
       "      <th>1</th>\n",
       "      <td>2021-01-06</td>\n",
       "      <td>North</td>\n",
       "      <td>Retail</td>\n",
       "      <td>Breaking system</td>\n",
       "      <td>9</td>\n",
       "      <td>19.29</td>\n",
       "      <td>173.61</td>\n",
       "      <td>Cash</td>\n",
       "      <td>Wednesday</td>\n",
       "      <td>January</td>\n",
       "    </tr>\n",
       "    <tr>\n",
       "      <th>2</th>\n",
       "      <td>2021-01-06</td>\n",
       "      <td>North</td>\n",
       "      <td>Retail</td>\n",
       "      <td>Suspension &amp; traction</td>\n",
       "      <td>8</td>\n",
       "      <td>32.93</td>\n",
       "      <td>263.45</td>\n",
       "      <td>Credit card</td>\n",
       "      <td>Wednesday</td>\n",
       "      <td>January</td>\n",
       "    </tr>\n",
       "    <tr>\n",
       "      <th>3</th>\n",
       "      <td>2021-01-06</td>\n",
       "      <td>North</td>\n",
       "      <td>Wholesale</td>\n",
       "      <td>Frame &amp; body</td>\n",
       "      <td>16</td>\n",
       "      <td>37.84</td>\n",
       "      <td>605.44</td>\n",
       "      <td>Transfer</td>\n",
       "      <td>Wednesday</td>\n",
       "      <td>January</td>\n",
       "    </tr>\n",
       "    <tr>\n",
       "      <th>4</th>\n",
       "      <td>2021-01-06</td>\n",
       "      <td>Central</td>\n",
       "      <td>Retail</td>\n",
       "      <td>Engine</td>\n",
       "      <td>2</td>\n",
       "      <td>60.48</td>\n",
       "      <td>120.96</td>\n",
       "      <td>Credit card</td>\n",
       "      <td>Wednesday</td>\n",
       "      <td>January</td>\n",
       "    </tr>\n",
       "  </tbody>\n",
       "</table>\n",
       "</div>"
      ],
      "text/plain": [
       "        date warehouse client_type           product_line  quantity  \\\n",
       "0 2021-01-06   Central      Retail          Miscellaneous         8   \n",
       "1 2021-01-06     North      Retail        Breaking system         9   \n",
       "2 2021-01-06     North      Retail  Suspension & traction         8   \n",
       "3 2021-01-06     North   Wholesale           Frame & body        16   \n",
       "4 2021-01-06   Central      Retail                 Engine         2   \n",
       "\n",
       "   unit_price   total      payment    Weekday    Month  \n",
       "0       16.85  134.83  Credit card  Wednesday  January  \n",
       "1       19.29  173.61         Cash  Wednesday  January  \n",
       "2       32.93  263.45  Credit card  Wednesday  January  \n",
       "3       37.84  605.44     Transfer  Wednesday  January  \n",
       "4       60.48  120.96  Credit card  Wednesday  January  "
      ]
     },
     "execution_count": 143,
     "metadata": {},
     "output_type": "execute_result"
    }
   ],
   "source": [
    "sales.head()"
   ]
  },
  {
   "attachments": {},
   "cell_type": "markdown",
   "metadata": {},
   "source": [
    "### Warehouse With the Highest Revenue"
   ]
  },
  {
   "cell_type": "code",
   "execution_count": 144,
   "metadata": {},
   "outputs": [
    {
     "name": "stderr",
     "output_type": "stream",
     "text": [
      "C:\\Users\\abu aisha\\AppData\\Local\\Temp\\ipykernel_7000\\520630073.py:2: FutureWarning:\n",
      "\n",
      "The default value of numeric_only in DataFrameGroupBy.sum is deprecated. In a future version, numeric_only will default to False. Either specify numeric_only or select only columns which should be valid for the function.\n",
      "\n"
     ]
    },
    {
     "data": {
      "application/vnd.plotly.v1+json": {
       "config": {
        "plotlyServerURL": "https://plot.ly"
       },
       "data": [
        {
         "alignmentgroup": "True",
         "hovertemplate": "Warehouse=%{x}<br>Revenue($)=%{y}<extra></extra>",
         "legendgroup": "Central",
         "marker": {
          "color": "#636efa",
          "pattern": {
           "shape": ""
          }
         },
         "name": "Central",
         "offsetgroup": "Central",
         "orientation": "v",
         "showlegend": true,
         "textposition": "auto",
         "type": "bar",
         "x": [
          "Central"
         ],
         "xaxis": "x",
         "y": [
          141982.88
         ],
         "yaxis": "y"
        },
        {
         "alignmentgroup": "True",
         "hovertemplate": "Warehouse=%{x}<br>Revenue($)=%{y}<extra></extra>",
         "legendgroup": "North",
         "marker": {
          "color": "#EF553B",
          "pattern": {
           "shape": ""
          }
         },
         "name": "North",
         "offsetgroup": "North",
         "orientation": "v",
         "showlegend": true,
         "textposition": "auto",
         "type": "bar",
         "x": [
          "North"
         ],
         "xaxis": "x",
         "y": [
          100203.63
         ],
         "yaxis": "y"
        },
        {
         "alignmentgroup": "True",
         "hovertemplate": "Warehouse=%{x}<br>Revenue($)=%{y}<extra></extra>",
         "legendgroup": "West",
         "marker": {
          "color": "#00cc96",
          "pattern": {
           "shape": ""
          }
         },
         "name": "West",
         "offsetgroup": "West",
         "orientation": "v",
         "showlegend": true,
         "textposition": "auto",
         "type": "bar",
         "x": [
          "West"
         ],
         "xaxis": "x",
         "y": [
          46926.49
         ],
         "yaxis": "y"
        }
       ],
       "layout": {
        "barmode": "relative",
        "legend": {
         "title": {
          "text": "Warehouse"
         },
         "tracegroupgap": 0
        },
        "template": {
         "data": {
          "bar": [
           {
            "error_x": {
             "color": "#2a3f5f"
            },
            "error_y": {
             "color": "#2a3f5f"
            },
            "marker": {
             "line": {
              "color": "#E5ECF6",
              "width": 0.5
             },
             "pattern": {
              "fillmode": "overlay",
              "size": 10,
              "solidity": 0.2
             }
            },
            "type": "bar"
           }
          ],
          "barpolar": [
           {
            "marker": {
             "line": {
              "color": "#E5ECF6",
              "width": 0.5
             },
             "pattern": {
              "fillmode": "overlay",
              "size": 10,
              "solidity": 0.2
             }
            },
            "type": "barpolar"
           }
          ],
          "carpet": [
           {
            "aaxis": {
             "endlinecolor": "#2a3f5f",
             "gridcolor": "white",
             "linecolor": "white",
             "minorgridcolor": "white",
             "startlinecolor": "#2a3f5f"
            },
            "baxis": {
             "endlinecolor": "#2a3f5f",
             "gridcolor": "white",
             "linecolor": "white",
             "minorgridcolor": "white",
             "startlinecolor": "#2a3f5f"
            },
            "type": "carpet"
           }
          ],
          "choropleth": [
           {
            "colorbar": {
             "outlinewidth": 0,
             "ticks": ""
            },
            "type": "choropleth"
           }
          ],
          "contour": [
           {
            "colorbar": {
             "outlinewidth": 0,
             "ticks": ""
            },
            "colorscale": [
             [
              0,
              "#0d0887"
             ],
             [
              0.1111111111111111,
              "#46039f"
             ],
             [
              0.2222222222222222,
              "#7201a8"
             ],
             [
              0.3333333333333333,
              "#9c179e"
             ],
             [
              0.4444444444444444,
              "#bd3786"
             ],
             [
              0.5555555555555556,
              "#d8576b"
             ],
             [
              0.6666666666666666,
              "#ed7953"
             ],
             [
              0.7777777777777778,
              "#fb9f3a"
             ],
             [
              0.8888888888888888,
              "#fdca26"
             ],
             [
              1,
              "#f0f921"
             ]
            ],
            "type": "contour"
           }
          ],
          "contourcarpet": [
           {
            "colorbar": {
             "outlinewidth": 0,
             "ticks": ""
            },
            "type": "contourcarpet"
           }
          ],
          "heatmap": [
           {
            "colorbar": {
             "outlinewidth": 0,
             "ticks": ""
            },
            "colorscale": [
             [
              0,
              "#0d0887"
             ],
             [
              0.1111111111111111,
              "#46039f"
             ],
             [
              0.2222222222222222,
              "#7201a8"
             ],
             [
              0.3333333333333333,
              "#9c179e"
             ],
             [
              0.4444444444444444,
              "#bd3786"
             ],
             [
              0.5555555555555556,
              "#d8576b"
             ],
             [
              0.6666666666666666,
              "#ed7953"
             ],
             [
              0.7777777777777778,
              "#fb9f3a"
             ],
             [
              0.8888888888888888,
              "#fdca26"
             ],
             [
              1,
              "#f0f921"
             ]
            ],
            "type": "heatmap"
           }
          ],
          "heatmapgl": [
           {
            "colorbar": {
             "outlinewidth": 0,
             "ticks": ""
            },
            "colorscale": [
             [
              0,
              "#0d0887"
             ],
             [
              0.1111111111111111,
              "#46039f"
             ],
             [
              0.2222222222222222,
              "#7201a8"
             ],
             [
              0.3333333333333333,
              "#9c179e"
             ],
             [
              0.4444444444444444,
              "#bd3786"
             ],
             [
              0.5555555555555556,
              "#d8576b"
             ],
             [
              0.6666666666666666,
              "#ed7953"
             ],
             [
              0.7777777777777778,
              "#fb9f3a"
             ],
             [
              0.8888888888888888,
              "#fdca26"
             ],
             [
              1,
              "#f0f921"
             ]
            ],
            "type": "heatmapgl"
           }
          ],
          "histogram": [
           {
            "marker": {
             "pattern": {
              "fillmode": "overlay",
              "size": 10,
              "solidity": 0.2
             }
            },
            "type": "histogram"
           }
          ],
          "histogram2d": [
           {
            "colorbar": {
             "outlinewidth": 0,
             "ticks": ""
            },
            "colorscale": [
             [
              0,
              "#0d0887"
             ],
             [
              0.1111111111111111,
              "#46039f"
             ],
             [
              0.2222222222222222,
              "#7201a8"
             ],
             [
              0.3333333333333333,
              "#9c179e"
             ],
             [
              0.4444444444444444,
              "#bd3786"
             ],
             [
              0.5555555555555556,
              "#d8576b"
             ],
             [
              0.6666666666666666,
              "#ed7953"
             ],
             [
              0.7777777777777778,
              "#fb9f3a"
             ],
             [
              0.8888888888888888,
              "#fdca26"
             ],
             [
              1,
              "#f0f921"
             ]
            ],
            "type": "histogram2d"
           }
          ],
          "histogram2dcontour": [
           {
            "colorbar": {
             "outlinewidth": 0,
             "ticks": ""
            },
            "colorscale": [
             [
              0,
              "#0d0887"
             ],
             [
              0.1111111111111111,
              "#46039f"
             ],
             [
              0.2222222222222222,
              "#7201a8"
             ],
             [
              0.3333333333333333,
              "#9c179e"
             ],
             [
              0.4444444444444444,
              "#bd3786"
             ],
             [
              0.5555555555555556,
              "#d8576b"
             ],
             [
              0.6666666666666666,
              "#ed7953"
             ],
             [
              0.7777777777777778,
              "#fb9f3a"
             ],
             [
              0.8888888888888888,
              "#fdca26"
             ],
             [
              1,
              "#f0f921"
             ]
            ],
            "type": "histogram2dcontour"
           }
          ],
          "mesh3d": [
           {
            "colorbar": {
             "outlinewidth": 0,
             "ticks": ""
            },
            "type": "mesh3d"
           }
          ],
          "parcoords": [
           {
            "line": {
             "colorbar": {
              "outlinewidth": 0,
              "ticks": ""
             }
            },
            "type": "parcoords"
           }
          ],
          "pie": [
           {
            "automargin": true,
            "type": "pie"
           }
          ],
          "scatter": [
           {
            "fillpattern": {
             "fillmode": "overlay",
             "size": 10,
             "solidity": 0.2
            },
            "type": "scatter"
           }
          ],
          "scatter3d": [
           {
            "line": {
             "colorbar": {
              "outlinewidth": 0,
              "ticks": ""
             }
            },
            "marker": {
             "colorbar": {
              "outlinewidth": 0,
              "ticks": ""
             }
            },
            "type": "scatter3d"
           }
          ],
          "scattercarpet": [
           {
            "marker": {
             "colorbar": {
              "outlinewidth": 0,
              "ticks": ""
             }
            },
            "type": "scattercarpet"
           }
          ],
          "scattergeo": [
           {
            "marker": {
             "colorbar": {
              "outlinewidth": 0,
              "ticks": ""
             }
            },
            "type": "scattergeo"
           }
          ],
          "scattergl": [
           {
            "marker": {
             "colorbar": {
              "outlinewidth": 0,
              "ticks": ""
             }
            },
            "type": "scattergl"
           }
          ],
          "scattermapbox": [
           {
            "marker": {
             "colorbar": {
              "outlinewidth": 0,
              "ticks": ""
             }
            },
            "type": "scattermapbox"
           }
          ],
          "scatterpolar": [
           {
            "marker": {
             "colorbar": {
              "outlinewidth": 0,
              "ticks": ""
             }
            },
            "type": "scatterpolar"
           }
          ],
          "scatterpolargl": [
           {
            "marker": {
             "colorbar": {
              "outlinewidth": 0,
              "ticks": ""
             }
            },
            "type": "scatterpolargl"
           }
          ],
          "scatterternary": [
           {
            "marker": {
             "colorbar": {
              "outlinewidth": 0,
              "ticks": ""
             }
            },
            "type": "scatterternary"
           }
          ],
          "surface": [
           {
            "colorbar": {
             "outlinewidth": 0,
             "ticks": ""
            },
            "colorscale": [
             [
              0,
              "#0d0887"
             ],
             [
              0.1111111111111111,
              "#46039f"
             ],
             [
              0.2222222222222222,
              "#7201a8"
             ],
             [
              0.3333333333333333,
              "#9c179e"
             ],
             [
              0.4444444444444444,
              "#bd3786"
             ],
             [
              0.5555555555555556,
              "#d8576b"
             ],
             [
              0.6666666666666666,
              "#ed7953"
             ],
             [
              0.7777777777777778,
              "#fb9f3a"
             ],
             [
              0.8888888888888888,
              "#fdca26"
             ],
             [
              1,
              "#f0f921"
             ]
            ],
            "type": "surface"
           }
          ],
          "table": [
           {
            "cells": {
             "fill": {
              "color": "#EBF0F8"
             },
             "line": {
              "color": "white"
             }
            },
            "header": {
             "fill": {
              "color": "#C8D4E3"
             },
             "line": {
              "color": "white"
             }
            },
            "type": "table"
           }
          ]
         },
         "layout": {
          "annotationdefaults": {
           "arrowcolor": "#2a3f5f",
           "arrowhead": 0,
           "arrowwidth": 1
          },
          "autotypenumbers": "strict",
          "coloraxis": {
           "colorbar": {
            "outlinewidth": 0,
            "ticks": ""
           }
          },
          "colorscale": {
           "diverging": [
            [
             0,
             "#8e0152"
            ],
            [
             0.1,
             "#c51b7d"
            ],
            [
             0.2,
             "#de77ae"
            ],
            [
             0.3,
             "#f1b6da"
            ],
            [
             0.4,
             "#fde0ef"
            ],
            [
             0.5,
             "#f7f7f7"
            ],
            [
             0.6,
             "#e6f5d0"
            ],
            [
             0.7,
             "#b8e186"
            ],
            [
             0.8,
             "#7fbc41"
            ],
            [
             0.9,
             "#4d9221"
            ],
            [
             1,
             "#276419"
            ]
           ],
           "sequential": [
            [
             0,
             "#0d0887"
            ],
            [
             0.1111111111111111,
             "#46039f"
            ],
            [
             0.2222222222222222,
             "#7201a8"
            ],
            [
             0.3333333333333333,
             "#9c179e"
            ],
            [
             0.4444444444444444,
             "#bd3786"
            ],
            [
             0.5555555555555556,
             "#d8576b"
            ],
            [
             0.6666666666666666,
             "#ed7953"
            ],
            [
             0.7777777777777778,
             "#fb9f3a"
            ],
            [
             0.8888888888888888,
             "#fdca26"
            ],
            [
             1,
             "#f0f921"
            ]
           ],
           "sequentialminus": [
            [
             0,
             "#0d0887"
            ],
            [
             0.1111111111111111,
             "#46039f"
            ],
            [
             0.2222222222222222,
             "#7201a8"
            ],
            [
             0.3333333333333333,
             "#9c179e"
            ],
            [
             0.4444444444444444,
             "#bd3786"
            ],
            [
             0.5555555555555556,
             "#d8576b"
            ],
            [
             0.6666666666666666,
             "#ed7953"
            ],
            [
             0.7777777777777778,
             "#fb9f3a"
            ],
            [
             0.8888888888888888,
             "#fdca26"
            ],
            [
             1,
             "#f0f921"
            ]
           ]
          },
          "colorway": [
           "#636efa",
           "#EF553B",
           "#00cc96",
           "#ab63fa",
           "#FFA15A",
           "#19d3f3",
           "#FF6692",
           "#B6E880",
           "#FF97FF",
           "#FECB52"
          ],
          "font": {
           "color": "#2a3f5f"
          },
          "geo": {
           "bgcolor": "white",
           "lakecolor": "white",
           "landcolor": "#E5ECF6",
           "showlakes": true,
           "showland": true,
           "subunitcolor": "white"
          },
          "hoverlabel": {
           "align": "left"
          },
          "hovermode": "closest",
          "mapbox": {
           "style": "light"
          },
          "paper_bgcolor": "white",
          "plot_bgcolor": "#E5ECF6",
          "polar": {
           "angularaxis": {
            "gridcolor": "white",
            "linecolor": "white",
            "ticks": ""
           },
           "bgcolor": "#E5ECF6",
           "radialaxis": {
            "gridcolor": "white",
            "linecolor": "white",
            "ticks": ""
           }
          },
          "scene": {
           "xaxis": {
            "backgroundcolor": "#E5ECF6",
            "gridcolor": "white",
            "gridwidth": 2,
            "linecolor": "white",
            "showbackground": true,
            "ticks": "",
            "zerolinecolor": "white"
           },
           "yaxis": {
            "backgroundcolor": "#E5ECF6",
            "gridcolor": "white",
            "gridwidth": 2,
            "linecolor": "white",
            "showbackground": true,
            "ticks": "",
            "zerolinecolor": "white"
           },
           "zaxis": {
            "backgroundcolor": "#E5ECF6",
            "gridcolor": "white",
            "gridwidth": 2,
            "linecolor": "white",
            "showbackground": true,
            "ticks": "",
            "zerolinecolor": "white"
           }
          },
          "shapedefaults": {
           "line": {
            "color": "#2a3f5f"
           }
          },
          "ternary": {
           "aaxis": {
            "gridcolor": "white",
            "linecolor": "white",
            "ticks": ""
           },
           "baxis": {
            "gridcolor": "white",
            "linecolor": "white",
            "ticks": ""
           },
           "bgcolor": "#E5ECF6",
           "caxis": {
            "gridcolor": "white",
            "linecolor": "white",
            "ticks": ""
           }
          },
          "title": {
           "x": 0.05
          },
          "xaxis": {
           "automargin": true,
           "gridcolor": "white",
           "linecolor": "white",
           "ticks": "",
           "title": {
            "standoff": 15
           },
           "zerolinecolor": "white",
           "zerolinewidth": 2
          },
          "yaxis": {
           "automargin": true,
           "gridcolor": "white",
           "linecolor": "white",
           "ticks": "",
           "title": {
            "standoff": 15
           },
           "zerolinecolor": "white",
           "zerolinewidth": 2
          }
         }
        },
        "title": {
         "text": "Warehouse With the Highest Revenue"
        },
        "xaxis": {
         "anchor": "y",
         "categoryarray": [
          "Central",
          "North",
          "West"
         ],
         "categoryorder": "array",
         "domain": [
          0,
          1
         ],
         "title": {
          "text": "Warehouse"
         }
        },
        "yaxis": {
         "anchor": "x",
         "domain": [
          0,
          1
         ],
         "tickformat": ",.",
         "tickprefix": "$",
         "title": {
          "text": "Revenue($)"
         }
        }
       }
      }
     },
     "metadata": {},
     "output_type": "display_data"
    }
   ],
   "source": [
    "# Plot the DataFrame\n",
    "wh_most_sales = px.bar(sales.groupby('warehouse').sum().reset_index().\n",
    "                        loc[:,[\"warehouse\",\"total\"]].sort_values(by=\"total\", ascending=False),\n",
    "                        color=\"warehouse\", x='warehouse', y='total', title='Warehouse With the Highest Revenue', \n",
    "                        labels={'warehouse': 'Warehouse','total': 'Revenue($)'})\n",
    "\n",
    "wh_most_sales.update_layout(yaxis_tickprefix = '$', yaxis_tickformat = ',.')\n",
    "\n",
    "# Sort the bars from lowest to highest\n",
    "wh_most_sales.show()"
   ]
  },
  {
   "cell_type": "code",
   "execution_count": 145,
   "metadata": {},
   "outputs": [
    {
     "data": {
      "text/html": [
       "<div>\n",
       "<style scoped>\n",
       "    .dataframe tbody tr th:only-of-type {\n",
       "        vertical-align: middle;\n",
       "    }\n",
       "\n",
       "    .dataframe tbody tr th {\n",
       "        vertical-align: top;\n",
       "    }\n",
       "\n",
       "    .dataframe thead th {\n",
       "        text-align: right;\n",
       "    }\n",
       "</style>\n",
       "<table border=\"1\" class=\"dataframe\">\n",
       "  <thead>\n",
       "    <tr style=\"text-align: right;\">\n",
       "      <th></th>\n",
       "      <th>date</th>\n",
       "      <th>warehouse</th>\n",
       "      <th>client_type</th>\n",
       "      <th>product_line</th>\n",
       "      <th>quantity</th>\n",
       "      <th>unit_price</th>\n",
       "      <th>total</th>\n",
       "      <th>payment</th>\n",
       "      <th>Weekday</th>\n",
       "      <th>Month</th>\n",
       "    </tr>\n",
       "  </thead>\n",
       "  <tbody>\n",
       "    <tr>\n",
       "      <th>0</th>\n",
       "      <td>2021-01-06</td>\n",
       "      <td>Central</td>\n",
       "      <td>Retail</td>\n",
       "      <td>Miscellaneous</td>\n",
       "      <td>8</td>\n",
       "      <td>16.85</td>\n",
       "      <td>134.83</td>\n",
       "      <td>Credit card</td>\n",
       "      <td>Wednesday</td>\n",
       "      <td>January</td>\n",
       "    </tr>\n",
       "    <tr>\n",
       "      <th>1</th>\n",
       "      <td>2021-01-06</td>\n",
       "      <td>North</td>\n",
       "      <td>Retail</td>\n",
       "      <td>Breaking system</td>\n",
       "      <td>9</td>\n",
       "      <td>19.29</td>\n",
       "      <td>173.61</td>\n",
       "      <td>Cash</td>\n",
       "      <td>Wednesday</td>\n",
       "      <td>January</td>\n",
       "    </tr>\n",
       "    <tr>\n",
       "      <th>2</th>\n",
       "      <td>2021-01-06</td>\n",
       "      <td>North</td>\n",
       "      <td>Retail</td>\n",
       "      <td>Suspension &amp; traction</td>\n",
       "      <td>8</td>\n",
       "      <td>32.93</td>\n",
       "      <td>263.45</td>\n",
       "      <td>Credit card</td>\n",
       "      <td>Wednesday</td>\n",
       "      <td>January</td>\n",
       "    </tr>\n",
       "    <tr>\n",
       "      <th>3</th>\n",
       "      <td>2021-01-06</td>\n",
       "      <td>North</td>\n",
       "      <td>Wholesale</td>\n",
       "      <td>Frame &amp; body</td>\n",
       "      <td>16</td>\n",
       "      <td>37.84</td>\n",
       "      <td>605.44</td>\n",
       "      <td>Transfer</td>\n",
       "      <td>Wednesday</td>\n",
       "      <td>January</td>\n",
       "    </tr>\n",
       "    <tr>\n",
       "      <th>4</th>\n",
       "      <td>2021-01-06</td>\n",
       "      <td>Central</td>\n",
       "      <td>Retail</td>\n",
       "      <td>Engine</td>\n",
       "      <td>2</td>\n",
       "      <td>60.48</td>\n",
       "      <td>120.96</td>\n",
       "      <td>Credit card</td>\n",
       "      <td>Wednesday</td>\n",
       "      <td>January</td>\n",
       "    </tr>\n",
       "  </tbody>\n",
       "</table>\n",
       "</div>"
      ],
      "text/plain": [
       "        date warehouse client_type           product_line  quantity  \\\n",
       "0 2021-01-06   Central      Retail          Miscellaneous         8   \n",
       "1 2021-01-06     North      Retail        Breaking system         9   \n",
       "2 2021-01-06     North      Retail  Suspension & traction         8   \n",
       "3 2021-01-06     North   Wholesale           Frame & body        16   \n",
       "4 2021-01-06   Central      Retail                 Engine         2   \n",
       "\n",
       "   unit_price   total      payment    Weekday    Month  \n",
       "0       16.85  134.83  Credit card  Wednesday  January  \n",
       "1       19.29  173.61         Cash  Wednesday  January  \n",
       "2       32.93  263.45  Credit card  Wednesday  January  \n",
       "3       37.84  605.44     Transfer  Wednesday  January  \n",
       "4       60.48  120.96  Credit card  Wednesday  January  "
      ]
     },
     "execution_count": 145,
     "metadata": {},
     "output_type": "execute_result"
    }
   ],
   "source": [
    "sales.head()"
   ]
  },
  {
   "attachments": {},
   "cell_type": "markdown",
   "metadata": {},
   "source": [
    "## Classfication Model"
   ]
  },
  {
   "cell_type": "code",
   "execution_count": 186,
   "metadata": {},
   "outputs": [],
   "source": [
    "from imblearn.over_sampling import SMOTE\n",
    "from sklearn.preprocessing import LabelEncoder\n",
    "from sklearn.model_selection import train_test_split, cross_val_score\n",
    "from sklearn.metrics import accuracy_score\n",
    "from catboost import CatBoostClassifier"
   ]
  },
  {
   "cell_type": "code",
   "execution_count": 187,
   "metadata": {},
   "outputs": [
    {
     "name": "stderr",
     "output_type": "stream",
     "text": [
      "C:\\Users\\abu aisha\\AppData\\Local\\Temp\\ipykernel_7000\\2541443645.py:9: SettingWithCopyWarning:\n",
      "\n",
      "\n",
      "A value is trying to be set on a copy of a slice from a DataFrame.\n",
      "Try using .loc[row_indexer,col_indexer] = value instead\n",
      "\n",
      "See the caveats in the documentation: https://pandas.pydata.org/pandas-docs/stable/user_guide/indexing.html#returning-a-view-versus-a-copy\n",
      "\n",
      "C:\\Users\\abu aisha\\AppData\\Local\\Temp\\ipykernel_7000\\2541443645.py:9: SettingWithCopyWarning:\n",
      "\n",
      "\n",
      "A value is trying to be set on a copy of a slice from a DataFrame.\n",
      "Try using .loc[row_indexer,col_indexer] = value instead\n",
      "\n",
      "See the caveats in the documentation: https://pandas.pydata.org/pandas-docs/stable/user_guide/indexing.html#returning-a-view-versus-a-copy\n",
      "\n",
      "C:\\Users\\abu aisha\\AppData\\Local\\Temp\\ipykernel_7000\\2541443645.py:9: SettingWithCopyWarning:\n",
      "\n",
      "\n",
      "A value is trying to be set on a copy of a slice from a DataFrame.\n",
      "Try using .loc[row_indexer,col_indexer] = value instead\n",
      "\n",
      "See the caveats in the documentation: https://pandas.pydata.org/pandas-docs/stable/user_guide/indexing.html#returning-a-view-versus-a-copy\n",
      "\n",
      "C:\\Users\\abu aisha\\AppData\\Local\\Temp\\ipykernel_7000\\2541443645.py:9: SettingWithCopyWarning:\n",
      "\n",
      "\n",
      "A value is trying to be set on a copy of a slice from a DataFrame.\n",
      "Try using .loc[row_indexer,col_indexer] = value instead\n",
      "\n",
      "See the caveats in the documentation: https://pandas.pydata.org/pandas-docs/stable/user_guide/indexing.html#returning-a-view-versus-a-copy\n",
      "\n",
      "C:\\Users\\abu aisha\\AppData\\Local\\Temp\\ipykernel_7000\\2541443645.py:9: SettingWithCopyWarning:\n",
      "\n",
      "\n",
      "A value is trying to be set on a copy of a slice from a DataFrame.\n",
      "Try using .loc[row_indexer,col_indexer] = value instead\n",
      "\n",
      "See the caveats in the documentation: https://pandas.pydata.org/pandas-docs/stable/user_guide/indexing.html#returning-a-view-versus-a-copy\n",
      "\n"
     ]
    },
    {
     "name": "stdout",
     "output_type": "stream",
     "text": [
      "Accuracy: 0.595\n",
      "0:\tlearn: 0.9739121\ttotal: 1.82ms\tremaining: 181ms\n",
      "1:\tlearn: 0.8733133\ttotal: 2.78ms\tremaining: 136ms\n",
      "2:\tlearn: 0.8063403\ttotal: 6.52ms\tremaining: 211ms\n",
      "3:\tlearn: 0.7430010\ttotal: 8.15ms\tremaining: 196ms\n",
      "4:\tlearn: 0.6914150\ttotal: 10.3ms\tremaining: 196ms\n",
      "5:\tlearn: 0.6446996\ttotal: 11.1ms\tremaining: 174ms\n",
      "6:\tlearn: 0.6141498\ttotal: 14.4ms\tremaining: 191ms\n",
      "7:\tlearn: 0.5854888\ttotal: 18.6ms\tremaining: 214ms\n",
      "8:\tlearn: 0.5563665\ttotal: 20.1ms\tremaining: 203ms\n",
      "9:\tlearn: 0.5339816\ttotal: 23.5ms\tremaining: 212ms\n",
      "10:\tlearn: 0.5161622\ttotal: 27.1ms\tremaining: 219ms\n",
      "11:\tlearn: 0.4977921\ttotal: 30.5ms\tremaining: 223ms\n",
      "12:\tlearn: 0.4840158\ttotal: 34.3ms\tremaining: 229ms\n",
      "13:\tlearn: 0.4698999\ttotal: 37.5ms\tremaining: 231ms\n",
      "14:\tlearn: 0.4571082\ttotal: 41.1ms\tremaining: 233ms\n",
      "15:\tlearn: 0.4474759\ttotal: 44.5ms\tremaining: 234ms\n",
      "16:\tlearn: 0.4376539\ttotal: 48.4ms\tremaining: 236ms\n",
      "17:\tlearn: 0.4266495\ttotal: 50.5ms\tremaining: 230ms\n",
      "18:\tlearn: 0.4182106\ttotal: 54ms\tremaining: 230ms\n",
      "19:\tlearn: 0.4097740\ttotal: 57.4ms\tremaining: 229ms\n",
      "20:\tlearn: 0.4036668\ttotal: 60.7ms\tremaining: 228ms\n",
      "21:\tlearn: 0.3954166\ttotal: 62.1ms\tremaining: 220ms\n",
      "22:\tlearn: 0.3897011\ttotal: 65.8ms\tremaining: 220ms\n",
      "23:\tlearn: 0.3839705\ttotal: 69ms\tremaining: 219ms\n",
      "24:\tlearn: 0.3791636\ttotal: 72.2ms\tremaining: 217ms\n",
      "25:\tlearn: 0.3729651\ttotal: 75.5ms\tremaining: 215ms\n",
      "26:\tlearn: 0.3686678\ttotal: 79.1ms\tremaining: 214ms\n",
      "27:\tlearn: 0.3642395\ttotal: 81.4ms\tremaining: 209ms\n",
      "28:\tlearn: 0.3602365\ttotal: 84.6ms\tremaining: 207ms\n",
      "29:\tlearn: 0.3564976\ttotal: 88ms\tremaining: 205ms\n",
      "30:\tlearn: 0.3531330\ttotal: 90ms\tremaining: 200ms\n",
      "31:\tlearn: 0.3491569\ttotal: 91.6ms\tremaining: 195ms\n",
      "32:\tlearn: 0.3472526\ttotal: 95.5ms\tremaining: 194ms\n",
      "33:\tlearn: 0.3444309\ttotal: 99.1ms\tremaining: 192ms\n",
      "34:\tlearn: 0.3419882\ttotal: 102ms\tremaining: 190ms\n",
      "35:\tlearn: 0.3389116\ttotal: 106ms\tremaining: 188ms\n",
      "36:\tlearn: 0.3367005\ttotal: 109ms\tremaining: 186ms\n",
      "37:\tlearn: 0.3341122\ttotal: 113ms\tremaining: 184ms\n",
      "38:\tlearn: 0.3317623\ttotal: 116ms\tremaining: 182ms\n",
      "39:\tlearn: 0.3288696\ttotal: 119ms\tremaining: 179ms\n",
      "40:\tlearn: 0.3272112\ttotal: 123ms\tremaining: 177ms\n",
      "41:\tlearn: 0.3251943\ttotal: 126ms\tremaining: 174ms\n",
      "42:\tlearn: 0.3230699\ttotal: 130ms\tremaining: 172ms\n",
      "43:\tlearn: 0.3212036\ttotal: 133ms\tremaining: 169ms\n",
      "44:\tlearn: 0.3186612\ttotal: 137ms\tremaining: 167ms\n",
      "45:\tlearn: 0.3169237\ttotal: 140ms\tremaining: 165ms\n",
      "46:\tlearn: 0.3158943\ttotal: 144ms\tremaining: 162ms\n",
      "47:\tlearn: 0.3135920\ttotal: 147ms\tremaining: 159ms\n",
      "48:\tlearn: 0.3125787\ttotal: 150ms\tremaining: 156ms\n",
      "49:\tlearn: 0.3107327\ttotal: 151ms\tremaining: 151ms\n",
      "50:\tlearn: 0.3092196\ttotal: 155ms\tremaining: 148ms\n",
      "51:\tlearn: 0.3073326\ttotal: 155ms\tremaining: 143ms\n",
      "52:\tlearn: 0.3060948\ttotal: 159ms\tremaining: 141ms\n",
      "53:\tlearn: 0.3044311\ttotal: 162ms\tremaining: 138ms\n",
      "54:\tlearn: 0.3030352\ttotal: 165ms\tremaining: 135ms\n",
      "55:\tlearn: 0.3012670\ttotal: 169ms\tremaining: 133ms\n",
      "56:\tlearn: 0.3001949\ttotal: 172ms\tremaining: 130ms\n",
      "57:\tlearn: 0.2988155\ttotal: 174ms\tremaining: 126ms\n",
      "58:\tlearn: 0.2977526\ttotal: 178ms\tremaining: 124ms\n",
      "59:\tlearn: 0.2966661\ttotal: 181ms\tremaining: 121ms\n",
      "60:\tlearn: 0.2958636\ttotal: 186ms\tremaining: 119ms\n",
      "61:\tlearn: 0.2946075\ttotal: 189ms\tremaining: 116ms\n",
      "62:\tlearn: 0.2931500\ttotal: 192ms\tremaining: 113ms\n",
      "63:\tlearn: 0.2913650\ttotal: 196ms\tremaining: 110ms\n",
      "64:\tlearn: 0.2903894\ttotal: 198ms\tremaining: 107ms\n",
      "65:\tlearn: 0.2879817\ttotal: 202ms\tremaining: 104ms\n",
      "66:\tlearn: 0.2870544\ttotal: 206ms\tremaining: 102ms\n",
      "67:\tlearn: 0.2852135\ttotal: 210ms\tremaining: 98.8ms\n",
      "68:\tlearn: 0.2842758\ttotal: 214ms\tremaining: 95.9ms\n",
      "69:\tlearn: 0.2833290\ttotal: 217ms\tremaining: 93ms\n",
      "70:\tlearn: 0.2820098\ttotal: 221ms\tremaining: 90.4ms\n",
      "71:\tlearn: 0.2810299\ttotal: 225ms\tremaining: 87.4ms\n",
      "72:\tlearn: 0.2797849\ttotal: 228ms\tremaining: 84.5ms\n",
      "73:\tlearn: 0.2788628\ttotal: 234ms\tremaining: 82.2ms\n",
      "74:\tlearn: 0.2778698\ttotal: 239ms\tremaining: 79.6ms\n",
      "75:\tlearn: 0.2771466\ttotal: 243ms\tremaining: 76.6ms\n",
      "76:\tlearn: 0.2758824\ttotal: 246ms\tremaining: 73.5ms\n",
      "77:\tlearn: 0.2751599\ttotal: 250ms\tremaining: 70.4ms\n",
      "78:\tlearn: 0.2734002\ttotal: 255ms\tremaining: 67.7ms\n",
      "79:\tlearn: 0.2720026\ttotal: 259ms\tremaining: 64.7ms\n",
      "80:\tlearn: 0.2710046\ttotal: 262ms\tremaining: 61.5ms\n",
      "81:\tlearn: 0.2702887\ttotal: 266ms\tremaining: 58.3ms\n",
      "82:\tlearn: 0.2690035\ttotal: 270ms\tremaining: 55.4ms\n",
      "83:\tlearn: 0.2684493\ttotal: 274ms\tremaining: 52.2ms\n",
      "84:\tlearn: 0.2672494\ttotal: 277ms\tremaining: 48.9ms\n",
      "85:\tlearn: 0.2659230\ttotal: 281ms\tremaining: 45.7ms\n",
      "86:\tlearn: 0.2653181\ttotal: 289ms\tremaining: 43.2ms\n",
      "87:\tlearn: 0.2644849\ttotal: 292ms\tremaining: 39.9ms\n",
      "88:\tlearn: 0.2632554\ttotal: 296ms\tremaining: 36.6ms\n",
      "89:\tlearn: 0.2614923\ttotal: 302ms\tremaining: 33.5ms\n",
      "90:\tlearn: 0.2599872\ttotal: 306ms\tremaining: 30.2ms\n",
      "91:\tlearn: 0.2586558\ttotal: 310ms\tremaining: 26.9ms\n",
      "92:\tlearn: 0.2573541\ttotal: 314ms\tremaining: 23.6ms\n",
      "93:\tlearn: 0.2559006\ttotal: 318ms\tremaining: 20.3ms\n",
      "94:\tlearn: 0.2549524\ttotal: 322ms\tremaining: 16.9ms\n",
      "95:\tlearn: 0.2537416\ttotal: 327ms\tremaining: 13.6ms\n",
      "96:\tlearn: 0.2525607\ttotal: 330ms\tremaining: 10.2ms\n",
      "97:\tlearn: 0.2519890\ttotal: 334ms\tremaining: 6.82ms\n",
      "98:\tlearn: 0.2509746\ttotal: 337ms\tremaining: 3.41ms\n",
      "99:\tlearn: 0.2500526\ttotal: 341ms\tremaining: 0us\n",
      "0:\tlearn: 0.9744660\ttotal: 3.23ms\tremaining: 320ms\n",
      "1:\tlearn: 0.8737802\ttotal: 4.28ms\tremaining: 210ms\n",
      "2:\tlearn: 0.8063123\ttotal: 8.49ms\tremaining: 275ms\n",
      "3:\tlearn: 0.7430360\ttotal: 10.1ms\tremaining: 243ms\n",
      "4:\tlearn: 0.6939268\ttotal: 12.6ms\tremaining: 239ms\n",
      "5:\tlearn: 0.6467646\ttotal: 13.5ms\tremaining: 212ms\n",
      "6:\tlearn: 0.6164539\ttotal: 18ms\tremaining: 239ms\n",
      "7:\tlearn: 0.5872123\ttotal: 22.6ms\tremaining: 260ms\n",
      "8:\tlearn: 0.5579432\ttotal: 24.3ms\tremaining: 246ms\n",
      "9:\tlearn: 0.5361991\ttotal: 27.9ms\tremaining: 251ms\n",
      "10:\tlearn: 0.5183556\ttotal: 31.1ms\tremaining: 252ms\n",
      "11:\tlearn: 0.4997775\ttotal: 34.6ms\tremaining: 253ms\n",
      "12:\tlearn: 0.4858076\ttotal: 38.4ms\tremaining: 257ms\n",
      "13:\tlearn: 0.4715908\ttotal: 41.7ms\tremaining: 256ms\n",
      "14:\tlearn: 0.4581348\ttotal: 44.9ms\tremaining: 255ms\n",
      "15:\tlearn: 0.4485551\ttotal: 48ms\tremaining: 252ms\n",
      "16:\tlearn: 0.4384032\ttotal: 52.1ms\tremaining: 254ms\n",
      "17:\tlearn: 0.4287548\ttotal: 55.3ms\tremaining: 252ms\n",
      "18:\tlearn: 0.4210469\ttotal: 58.5ms\tremaining: 249ms\n",
      "19:\tlearn: 0.4141864\ttotal: 61.6ms\tremaining: 246ms\n",
      "20:\tlearn: 0.4051676\ttotal: 63.1ms\tremaining: 237ms\n",
      "21:\tlearn: 0.3979722\ttotal: 66.7ms\tremaining: 237ms\n",
      "22:\tlearn: 0.3905101\ttotal: 68.3ms\tremaining: 229ms\n",
      "23:\tlearn: 0.3858154\ttotal: 71.6ms\tremaining: 227ms\n",
      "24:\tlearn: 0.3813016\ttotal: 75.1ms\tremaining: 225ms\n",
      "25:\tlearn: 0.3752069\ttotal: 76.8ms\tremaining: 218ms\n",
      "26:\tlearn: 0.3710346\ttotal: 80.4ms\tremaining: 217ms\n",
      "27:\tlearn: 0.3665837\ttotal: 84ms\tremaining: 216ms\n",
      "28:\tlearn: 0.3635328\ttotal: 87.1ms\tremaining: 213ms\n",
      "29:\tlearn: 0.3593145\ttotal: 90.5ms\tremaining: 211ms\n",
      "30:\tlearn: 0.3554462\ttotal: 93.7ms\tremaining: 209ms\n",
      "31:\tlearn: 0.3515562\ttotal: 97.1ms\tremaining: 206ms\n",
      "32:\tlearn: 0.3473348\ttotal: 98ms\tremaining: 199ms\n",
      "33:\tlearn: 0.3434828\ttotal: 101ms\tremaining: 196ms\n",
      "34:\tlearn: 0.3411500\ttotal: 104ms\tremaining: 194ms\n",
      "35:\tlearn: 0.3382287\ttotal: 107ms\tremaining: 191ms\n",
      "36:\tlearn: 0.3371305\ttotal: 111ms\tremaining: 189ms\n",
      "37:\tlearn: 0.3347638\ttotal: 115ms\tremaining: 187ms\n",
      "38:\tlearn: 0.3323632\ttotal: 118ms\tremaining: 185ms\n",
      "39:\tlearn: 0.3300533\ttotal: 121ms\tremaining: 182ms\n",
      "40:\tlearn: 0.3288293\ttotal: 125ms\tremaining: 180ms\n",
      "41:\tlearn: 0.3262087\ttotal: 129ms\tremaining: 178ms\n",
      "42:\tlearn: 0.3242443\ttotal: 132ms\tremaining: 175ms\n",
      "43:\tlearn: 0.3219771\ttotal: 136ms\tremaining: 173ms\n",
      "44:\tlearn: 0.3207181\ttotal: 139ms\tremaining: 170ms\n",
      "45:\tlearn: 0.3190254\ttotal: 142ms\tremaining: 167ms\n",
      "46:\tlearn: 0.3169792\ttotal: 144ms\tremaining: 162ms\n",
      "47:\tlearn: 0.3154311\ttotal: 146ms\tremaining: 158ms\n",
      "48:\tlearn: 0.3135629\ttotal: 149ms\tremaining: 155ms\n",
      "49:\tlearn: 0.3121003\ttotal: 153ms\tremaining: 153ms\n",
      "50:\tlearn: 0.3100249\ttotal: 156ms\tremaining: 150ms\n",
      "51:\tlearn: 0.3089454\ttotal: 160ms\tremaining: 148ms\n",
      "52:\tlearn: 0.3080019\ttotal: 164ms\tremaining: 145ms\n",
      "53:\tlearn: 0.3065528\ttotal: 167ms\tremaining: 142ms\n",
      "54:\tlearn: 0.3055334\ttotal: 170ms\tremaining: 139ms\n",
      "55:\tlearn: 0.3034723\ttotal: 174ms\tremaining: 137ms\n",
      "56:\tlearn: 0.3020232\ttotal: 177ms\tremaining: 134ms\n",
      "57:\tlearn: 0.3010268\ttotal: 181ms\tremaining: 131ms\n",
      "58:\tlearn: 0.2993113\ttotal: 184ms\tremaining: 128ms\n",
      "59:\tlearn: 0.2980589\ttotal: 187ms\tremaining: 125ms\n",
      "60:\tlearn: 0.2968841\ttotal: 190ms\tremaining: 122ms\n",
      "61:\tlearn: 0.2958786\ttotal: 194ms\tremaining: 119ms\n",
      "62:\tlearn: 0.2943730\ttotal: 198ms\tremaining: 116ms\n",
      "63:\tlearn: 0.2928569\ttotal: 201ms\tremaining: 113ms\n",
      "64:\tlearn: 0.2912592\ttotal: 204ms\tremaining: 110ms\n",
      "65:\tlearn: 0.2896145\ttotal: 208ms\tremaining: 107ms\n",
      "66:\tlearn: 0.2882608\ttotal: 211ms\tremaining: 104ms\n",
      "67:\tlearn: 0.2870991\ttotal: 214ms\tremaining: 101ms\n",
      "68:\tlearn: 0.2861470\ttotal: 218ms\tremaining: 97.8ms\n",
      "69:\tlearn: 0.2844976\ttotal: 221ms\tremaining: 94.8ms\n",
      "70:\tlearn: 0.2832815\ttotal: 225ms\tremaining: 91.8ms\n",
      "71:\tlearn: 0.2822948\ttotal: 228ms\tremaining: 88.8ms\n",
      "72:\tlearn: 0.2817455\ttotal: 232ms\tremaining: 85.8ms\n",
      "73:\tlearn: 0.2805860\ttotal: 235ms\tremaining: 82.7ms\n",
      "74:\tlearn: 0.2793961\ttotal: 240ms\tremaining: 79.9ms\n",
      "75:\tlearn: 0.2782920\ttotal: 243ms\tremaining: 76.8ms\n",
      "76:\tlearn: 0.2767555\ttotal: 246ms\tremaining: 73.6ms\n",
      "77:\tlearn: 0.2753319\ttotal: 250ms\tremaining: 70.5ms\n",
      "78:\tlearn: 0.2748001\ttotal: 253ms\tremaining: 67.3ms\n",
      "79:\tlearn: 0.2736085\ttotal: 257ms\tremaining: 64.2ms\n",
      "80:\tlearn: 0.2728949\ttotal: 260ms\tremaining: 61ms\n",
      "81:\tlearn: 0.2722589\ttotal: 263ms\tremaining: 57.8ms\n",
      "82:\tlearn: 0.2714286\ttotal: 267ms\tremaining: 54.7ms\n",
      "83:\tlearn: 0.2696180\ttotal: 271ms\tremaining: 51.6ms\n",
      "84:\tlearn: 0.2686097\ttotal: 275ms\tremaining: 48.4ms\n",
      "85:\tlearn: 0.2677923\ttotal: 278ms\tremaining: 45.2ms\n",
      "86:\tlearn: 0.2669663\ttotal: 281ms\tremaining: 42ms\n",
      "87:\tlearn: 0.2655589\ttotal: 285ms\tremaining: 38.9ms\n",
      "88:\tlearn: 0.2640451\ttotal: 289ms\tremaining: 35.7ms\n",
      "89:\tlearn: 0.2629922\ttotal: 293ms\tremaining: 32.6ms\n",
      "90:\tlearn: 0.2620615\ttotal: 297ms\tremaining: 29.4ms\n",
      "91:\tlearn: 0.2613920\ttotal: 301ms\tremaining: 26.2ms\n",
      "92:\tlearn: 0.2603587\ttotal: 306ms\tremaining: 23ms\n",
      "93:\tlearn: 0.2593503\ttotal: 310ms\tremaining: 19.8ms\n",
      "94:\tlearn: 0.2584195\ttotal: 313ms\tremaining: 16.5ms\n",
      "95:\tlearn: 0.2579360\ttotal: 316ms\tremaining: 13.2ms\n",
      "96:\tlearn: 0.2566928\ttotal: 321ms\tremaining: 9.92ms\n",
      "97:\tlearn: 0.2555838\ttotal: 324ms\tremaining: 6.62ms\n",
      "98:\tlearn: 0.2539304\ttotal: 328ms\tremaining: 3.31ms\n",
      "99:\tlearn: 0.2525420\ttotal: 333ms\tremaining: 0us\n",
      "0:\tlearn: 0.9740722\ttotal: 2.29ms\tremaining: 226ms\n",
      "1:\tlearn: 0.8734117\ttotal: 3.37ms\tremaining: 165ms\n",
      "2:\tlearn: 0.8059695\ttotal: 6.84ms\tremaining: 221ms\n",
      "3:\tlearn: 0.7427414\ttotal: 8.36ms\tremaining: 201ms\n",
      "4:\tlearn: 0.6939228\ttotal: 12ms\tremaining: 227ms\n",
      "5:\tlearn: 0.6467455\ttotal: 13ms\tremaining: 204ms\n",
      "6:\tlearn: 0.6161905\ttotal: 17.1ms\tremaining: 227ms\n",
      "7:\tlearn: 0.5874313\ttotal: 21.2ms\tremaining: 244ms\n",
      "8:\tlearn: 0.5578844\ttotal: 22.8ms\tremaining: 230ms\n",
      "9:\tlearn: 0.5374118\ttotal: 26.3ms\tremaining: 237ms\n",
      "10:\tlearn: 0.5188242\ttotal: 29.8ms\tremaining: 241ms\n",
      "11:\tlearn: 0.4970057\ttotal: 31ms\tremaining: 228ms\n",
      "12:\tlearn: 0.4822340\ttotal: 53.8ms\tremaining: 360ms\n",
      "13:\tlearn: 0.4681774\ttotal: 57.3ms\tremaining: 352ms\n",
      "14:\tlearn: 0.4539712\ttotal: 61.1ms\tremaining: 346ms\n",
      "15:\tlearn: 0.4401081\ttotal: 62.8ms\tremaining: 329ms\n",
      "16:\tlearn: 0.4316526\ttotal: 67.3ms\tremaining: 329ms\n",
      "17:\tlearn: 0.4230912\ttotal: 70.5ms\tremaining: 321ms\n",
      "18:\tlearn: 0.4132418\ttotal: 72.2ms\tremaining: 308ms\n",
      "19:\tlearn: 0.4064510\ttotal: 76.9ms\tremaining: 308ms\n",
      "20:\tlearn: 0.3976795\ttotal: 78.1ms\tremaining: 294ms\n",
      "21:\tlearn: 0.3921300\ttotal: 83.1ms\tremaining: 295ms\n",
      "22:\tlearn: 0.3846455\ttotal: 84ms\tremaining: 281ms\n",
      "23:\tlearn: 0.3789368\ttotal: 87.5ms\tremaining: 277ms\n",
      "24:\tlearn: 0.3734545\ttotal: 89.1ms\tremaining: 267ms\n",
      "25:\tlearn: 0.3701422\ttotal: 92.4ms\tremaining: 263ms\n",
      "26:\tlearn: 0.3648191\ttotal: 93.3ms\tremaining: 252ms\n",
      "27:\tlearn: 0.3610734\ttotal: 97.7ms\tremaining: 251ms\n",
      "28:\tlearn: 0.3572531\ttotal: 99.4ms\tremaining: 243ms\n",
      "29:\tlearn: 0.3542103\ttotal: 103ms\tremaining: 241ms\n",
      "30:\tlearn: 0.3515366\ttotal: 107ms\tremaining: 239ms\n",
      "31:\tlearn: 0.3485055\ttotal: 111ms\tremaining: 236ms\n",
      "32:\tlearn: 0.3455910\ttotal: 115ms\tremaining: 234ms\n",
      "33:\tlearn: 0.3425311\ttotal: 117ms\tremaining: 226ms\n",
      "34:\tlearn: 0.3405113\ttotal: 120ms\tremaining: 222ms\n",
      "35:\tlearn: 0.3377149\ttotal: 123ms\tremaining: 218ms\n",
      "36:\tlearn: 0.3363025\ttotal: 126ms\tremaining: 215ms\n",
      "37:\tlearn: 0.3350318\ttotal: 130ms\tremaining: 213ms\n",
      "38:\tlearn: 0.3336883\ttotal: 134ms\tremaining: 209ms\n",
      "39:\tlearn: 0.3312805\ttotal: 137ms\tremaining: 206ms\n",
      "40:\tlearn: 0.3287319\ttotal: 141ms\tremaining: 203ms\n",
      "41:\tlearn: 0.3270669\ttotal: 145ms\tremaining: 201ms\n",
      "42:\tlearn: 0.3255890\ttotal: 149ms\tremaining: 197ms\n",
      "43:\tlearn: 0.3235424\ttotal: 151ms\tremaining: 193ms\n",
      "44:\tlearn: 0.3217835\ttotal: 155ms\tremaining: 189ms\n",
      "45:\tlearn: 0.3200789\ttotal: 158ms\tremaining: 185ms\n",
      "46:\tlearn: 0.3181989\ttotal: 162ms\tremaining: 182ms\n",
      "47:\tlearn: 0.3167327\ttotal: 165ms\tremaining: 178ms\n",
      "48:\tlearn: 0.3156466\ttotal: 169ms\tremaining: 176ms\n",
      "49:\tlearn: 0.3142959\ttotal: 172ms\tremaining: 172ms\n",
      "50:\tlearn: 0.3125987\ttotal: 175ms\tremaining: 169ms\n",
      "51:\tlearn: 0.3108539\ttotal: 179ms\tremaining: 165ms\n",
      "52:\tlearn: 0.3094228\ttotal: 180ms\tremaining: 160ms\n",
      "53:\tlearn: 0.3069043\ttotal: 184ms\tremaining: 156ms\n",
      "54:\tlearn: 0.3044888\ttotal: 187ms\tremaining: 153ms\n",
      "55:\tlearn: 0.3032376\ttotal: 190ms\tremaining: 149ms\n",
      "56:\tlearn: 0.3022347\ttotal: 194ms\tremaining: 146ms\n",
      "57:\tlearn: 0.3014232\ttotal: 197ms\tremaining: 143ms\n",
      "58:\tlearn: 0.3002894\ttotal: 200ms\tremaining: 139ms\n",
      "59:\tlearn: 0.2984211\ttotal: 204ms\tremaining: 136ms\n",
      "60:\tlearn: 0.2968033\ttotal: 208ms\tremaining: 133ms\n",
      "61:\tlearn: 0.2961465\ttotal: 211ms\tremaining: 130ms\n",
      "62:\tlearn: 0.2952794\ttotal: 214ms\tremaining: 126ms\n",
      "63:\tlearn: 0.2938558\ttotal: 218ms\tremaining: 123ms\n",
      "64:\tlearn: 0.2925853\ttotal: 222ms\tremaining: 119ms\n",
      "65:\tlearn: 0.2907962\ttotal: 225ms\tremaining: 116ms\n",
      "66:\tlearn: 0.2882911\ttotal: 230ms\tremaining: 113ms\n",
      "67:\tlearn: 0.2868495\ttotal: 234ms\tremaining: 110ms\n",
      "68:\tlearn: 0.2847869\ttotal: 237ms\tremaining: 106ms\n",
      "69:\tlearn: 0.2836615\ttotal: 241ms\tremaining: 103ms\n",
      "70:\tlearn: 0.2824138\ttotal: 244ms\tremaining: 99.7ms\n",
      "71:\tlearn: 0.2817693\ttotal: 247ms\tremaining: 96.2ms\n",
      "72:\tlearn: 0.2811857\ttotal: 251ms\tremaining: 92.7ms\n",
      "73:\tlearn: 0.2806114\ttotal: 254ms\tremaining: 89.4ms\n",
      "74:\tlearn: 0.2794738\ttotal: 258ms\tremaining: 86ms\n",
      "75:\tlearn: 0.2781870\ttotal: 261ms\tremaining: 82.4ms\n",
      "76:\tlearn: 0.2775099\ttotal: 264ms\tremaining: 78.9ms\n",
      "77:\tlearn: 0.2760194\ttotal: 267ms\tremaining: 75.4ms\n",
      "78:\tlearn: 0.2751582\ttotal: 271ms\tremaining: 72.1ms\n",
      "79:\tlearn: 0.2744880\ttotal: 275ms\tremaining: 68.7ms\n",
      "80:\tlearn: 0.2737759\ttotal: 278ms\tremaining: 65.2ms\n",
      "81:\tlearn: 0.2726345\ttotal: 281ms\tremaining: 61.8ms\n",
      "82:\tlearn: 0.2714006\ttotal: 285ms\tremaining: 58.4ms\n",
      "83:\tlearn: 0.2709873\ttotal: 288ms\tremaining: 54.9ms\n",
      "84:\tlearn: 0.2693955\ttotal: 292ms\tremaining: 51.5ms\n",
      "85:\tlearn: 0.2681969\ttotal: 295ms\tremaining: 48ms\n",
      "86:\tlearn: 0.2674378\ttotal: 298ms\tremaining: 44.6ms\n",
      "87:\tlearn: 0.2665539\ttotal: 302ms\tremaining: 41.2ms\n",
      "88:\tlearn: 0.2657843\ttotal: 305ms\tremaining: 37.7ms\n",
      "89:\tlearn: 0.2643028\ttotal: 308ms\tremaining: 34.3ms\n",
      "90:\tlearn: 0.2638247\ttotal: 312ms\tremaining: 30.8ms\n",
      "91:\tlearn: 0.2629458\ttotal: 315ms\tremaining: 27.4ms\n",
      "92:\tlearn: 0.2615542\ttotal: 319ms\tremaining: 24ms\n",
      "93:\tlearn: 0.2606827\ttotal: 322ms\tremaining: 20.6ms\n",
      "94:\tlearn: 0.2597092\ttotal: 326ms\tremaining: 17.1ms\n",
      "95:\tlearn: 0.2585289\ttotal: 329ms\tremaining: 13.7ms\n",
      "96:\tlearn: 0.2578219\ttotal: 332ms\tremaining: 10.3ms\n",
      "97:\tlearn: 0.2567505\ttotal: 336ms\tremaining: 6.85ms\n",
      "98:\tlearn: 0.2554036\ttotal: 339ms\tremaining: 3.43ms\n",
      "99:\tlearn: 0.2543701\ttotal: 343ms\tremaining: 0us\n",
      "0:\tlearn: 0.9741248\ttotal: 2.13ms\tremaining: 211ms\n",
      "1:\tlearn: 0.8734862\ttotal: 2.97ms\tremaining: 146ms\n",
      "2:\tlearn: 0.8062747\ttotal: 6.74ms\tremaining: 218ms\n",
      "3:\tlearn: 0.7431109\ttotal: 8.57ms\tremaining: 206ms\n",
      "4:\tlearn: 0.6943625\ttotal: 10.8ms\tremaining: 205ms\n",
      "5:\tlearn: 0.6471989\ttotal: 11.6ms\tremaining: 181ms\n",
      "6:\tlearn: 0.6167266\ttotal: 15ms\tremaining: 200ms\n",
      "7:\tlearn: 0.5875869\ttotal: 18.5ms\tremaining: 213ms\n",
      "8:\tlearn: 0.5582606\ttotal: 20ms\tremaining: 202ms\n",
      "9:\tlearn: 0.5362817\ttotal: 24ms\tremaining: 216ms\n",
      "10:\tlearn: 0.5181539\ttotal: 28.7ms\tremaining: 232ms\n",
      "11:\tlearn: 0.4968530\ttotal: 29.9ms\tremaining: 219ms\n",
      "12:\tlearn: 0.4829698\ttotal: 33.5ms\tremaining: 224ms\n",
      "13:\tlearn: 0.4693746\ttotal: 37ms\tremaining: 227ms\n",
      "14:\tlearn: 0.4560389\ttotal: 40.8ms\tremaining: 231ms\n",
      "15:\tlearn: 0.4430697\ttotal: 43ms\tremaining: 226ms\n",
      "16:\tlearn: 0.4335658\ttotal: 46.4ms\tremaining: 227ms\n",
      "17:\tlearn: 0.4249717\ttotal: 50.4ms\tremaining: 229ms\n",
      "18:\tlearn: 0.4178720\ttotal: 54.6ms\tremaining: 233ms\n",
      "19:\tlearn: 0.4102800\ttotal: 58.5ms\tremaining: 234ms\n",
      "20:\tlearn: 0.4043400\ttotal: 61.9ms\tremaining: 233ms\n",
      "21:\tlearn: 0.3959098\ttotal: 63ms\tremaining: 223ms\n",
      "22:\tlearn: 0.3902401\ttotal: 66.3ms\tremaining: 222ms\n",
      "23:\tlearn: 0.3838974\ttotal: 67.9ms\tremaining: 215ms\n",
      "24:\tlearn: 0.3798978\ttotal: 72ms\tremaining: 216ms\n",
      "25:\tlearn: 0.3739850\ttotal: 73.6ms\tremaining: 209ms\n",
      "26:\tlearn: 0.3696541\ttotal: 76.7ms\tremaining: 207ms\n",
      "27:\tlearn: 0.3657574\ttotal: 79.8ms\tremaining: 205ms\n",
      "28:\tlearn: 0.3621968\ttotal: 83.3ms\tremaining: 204ms\n",
      "29:\tlearn: 0.3589944\ttotal: 87.8ms\tremaining: 205ms\n",
      "30:\tlearn: 0.3563611\ttotal: 91.2ms\tremaining: 203ms\n",
      "31:\tlearn: 0.3535026\ttotal: 94.5ms\tremaining: 201ms\n",
      "32:\tlearn: 0.3508000\ttotal: 97.9ms\tremaining: 199ms\n",
      "33:\tlearn: 0.3471556\ttotal: 98.8ms\tremaining: 192ms\n",
      "34:\tlearn: 0.3441849\ttotal: 103ms\tremaining: 191ms\n",
      "35:\tlearn: 0.3417229\ttotal: 106ms\tremaining: 189ms\n",
      "36:\tlearn: 0.3399284\ttotal: 110ms\tremaining: 187ms\n",
      "37:\tlearn: 0.3368170\ttotal: 114ms\tremaining: 185ms\n",
      "38:\tlearn: 0.3345482\ttotal: 117ms\tremaining: 183ms\n",
      "39:\tlearn: 0.3320229\ttotal: 120ms\tremaining: 181ms\n",
      "40:\tlearn: 0.3291061\ttotal: 124ms\tremaining: 178ms\n",
      "41:\tlearn: 0.3266984\ttotal: 127ms\tremaining: 176ms\n",
      "42:\tlearn: 0.3249219\ttotal: 130ms\tremaining: 173ms\n",
      "43:\tlearn: 0.3230869\ttotal: 132ms\tremaining: 168ms\n",
      "44:\tlearn: 0.3218280\ttotal: 136ms\tremaining: 166ms\n",
      "45:\tlearn: 0.3202846\ttotal: 140ms\tremaining: 164ms\n",
      "46:\tlearn: 0.3178176\ttotal: 143ms\tremaining: 161ms\n",
      "47:\tlearn: 0.3159768\ttotal: 146ms\tremaining: 158ms\n",
      "48:\tlearn: 0.3150256\ttotal: 151ms\tremaining: 157ms\n",
      "49:\tlearn: 0.3133642\ttotal: 154ms\tremaining: 154ms\n",
      "50:\tlearn: 0.3118440\ttotal: 158ms\tremaining: 152ms\n",
      "51:\tlearn: 0.3105851\ttotal: 162ms\tremaining: 149ms\n",
      "52:\tlearn: 0.3095034\ttotal: 169ms\tremaining: 150ms\n",
      "53:\tlearn: 0.3080415\ttotal: 173ms\tremaining: 147ms\n",
      "54:\tlearn: 0.3065514\ttotal: 177ms\tremaining: 144ms\n",
      "55:\tlearn: 0.3052874\ttotal: 181ms\tremaining: 142ms\n",
      "56:\tlearn: 0.3036684\ttotal: 184ms\tremaining: 139ms\n",
      "57:\tlearn: 0.3024823\ttotal: 188ms\tremaining: 136ms\n",
      "58:\tlearn: 0.3005155\ttotal: 191ms\tremaining: 133ms\n",
      "59:\tlearn: 0.2993482\ttotal: 194ms\tremaining: 130ms\n",
      "60:\tlearn: 0.2981202\ttotal: 198ms\tremaining: 127ms\n",
      "61:\tlearn: 0.2966399\ttotal: 201ms\tremaining: 123ms\n",
      "62:\tlearn: 0.2951078\ttotal: 205ms\tremaining: 120ms\n",
      "63:\tlearn: 0.2930956\ttotal: 208ms\tremaining: 117ms\n",
      "64:\tlearn: 0.2920549\ttotal: 212ms\tremaining: 114ms\n",
      "65:\tlearn: 0.2907614\ttotal: 216ms\tremaining: 111ms\n",
      "66:\tlearn: 0.2892446\ttotal: 219ms\tremaining: 108ms\n",
      "67:\tlearn: 0.2879663\ttotal: 222ms\tremaining: 104ms\n",
      "68:\tlearn: 0.2868572\ttotal: 226ms\tremaining: 101ms\n",
      "69:\tlearn: 0.2853676\ttotal: 229ms\tremaining: 98.3ms\n",
      "70:\tlearn: 0.2836520\ttotal: 233ms\tremaining: 95.2ms\n",
      "71:\tlearn: 0.2816001\ttotal: 236ms\tremaining: 91.9ms\n",
      "72:\tlearn: 0.2803561\ttotal: 239ms\tremaining: 88.3ms\n",
      "73:\tlearn: 0.2789327\ttotal: 242ms\tremaining: 85.2ms\n",
      "74:\tlearn: 0.2779340\ttotal: 246ms\tremaining: 82.1ms\n",
      "75:\tlearn: 0.2770571\ttotal: 250ms\tremaining: 78.9ms\n",
      "76:\tlearn: 0.2761325\ttotal: 254ms\tremaining: 75.8ms\n",
      "77:\tlearn: 0.2748043\ttotal: 258ms\tremaining: 72.6ms\n",
      "78:\tlearn: 0.2731814\ttotal: 261ms\tremaining: 69.4ms\n",
      "79:\tlearn: 0.2718079\ttotal: 265ms\tremaining: 66.2ms\n",
      "80:\tlearn: 0.2706361\ttotal: 268ms\tremaining: 62.9ms\n",
      "81:\tlearn: 0.2691044\ttotal: 272ms\tremaining: 59.6ms\n",
      "82:\tlearn: 0.2682033\ttotal: 276ms\tremaining: 56.5ms\n",
      "83:\tlearn: 0.2668110\ttotal: 279ms\tremaining: 53.2ms\n",
      "84:\tlearn: 0.2656995\ttotal: 283ms\tremaining: 50ms\n",
      "85:\tlearn: 0.2649088\ttotal: 286ms\tremaining: 46.6ms\n",
      "86:\tlearn: 0.2634265\ttotal: 290ms\tremaining: 43.3ms\n",
      "87:\tlearn: 0.2619690\ttotal: 293ms\tremaining: 40ms\n",
      "88:\tlearn: 0.2610692\ttotal: 297ms\tremaining: 36.7ms\n",
      "89:\tlearn: 0.2599867\ttotal: 300ms\tremaining: 33.3ms\n",
      "90:\tlearn: 0.2589769\ttotal: 303ms\tremaining: 30ms\n",
      "91:\tlearn: 0.2577475\ttotal: 307ms\tremaining: 26.7ms\n",
      "92:\tlearn: 0.2569608\ttotal: 310ms\tremaining: 23.3ms\n",
      "93:\tlearn: 0.2561868\ttotal: 314ms\tremaining: 20ms\n",
      "94:\tlearn: 0.2553175\ttotal: 317ms\tremaining: 16.7ms\n",
      "95:\tlearn: 0.2543863\ttotal: 320ms\tremaining: 13.3ms\n",
      "96:\tlearn: 0.2537511\ttotal: 324ms\tremaining: 10ms\n",
      "97:\tlearn: 0.2528099\ttotal: 328ms\tremaining: 6.69ms\n",
      "98:\tlearn: 0.2515453\ttotal: 331ms\tremaining: 3.34ms\n",
      "99:\tlearn: 0.2504211\ttotal: 335ms\tremaining: 0us\n",
      "0:\tlearn: 0.9737187\ttotal: 2.36ms\tremaining: 233ms\n",
      "1:\tlearn: 0.8727387\ttotal: 3.49ms\tremaining: 171ms\n",
      "2:\tlearn: 0.8053282\ttotal: 7.3ms\tremaining: 236ms\n",
      "3:\tlearn: 0.7414623\ttotal: 8.78ms\tremaining: 211ms\n",
      "4:\tlearn: 0.6926206\ttotal: 12.4ms\tremaining: 236ms\n",
      "5:\tlearn: 0.6453756\ttotal: 13.3ms\tremaining: 209ms\n",
      "6:\tlearn: 0.6134731\ttotal: 17.3ms\tremaining: 230ms\n",
      "7:\tlearn: 0.5832877\ttotal: 21.8ms\tremaining: 251ms\n",
      "8:\tlearn: 0.5542958\ttotal: 23.3ms\tremaining: 236ms\n",
      "9:\tlearn: 0.5331569\ttotal: 26.7ms\tremaining: 241ms\n",
      "10:\tlearn: 0.5151677\ttotal: 30.2ms\tremaining: 244ms\n",
      "11:\tlearn: 0.4935019\ttotal: 33ms\tremaining: 242ms\n",
      "12:\tlearn: 0.4788310\ttotal: 37.1ms\tremaining: 248ms\n",
      "13:\tlearn: 0.4649589\ttotal: 42ms\tremaining: 258ms\n",
      "14:\tlearn: 0.4522193\ttotal: 45.7ms\tremaining: 259ms\n",
      "15:\tlearn: 0.4394846\ttotal: 47.9ms\tremaining: 252ms\n",
      "16:\tlearn: 0.4296121\ttotal: 52.3ms\tremaining: 256ms\n",
      "17:\tlearn: 0.4196468\ttotal: 54.6ms\tremaining: 249ms\n",
      "18:\tlearn: 0.4107265\ttotal: 57.9ms\tremaining: 247ms\n",
      "19:\tlearn: 0.4042818\ttotal: 61.2ms\tremaining: 245ms\n",
      "20:\tlearn: 0.3992239\ttotal: 65.5ms\tremaining: 246ms\n",
      "21:\tlearn: 0.3925876\ttotal: 68.6ms\tremaining: 243ms\n",
      "22:\tlearn: 0.3867604\ttotal: 72.2ms\tremaining: 242ms\n",
      "23:\tlearn: 0.3813164\ttotal: 75.7ms\tremaining: 240ms\n",
      "24:\tlearn: 0.3768612\ttotal: 80.1ms\tremaining: 240ms\n",
      "25:\tlearn: 0.3712608\ttotal: 82.1ms\tremaining: 234ms\n",
      "26:\tlearn: 0.3666701\ttotal: 86.1ms\tremaining: 233ms\n",
      "27:\tlearn: 0.3628028\ttotal: 89.5ms\tremaining: 230ms\n",
      "28:\tlearn: 0.3592944\ttotal: 91.8ms\tremaining: 225ms\n",
      "29:\tlearn: 0.3561962\ttotal: 96.4ms\tremaining: 225ms\n",
      "30:\tlearn: 0.3517589\ttotal: 97.4ms\tremaining: 217ms\n",
      "31:\tlearn: 0.3491541\ttotal: 101ms\tremaining: 214ms\n",
      "32:\tlearn: 0.3463665\ttotal: 104ms\tremaining: 212ms\n",
      "33:\tlearn: 0.3434311\ttotal: 108ms\tremaining: 209ms\n",
      "34:\tlearn: 0.3420234\ttotal: 112ms\tremaining: 207ms\n",
      "35:\tlearn: 0.3404126\ttotal: 115ms\tremaining: 204ms\n",
      "36:\tlearn: 0.3372037\ttotal: 116ms\tremaining: 198ms\n",
      "37:\tlearn: 0.3348998\ttotal: 119ms\tremaining: 195ms\n",
      "38:\tlearn: 0.3326965\ttotal: 123ms\tremaining: 192ms\n",
      "39:\tlearn: 0.3307024\ttotal: 126ms\tremaining: 190ms\n",
      "40:\tlearn: 0.3284144\ttotal: 130ms\tremaining: 187ms\n",
      "41:\tlearn: 0.3268580\ttotal: 133ms\tremaining: 184ms\n",
      "42:\tlearn: 0.3251472\ttotal: 137ms\tremaining: 182ms\n",
      "43:\tlearn: 0.3222723\ttotal: 141ms\tremaining: 179ms\n",
      "44:\tlearn: 0.3197478\ttotal: 144ms\tremaining: 176ms\n",
      "45:\tlearn: 0.3174657\ttotal: 148ms\tremaining: 174ms\n",
      "46:\tlearn: 0.3159045\ttotal: 151ms\tremaining: 171ms\n",
      "47:\tlearn: 0.3141119\ttotal: 153ms\tremaining: 166ms\n",
      "48:\tlearn: 0.3123683\ttotal: 156ms\tremaining: 163ms\n",
      "49:\tlearn: 0.3106183\ttotal: 160ms\tremaining: 160ms\n",
      "50:\tlearn: 0.3097179\ttotal: 164ms\tremaining: 157ms\n",
      "51:\tlearn: 0.3078094\ttotal: 167ms\tremaining: 154ms\n",
      "52:\tlearn: 0.3056491\ttotal: 171ms\tremaining: 152ms\n",
      "53:\tlearn: 0.3038196\ttotal: 176ms\tremaining: 150ms\n",
      "54:\tlearn: 0.3021013\ttotal: 177ms\tremaining: 145ms\n",
      "55:\tlearn: 0.3005265\ttotal: 181ms\tremaining: 142ms\n",
      "56:\tlearn: 0.2988688\ttotal: 184ms\tremaining: 139ms\n",
      "57:\tlearn: 0.2969938\ttotal: 188ms\tremaining: 136ms\n",
      "58:\tlearn: 0.2957512\ttotal: 192ms\tremaining: 133ms\n",
      "59:\tlearn: 0.2949564\ttotal: 195ms\tremaining: 130ms\n",
      "60:\tlearn: 0.2934274\ttotal: 199ms\tremaining: 127ms\n",
      "61:\tlearn: 0.2922685\ttotal: 203ms\tremaining: 124ms\n",
      "62:\tlearn: 0.2913965\ttotal: 207ms\tremaining: 122ms\n",
      "63:\tlearn: 0.2905578\ttotal: 211ms\tremaining: 119ms\n",
      "64:\tlearn: 0.2891932\ttotal: 214ms\tremaining: 115ms\n",
      "65:\tlearn: 0.2877501\ttotal: 217ms\tremaining: 112ms\n",
      "66:\tlearn: 0.2863634\ttotal: 223ms\tremaining: 110ms\n",
      "67:\tlearn: 0.2858868\ttotal: 227ms\tremaining: 107ms\n",
      "68:\tlearn: 0.2850794\ttotal: 230ms\tremaining: 104ms\n",
      "69:\tlearn: 0.2842551\ttotal: 234ms\tremaining: 100ms\n",
      "70:\tlearn: 0.2834726\ttotal: 238ms\tremaining: 97.1ms\n",
      "71:\tlearn: 0.2827753\ttotal: 242ms\tremaining: 94ms\n",
      "72:\tlearn: 0.2813811\ttotal: 246ms\tremaining: 91.1ms\n",
      "73:\tlearn: 0.2793019\ttotal: 251ms\tremaining: 88.3ms\n",
      "74:\tlearn: 0.2781716\ttotal: 256ms\tremaining: 85.2ms\n",
      "75:\tlearn: 0.2775891\ttotal: 259ms\tremaining: 81.8ms\n",
      "76:\tlearn: 0.2769382\ttotal: 265ms\tremaining: 79.2ms\n",
      "77:\tlearn: 0.2760753\ttotal: 270ms\tremaining: 76ms\n",
      "78:\tlearn: 0.2755255\ttotal: 275ms\tremaining: 73ms\n",
      "79:\tlearn: 0.2748684\ttotal: 278ms\tremaining: 69.6ms\n",
      "80:\tlearn: 0.2737781\ttotal: 282ms\tremaining: 66ms\n",
      "81:\tlearn: 0.2727300\ttotal: 288ms\tremaining: 63.2ms\n",
      "82:\tlearn: 0.2713694\ttotal: 292ms\tremaining: 59.9ms\n",
      "83:\tlearn: 0.2702705\ttotal: 296ms\tremaining: 56.4ms\n",
      "84:\tlearn: 0.2688105\ttotal: 302ms\tremaining: 53.3ms\n",
      "85:\tlearn: 0.2675617\ttotal: 305ms\tremaining: 49.7ms\n",
      "86:\tlearn: 0.2662028\ttotal: 309ms\tremaining: 46.1ms\n",
      "87:\tlearn: 0.2653704\ttotal: 312ms\tremaining: 42.5ms\n",
      "88:\tlearn: 0.2638107\ttotal: 316ms\tremaining: 39.1ms\n",
      "89:\tlearn: 0.2631386\ttotal: 320ms\tremaining: 35.5ms\n",
      "90:\tlearn: 0.2620806\ttotal: 323ms\tremaining: 32ms\n",
      "91:\tlearn: 0.2613214\ttotal: 326ms\tremaining: 28.4ms\n",
      "92:\tlearn: 0.2603035\ttotal: 330ms\tremaining: 24.8ms\n",
      "93:\tlearn: 0.2595414\ttotal: 334ms\tremaining: 21.3ms\n",
      "94:\tlearn: 0.2586367\ttotal: 337ms\tremaining: 17.8ms\n",
      "95:\tlearn: 0.2571597\ttotal: 341ms\tremaining: 14.2ms\n",
      "96:\tlearn: 0.2564272\ttotal: 344ms\tremaining: 10.6ms\n",
      "97:\tlearn: 0.2545304\ttotal: 348ms\tremaining: 7.11ms\n",
      "98:\tlearn: 0.2537425\ttotal: 352ms\tremaining: 3.56ms\n",
      "99:\tlearn: 0.2526684\ttotal: 356ms\tremaining: 0us\n",
      "Cross-validation scores: [0.885 0.885 0.885 0.885 0.88 ]\n"
     ]
    }
   ],
   "source": [
    "from imblearn.over_sampling import SMOTE\n",
    "from sklearn.preprocessing import LabelEncoder, MinMaxScaler\n",
    "from sklearn.model_selection import train_test_split, cross_val_score\n",
    "from sklearn.metrics import accuracy_score\n",
    "from catboost import CatBoostClassifier\n",
    "import pandas as pd\n",
    "\n",
    "# Perform feature engineering\n",
    "sales['total_sales_per_client'] = sales.groupby('client_type')['quantity'].transform('sum')\n",
    "sales['avg_sales_per_product_line'] = sales.groupby('product_line')['quantity'].transform('mean')\n",
    "\n",
    "# Split the data into predictors (X) and target variable (y)\n",
    "X = sales[['warehouse', 'client_type', 'product_line', 'Weekday', 'Month', 'quantity', 'unit_price', 'total_sales_per_client', 'avg_sales_per_product_line']]\n",
    "y = sales['payment']\n",
    "\n",
    "# Perform label encoding on categorical variables\n",
    "cat_features = ['warehouse', 'client_type', 'product_line', 'Weekday', 'Month']\n",
    "for feature in cat_features:\n",
    "    encoder = LabelEncoder()\n",
    "    X[feature] = encoder.fit_transform(X[feature])\n",
    "\n",
    "# Normalize numerical features\n",
    "numerical_features = ['quantity', 'unit_price', 'total_sales_per_client', 'avg_sales_per_product_line']\n",
    "scaler = MinMaxScaler()\n",
    "X[numerical_features] = scaler.fit_transform(X[numerical_features])\n",
    "\n",
    "# Split the data into training and test sets\n",
    "X_train, X_test, y_train, y_test = train_test_split(X, y, test_size=0.2, random_state=42)\n",
    "\n",
    "# Perform oversampling using SMOTE\n",
    "smote = SMOTE(random_state=42)\n",
    "X_train, y_train = smote.fit_resample(X_train, y_train)\n",
    "\n",
    "# Initialize the CatBoost classifier\n",
    "model = CatBoostClassifier(iterations=100, learning_rate=0.1, random_seed=42)\n",
    "\n",
    "# Fit the model to the training data\n",
    "model.fit(X_train, y_train, cat_features=cat_features, verbose=False)\n",
    "\n",
    "# Make predictions on the test data\n",
    "y_pred = model.predict(X_test)\n",
    "\n",
    "# Evaluate the model\n",
    "accuracy = accuracy_score(y_test, y_pred)\n",
    "print(\"Accuracy:\", accuracy)\n",
    "\n",
    "# Cross-validation\n",
    "cv_scores = cross_val_score(model, X, y, cv=5)\n",
    "print(\"Cross-validation scores:\", cv_scores)\n"
   ]
  },
  {
   "cell_type": "code",
   "execution_count": 188,
   "metadata": {},
   "outputs": [
    {
     "data": {
      "text/html": [
       "<div>\n",
       "<style scoped>\n",
       "    .dataframe tbody tr th:only-of-type {\n",
       "        vertical-align: middle;\n",
       "    }\n",
       "\n",
       "    .dataframe tbody tr th {\n",
       "        vertical-align: top;\n",
       "    }\n",
       "\n",
       "    .dataframe thead th {\n",
       "        text-align: right;\n",
       "    }\n",
       "</style>\n",
       "<table border=\"1\" class=\"dataframe\">\n",
       "  <thead>\n",
       "    <tr style=\"text-align: right;\">\n",
       "      <th></th>\n",
       "      <th>date</th>\n",
       "      <th>warehouse</th>\n",
       "      <th>client_type</th>\n",
       "      <th>product_line</th>\n",
       "      <th>quantity</th>\n",
       "      <th>unit_price</th>\n",
       "      <th>total</th>\n",
       "      <th>payment</th>\n",
       "      <th>Weekday</th>\n",
       "      <th>Month</th>\n",
       "    </tr>\n",
       "  </thead>\n",
       "  <tbody>\n",
       "    <tr>\n",
       "      <th>0</th>\n",
       "      <td>2021-01-06</td>\n",
       "      <td>Central</td>\n",
       "      <td>Retail</td>\n",
       "      <td>Miscellaneous</td>\n",
       "      <td>8</td>\n",
       "      <td>16.85</td>\n",
       "      <td>134.83</td>\n",
       "      <td>Credit card</td>\n",
       "      <td>Wednesday</td>\n",
       "      <td>January</td>\n",
       "    </tr>\n",
       "    <tr>\n",
       "      <th>1</th>\n",
       "      <td>2021-01-06</td>\n",
       "      <td>North</td>\n",
       "      <td>Retail</td>\n",
       "      <td>Breaking system</td>\n",
       "      <td>9</td>\n",
       "      <td>19.29</td>\n",
       "      <td>173.61</td>\n",
       "      <td>Cash</td>\n",
       "      <td>Wednesday</td>\n",
       "      <td>January</td>\n",
       "    </tr>\n",
       "  </tbody>\n",
       "</table>\n",
       "</div>"
      ],
      "text/plain": [
       "        date warehouse client_type     product_line  quantity  unit_price  \\\n",
       "0 2021-01-06   Central      Retail    Miscellaneous         8       16.85   \n",
       "1 2021-01-06     North      Retail  Breaking system         9       19.29   \n",
       "\n",
       "    total      payment    Weekday    Month  \n",
       "0  134.83  Credit card  Wednesday  January  \n",
       "1  173.61         Cash  Wednesday  January  "
      ]
     },
     "execution_count": 188,
     "metadata": {},
     "output_type": "execute_result"
    }
   ],
   "source": [
    "sales.head(2\n",
    ")"
   ]
  },
  {
   "cell_type": "code",
   "execution_count": 190,
   "metadata": {},
   "outputs": [
    {
     "name": "stdout",
     "output_type": "stream",
     "text": [
      "Prediction: [['Cash']]\n"
     ]
    }
   ],
   "source": [
    "# New data for prediction\n",
    "new_data = pd.DataFrame({\n",
    "    'warehouse': ['North'],\n",
    "    'client_type': ['Retail'],\n",
    "    'product_line': ['Breaking system'],\n",
    "    'Weekday': ['Wednesday'],\n",
    "    'Month': ['January'],\n",
    "    'quantity': [9],\n",
    "    'unit_price': [19.29]\n",
    "})\n",
    "\n",
    "# Perform label encoding on categorical features\n",
    "for feature in cat_features:\n",
    "    encoder = LabelEncoder()\n",
    "    new_data[feature] = encoder.fit_transform(new_data[feature])\n",
    "\n",
    "# Make prediction on new data\n",
    "prediction = model.predict(new_data)\n",
    "\n",
    "print(\"Prediction:\", prediction)"
   ]
  }
 ],
 "metadata": {
  "kernelspec": {
   "display_name": "Python 3",
   "language": "python",
   "name": "python3"
  },
  "language_info": {
   "codemirror_mode": {
    "name": "ipython",
    "version": 3
   },
   "file_extension": ".py",
   "mimetype": "text/x-python",
   "name": "python",
   "nbconvert_exporter": "python",
   "pygments_lexer": "ipython3",
   "version": "3.10.5"
  },
  "orig_nbformat": 4
 },
 "nbformat": 4,
 "nbformat_minor": 2
}
