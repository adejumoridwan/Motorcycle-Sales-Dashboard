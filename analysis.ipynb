{
 "cells": [
  {
   "attachments": {},
   "cell_type": "markdown",
   "metadata": {},
   "source": [
    "# Analysis of Motorcycles Sales Data"
   ]
  },
  {
   "attachments": {},
   "cell_type": "markdown",
   "metadata": {},
   "source": [
    "## Data Transformation"
   ]
  },
  {
   "cell_type": "code",
   "execution_count": 282,
   "metadata": {},
   "outputs": [],
   "source": [
    "import pandas as pd"
   ]
  },
  {
   "cell_type": "code",
   "execution_count": 283,
   "metadata": {},
   "outputs": [
    {
     "data": {
      "text/html": [
       "<div>\n",
       "<style scoped>\n",
       "    .dataframe tbody tr th:only-of-type {\n",
       "        vertical-align: middle;\n",
       "    }\n",
       "\n",
       "    .dataframe tbody tr th {\n",
       "        vertical-align: top;\n",
       "    }\n",
       "\n",
       "    .dataframe thead th {\n",
       "        text-align: right;\n",
       "    }\n",
       "</style>\n",
       "<table border=\"1\" class=\"dataframe\">\n",
       "  <thead>\n",
       "    <tr style=\"text-align: right;\">\n",
       "      <th></th>\n",
       "      <th>date</th>\n",
       "      <th>warehouse</th>\n",
       "      <th>client_type</th>\n",
       "      <th>product_line</th>\n",
       "      <th>quantity</th>\n",
       "      <th>unit_price</th>\n",
       "      <th>total</th>\n",
       "      <th>payment</th>\n",
       "    </tr>\n",
       "  </thead>\n",
       "  <tbody>\n",
       "    <tr>\n",
       "      <th>0</th>\n",
       "      <td>1/6/2021</td>\n",
       "      <td>Central</td>\n",
       "      <td>Retail</td>\n",
       "      <td>Miscellaneous</td>\n",
       "      <td>8</td>\n",
       "      <td>16.85</td>\n",
       "      <td>134.83</td>\n",
       "      <td>Credit card</td>\n",
       "    </tr>\n",
       "    <tr>\n",
       "      <th>1</th>\n",
       "      <td>1/6/2021</td>\n",
       "      <td>North</td>\n",
       "      <td>Retail</td>\n",
       "      <td>Breaking system</td>\n",
       "      <td>9</td>\n",
       "      <td>19.29</td>\n",
       "      <td>173.61</td>\n",
       "      <td>Cash</td>\n",
       "    </tr>\n",
       "    <tr>\n",
       "      <th>2</th>\n",
       "      <td>1/6/2021</td>\n",
       "      <td>North</td>\n",
       "      <td>Retail</td>\n",
       "      <td>Suspension &amp; traction</td>\n",
       "      <td>8</td>\n",
       "      <td>32.93</td>\n",
       "      <td>263.45</td>\n",
       "      <td>Credit card</td>\n",
       "    </tr>\n",
       "    <tr>\n",
       "      <th>3</th>\n",
       "      <td>1/6/2021</td>\n",
       "      <td>North</td>\n",
       "      <td>Wholesale</td>\n",
       "      <td>Frame &amp; body</td>\n",
       "      <td>16</td>\n",
       "      <td>37.84</td>\n",
       "      <td>605.44</td>\n",
       "      <td>Transfer</td>\n",
       "    </tr>\n",
       "    <tr>\n",
       "      <th>4</th>\n",
       "      <td>1/6/2021</td>\n",
       "      <td>Central</td>\n",
       "      <td>Retail</td>\n",
       "      <td>Engine</td>\n",
       "      <td>2</td>\n",
       "      <td>60.48</td>\n",
       "      <td>120.96</td>\n",
       "      <td>Credit card</td>\n",
       "    </tr>\n",
       "  </tbody>\n",
       "</table>\n",
       "</div>"
      ],
      "text/plain": [
       "       date warehouse client_type           product_line  quantity  \\\n",
       "0  1/6/2021   Central      Retail          Miscellaneous         8   \n",
       "1  1/6/2021     North      Retail        Breaking system         9   \n",
       "2  1/6/2021     North      Retail  Suspension & traction         8   \n",
       "3  1/6/2021     North   Wholesale           Frame & body        16   \n",
       "4  1/6/2021   Central      Retail                 Engine         2   \n",
       "\n",
       "   unit_price   total      payment  \n",
       "0       16.85  134.83  Credit card  \n",
       "1       19.29  173.61         Cash  \n",
       "2       32.93  263.45  Credit card  \n",
       "3       37.84  605.44     Transfer  \n",
       "4       60.48  120.96  Credit card  "
      ]
     },
     "execution_count": 283,
     "metadata": {},
     "output_type": "execute_result"
    }
   ],
   "source": [
    "sales = pd.read_csv(\"data/sales_data.csv\")\n",
    "sales.head()"
   ]
  },
  {
   "cell_type": "code",
   "execution_count": 284,
   "metadata": {},
   "outputs": [
    {
     "name": "stderr",
     "output_type": "stream",
     "text": [
      "C:\\Users\\abu aisha\\AppData\\Local\\Temp\\ipykernel_7000\\2749910255.py:2: UserWarning:\n",
      "\n",
      "Parsing dates in DD/MM/YYYY format when dayfirst=False (the default) was specified. This may lead to inconsistently parsed dates! Specify a format to ensure consistent parsing.\n",
      "\n"
     ]
    }
   ],
   "source": [
    "# Convert the 'date' column to a datetime object\n",
    "sales['date'] = pd.to_datetime(sales['date'])\n",
    "\n",
    "# Set the 'date' column as the index of the DataFrame\n",
    "#sales = sales.set_index('date')"
   ]
  },
  {
   "cell_type": "code",
   "execution_count": 285,
   "metadata": {},
   "outputs": [],
   "source": [
    "from pandas.api.types import CategoricalDtype\n",
    "\n",
    "cats = [ 'Monday', 'Tuesday', 'Wednesday', 'Thursday', 'Friday', 'Saturday', 'Sunday']\n",
    "\n",
    "cat_type = CategoricalDtype(categories=cats, ordered=True)\n",
    "\n",
    "# Create new columns for the weekday and month\n",
    "sales['Weekday'] = sales['date'].dt.day_name().astype(cat_type)\n",
    "sales['Month'] = sales['date'].dt.month_name()"
   ]
  },
  {
   "attachments": {},
   "cell_type": "markdown",
   "metadata": {},
   "source": [
    "## Exploratory Data Analysis"
   ]
  },
  {
   "attachments": {},
   "cell_type": "markdown",
   "metadata": {},
   "source": [
    "### Payment Method"
   ]
  },
  {
   "cell_type": "code",
   "execution_count": 286,
   "metadata": {},
   "outputs": [
    {
     "data": {
      "application/vnd.plotly.v1+json": {
       "config": {
        "plotlyServerURL": "https://plot.ly"
       },
       "data": [
        {
         "alignmentgroup": "True",
         "hovertemplate": "Payment=%{x}<br>Number of Transactions(%)=%{y}<extra></extra>",
         "legendgroup": "Cash",
         "marker": {
          "color": "#636efa",
          "pattern": {
           "shape": ""
          }
         },
         "name": "Cash",
         "offsetgroup": "Cash",
         "orientation": "v",
         "showlegend": true,
         "textposition": "auto",
         "type": "bar",
         "x": [
          "Cash"
         ],
         "xaxis": "x",
         "y": [
          11.600000000000001
         ],
         "yaxis": "y"
        },
        {
         "alignmentgroup": "True",
         "hovertemplate": "Payment=%{x}<br>Number of Transactions(%)=%{y}<extra></extra>",
         "legendgroup": "Transfer",
         "marker": {
          "color": "#EF553B",
          "pattern": {
           "shape": ""
          }
         },
         "name": "Transfer",
         "offsetgroup": "Transfer",
         "orientation": "v",
         "showlegend": true,
         "textposition": "auto",
         "type": "bar",
         "x": [
          "Transfer"
         ],
         "xaxis": "x",
         "y": [
          22.5
         ],
         "yaxis": "y"
        },
        {
         "alignmentgroup": "True",
         "hovertemplate": "Payment=%{x}<br>Number of Transactions(%)=%{y}<extra></extra>",
         "legendgroup": "Credit card",
         "marker": {
          "color": "#00cc96",
          "pattern": {
           "shape": ""
          }
         },
         "name": "Credit card",
         "offsetgroup": "Credit card",
         "orientation": "v",
         "showlegend": true,
         "textposition": "auto",
         "type": "bar",
         "x": [
          "Credit card"
         ],
         "xaxis": "x",
         "y": [
          65.9
         ],
         "yaxis": "y"
        }
       ],
       "layout": {
        "barmode": "relative",
        "legend": {
         "title": {
          "text": "Payment"
         },
         "tracegroupgap": 0
        },
        "template": {
         "data": {
          "bar": [
           {
            "error_x": {
             "color": "#2a3f5f"
            },
            "error_y": {
             "color": "#2a3f5f"
            },
            "marker": {
             "line": {
              "color": "#E5ECF6",
              "width": 0.5
             },
             "pattern": {
              "fillmode": "overlay",
              "size": 10,
              "solidity": 0.2
             }
            },
            "type": "bar"
           }
          ],
          "barpolar": [
           {
            "marker": {
             "line": {
              "color": "#E5ECF6",
              "width": 0.5
             },
             "pattern": {
              "fillmode": "overlay",
              "size": 10,
              "solidity": 0.2
             }
            },
            "type": "barpolar"
           }
          ],
          "carpet": [
           {
            "aaxis": {
             "endlinecolor": "#2a3f5f",
             "gridcolor": "white",
             "linecolor": "white",
             "minorgridcolor": "white",
             "startlinecolor": "#2a3f5f"
            },
            "baxis": {
             "endlinecolor": "#2a3f5f",
             "gridcolor": "white",
             "linecolor": "white",
             "minorgridcolor": "white",
             "startlinecolor": "#2a3f5f"
            },
            "type": "carpet"
           }
          ],
          "choropleth": [
           {
            "colorbar": {
             "outlinewidth": 0,
             "ticks": ""
            },
            "type": "choropleth"
           }
          ],
          "contour": [
           {
            "colorbar": {
             "outlinewidth": 0,
             "ticks": ""
            },
            "colorscale": [
             [
              0,
              "#0d0887"
             ],
             [
              0.1111111111111111,
              "#46039f"
             ],
             [
              0.2222222222222222,
              "#7201a8"
             ],
             [
              0.3333333333333333,
              "#9c179e"
             ],
             [
              0.4444444444444444,
              "#bd3786"
             ],
             [
              0.5555555555555556,
              "#d8576b"
             ],
             [
              0.6666666666666666,
              "#ed7953"
             ],
             [
              0.7777777777777778,
              "#fb9f3a"
             ],
             [
              0.8888888888888888,
              "#fdca26"
             ],
             [
              1,
              "#f0f921"
             ]
            ],
            "type": "contour"
           }
          ],
          "contourcarpet": [
           {
            "colorbar": {
             "outlinewidth": 0,
             "ticks": ""
            },
            "type": "contourcarpet"
           }
          ],
          "heatmap": [
           {
            "colorbar": {
             "outlinewidth": 0,
             "ticks": ""
            },
            "colorscale": [
             [
              0,
              "#0d0887"
             ],
             [
              0.1111111111111111,
              "#46039f"
             ],
             [
              0.2222222222222222,
              "#7201a8"
             ],
             [
              0.3333333333333333,
              "#9c179e"
             ],
             [
              0.4444444444444444,
              "#bd3786"
             ],
             [
              0.5555555555555556,
              "#d8576b"
             ],
             [
              0.6666666666666666,
              "#ed7953"
             ],
             [
              0.7777777777777778,
              "#fb9f3a"
             ],
             [
              0.8888888888888888,
              "#fdca26"
             ],
             [
              1,
              "#f0f921"
             ]
            ],
            "type": "heatmap"
           }
          ],
          "heatmapgl": [
           {
            "colorbar": {
             "outlinewidth": 0,
             "ticks": ""
            },
            "colorscale": [
             [
              0,
              "#0d0887"
             ],
             [
              0.1111111111111111,
              "#46039f"
             ],
             [
              0.2222222222222222,
              "#7201a8"
             ],
             [
              0.3333333333333333,
              "#9c179e"
             ],
             [
              0.4444444444444444,
              "#bd3786"
             ],
             [
              0.5555555555555556,
              "#d8576b"
             ],
             [
              0.6666666666666666,
              "#ed7953"
             ],
             [
              0.7777777777777778,
              "#fb9f3a"
             ],
             [
              0.8888888888888888,
              "#fdca26"
             ],
             [
              1,
              "#f0f921"
             ]
            ],
            "type": "heatmapgl"
           }
          ],
          "histogram": [
           {
            "marker": {
             "pattern": {
              "fillmode": "overlay",
              "size": 10,
              "solidity": 0.2
             }
            },
            "type": "histogram"
           }
          ],
          "histogram2d": [
           {
            "colorbar": {
             "outlinewidth": 0,
             "ticks": ""
            },
            "colorscale": [
             [
              0,
              "#0d0887"
             ],
             [
              0.1111111111111111,
              "#46039f"
             ],
             [
              0.2222222222222222,
              "#7201a8"
             ],
             [
              0.3333333333333333,
              "#9c179e"
             ],
             [
              0.4444444444444444,
              "#bd3786"
             ],
             [
              0.5555555555555556,
              "#d8576b"
             ],
             [
              0.6666666666666666,
              "#ed7953"
             ],
             [
              0.7777777777777778,
              "#fb9f3a"
             ],
             [
              0.8888888888888888,
              "#fdca26"
             ],
             [
              1,
              "#f0f921"
             ]
            ],
            "type": "histogram2d"
           }
          ],
          "histogram2dcontour": [
           {
            "colorbar": {
             "outlinewidth": 0,
             "ticks": ""
            },
            "colorscale": [
             [
              0,
              "#0d0887"
             ],
             [
              0.1111111111111111,
              "#46039f"
             ],
             [
              0.2222222222222222,
              "#7201a8"
             ],
             [
              0.3333333333333333,
              "#9c179e"
             ],
             [
              0.4444444444444444,
              "#bd3786"
             ],
             [
              0.5555555555555556,
              "#d8576b"
             ],
             [
              0.6666666666666666,
              "#ed7953"
             ],
             [
              0.7777777777777778,
              "#fb9f3a"
             ],
             [
              0.8888888888888888,
              "#fdca26"
             ],
             [
              1,
              "#f0f921"
             ]
            ],
            "type": "histogram2dcontour"
           }
          ],
          "mesh3d": [
           {
            "colorbar": {
             "outlinewidth": 0,
             "ticks": ""
            },
            "type": "mesh3d"
           }
          ],
          "parcoords": [
           {
            "line": {
             "colorbar": {
              "outlinewidth": 0,
              "ticks": ""
             }
            },
            "type": "parcoords"
           }
          ],
          "pie": [
           {
            "automargin": true,
            "type": "pie"
           }
          ],
          "scatter": [
           {
            "fillpattern": {
             "fillmode": "overlay",
             "size": 10,
             "solidity": 0.2
            },
            "type": "scatter"
           }
          ],
          "scatter3d": [
           {
            "line": {
             "colorbar": {
              "outlinewidth": 0,
              "ticks": ""
             }
            },
            "marker": {
             "colorbar": {
              "outlinewidth": 0,
              "ticks": ""
             }
            },
            "type": "scatter3d"
           }
          ],
          "scattercarpet": [
           {
            "marker": {
             "colorbar": {
              "outlinewidth": 0,
              "ticks": ""
             }
            },
            "type": "scattercarpet"
           }
          ],
          "scattergeo": [
           {
            "marker": {
             "colorbar": {
              "outlinewidth": 0,
              "ticks": ""
             }
            },
            "type": "scattergeo"
           }
          ],
          "scattergl": [
           {
            "marker": {
             "colorbar": {
              "outlinewidth": 0,
              "ticks": ""
             }
            },
            "type": "scattergl"
           }
          ],
          "scattermapbox": [
           {
            "marker": {
             "colorbar": {
              "outlinewidth": 0,
              "ticks": ""
             }
            },
            "type": "scattermapbox"
           }
          ],
          "scatterpolar": [
           {
            "marker": {
             "colorbar": {
              "outlinewidth": 0,
              "ticks": ""
             }
            },
            "type": "scatterpolar"
           }
          ],
          "scatterpolargl": [
           {
            "marker": {
             "colorbar": {
              "outlinewidth": 0,
              "ticks": ""
             }
            },
            "type": "scatterpolargl"
           }
          ],
          "scatterternary": [
           {
            "marker": {
             "colorbar": {
              "outlinewidth": 0,
              "ticks": ""
             }
            },
            "type": "scatterternary"
           }
          ],
          "surface": [
           {
            "colorbar": {
             "outlinewidth": 0,
             "ticks": ""
            },
            "colorscale": [
             [
              0,
              "#0d0887"
             ],
             [
              0.1111111111111111,
              "#46039f"
             ],
             [
              0.2222222222222222,
              "#7201a8"
             ],
             [
              0.3333333333333333,
              "#9c179e"
             ],
             [
              0.4444444444444444,
              "#bd3786"
             ],
             [
              0.5555555555555556,
              "#d8576b"
             ],
             [
              0.6666666666666666,
              "#ed7953"
             ],
             [
              0.7777777777777778,
              "#fb9f3a"
             ],
             [
              0.8888888888888888,
              "#fdca26"
             ],
             [
              1,
              "#f0f921"
             ]
            ],
            "type": "surface"
           }
          ],
          "table": [
           {
            "cells": {
             "fill": {
              "color": "#EBF0F8"
             },
             "line": {
              "color": "white"
             }
            },
            "header": {
             "fill": {
              "color": "#C8D4E3"
             },
             "line": {
              "color": "white"
             }
            },
            "type": "table"
           }
          ]
         },
         "layout": {
          "annotationdefaults": {
           "arrowcolor": "#2a3f5f",
           "arrowhead": 0,
           "arrowwidth": 1
          },
          "autotypenumbers": "strict",
          "coloraxis": {
           "colorbar": {
            "outlinewidth": 0,
            "ticks": ""
           }
          },
          "colorscale": {
           "diverging": [
            [
             0,
             "#8e0152"
            ],
            [
             0.1,
             "#c51b7d"
            ],
            [
             0.2,
             "#de77ae"
            ],
            [
             0.3,
             "#f1b6da"
            ],
            [
             0.4,
             "#fde0ef"
            ],
            [
             0.5,
             "#f7f7f7"
            ],
            [
             0.6,
             "#e6f5d0"
            ],
            [
             0.7,
             "#b8e186"
            ],
            [
             0.8,
             "#7fbc41"
            ],
            [
             0.9,
             "#4d9221"
            ],
            [
             1,
             "#276419"
            ]
           ],
           "sequential": [
            [
             0,
             "#0d0887"
            ],
            [
             0.1111111111111111,
             "#46039f"
            ],
            [
             0.2222222222222222,
             "#7201a8"
            ],
            [
             0.3333333333333333,
             "#9c179e"
            ],
            [
             0.4444444444444444,
             "#bd3786"
            ],
            [
             0.5555555555555556,
             "#d8576b"
            ],
            [
             0.6666666666666666,
             "#ed7953"
            ],
            [
             0.7777777777777778,
             "#fb9f3a"
            ],
            [
             0.8888888888888888,
             "#fdca26"
            ],
            [
             1,
             "#f0f921"
            ]
           ],
           "sequentialminus": [
            [
             0,
             "#0d0887"
            ],
            [
             0.1111111111111111,
             "#46039f"
            ],
            [
             0.2222222222222222,
             "#7201a8"
            ],
            [
             0.3333333333333333,
             "#9c179e"
            ],
            [
             0.4444444444444444,
             "#bd3786"
            ],
            [
             0.5555555555555556,
             "#d8576b"
            ],
            [
             0.6666666666666666,
             "#ed7953"
            ],
            [
             0.7777777777777778,
             "#fb9f3a"
            ],
            [
             0.8888888888888888,
             "#fdca26"
            ],
            [
             1,
             "#f0f921"
            ]
           ]
          },
          "colorway": [
           "#636efa",
           "#EF553B",
           "#00cc96",
           "#ab63fa",
           "#FFA15A",
           "#19d3f3",
           "#FF6692",
           "#B6E880",
           "#FF97FF",
           "#FECB52"
          ],
          "font": {
           "color": "#2a3f5f"
          },
          "geo": {
           "bgcolor": "white",
           "lakecolor": "white",
           "landcolor": "#E5ECF6",
           "showlakes": true,
           "showland": true,
           "subunitcolor": "white"
          },
          "hoverlabel": {
           "align": "left"
          },
          "hovermode": "closest",
          "mapbox": {
           "style": "light"
          },
          "paper_bgcolor": "white",
          "plot_bgcolor": "#E5ECF6",
          "polar": {
           "angularaxis": {
            "gridcolor": "white",
            "linecolor": "white",
            "ticks": ""
           },
           "bgcolor": "#E5ECF6",
           "radialaxis": {
            "gridcolor": "white",
            "linecolor": "white",
            "ticks": ""
           }
          },
          "scene": {
           "xaxis": {
            "backgroundcolor": "#E5ECF6",
            "gridcolor": "white",
            "gridwidth": 2,
            "linecolor": "white",
            "showbackground": true,
            "ticks": "",
            "zerolinecolor": "white"
           },
           "yaxis": {
            "backgroundcolor": "#E5ECF6",
            "gridcolor": "white",
            "gridwidth": 2,
            "linecolor": "white",
            "showbackground": true,
            "ticks": "",
            "zerolinecolor": "white"
           },
           "zaxis": {
            "backgroundcolor": "#E5ECF6",
            "gridcolor": "white",
            "gridwidth": 2,
            "linecolor": "white",
            "showbackground": true,
            "ticks": "",
            "zerolinecolor": "white"
           }
          },
          "shapedefaults": {
           "line": {
            "color": "#2a3f5f"
           }
          },
          "ternary": {
           "aaxis": {
            "gridcolor": "white",
            "linecolor": "white",
            "ticks": ""
           },
           "baxis": {
            "gridcolor": "white",
            "linecolor": "white",
            "ticks": ""
           },
           "bgcolor": "#E5ECF6",
           "caxis": {
            "gridcolor": "white",
            "linecolor": "white",
            "ticks": ""
           }
          },
          "title": {
           "x": 0.05
          },
          "xaxis": {
           "automargin": true,
           "gridcolor": "white",
           "linecolor": "white",
           "ticks": "",
           "title": {
            "standoff": 15
           },
           "zerolinecolor": "white",
           "zerolinewidth": 2
          },
          "yaxis": {
           "automargin": true,
           "gridcolor": "white",
           "linecolor": "white",
           "ticks": "",
           "title": {
            "standoff": 15
           },
           "zerolinecolor": "white",
           "zerolinewidth": 2
          }
         }
        },
        "title": {
         "text": "Number of Transactions by Payment Method"
        },
        "xaxis": {
         "anchor": "y",
         "categoryarray": [
          "Cash",
          "Transfer",
          "Credit card"
         ],
         "categoryorder": "array",
         "domain": [
          0,
          1
         ],
         "title": {
          "text": "Payment"
         }
        },
        "yaxis": {
         "anchor": "x",
         "domain": [
          0,
          1
         ],
         "title": {
          "text": "Number of Transactions(%)"
         }
        }
       }
      }
     },
     "metadata": {},
     "output_type": "display_data"
    }
   ],
   "source": [
    "import plotly.express as px\n",
    "\n",
    "# Plot the DataFrame\n",
    "payment_method = px.bar(sales.groupby('payment').count().reset_index().\n",
    "                        assign(percentage=lambda x: (x['date'] / x['date'].sum()) * 100).\n",
    "                        loc[:,[\"payment\",\"percentage\"]].sort_values(by='percentage', ascending=True), \n",
    "                        color=\"payment\", x='payment', y='percentage', title='Number of Transactions by Payment Method', \n",
    "                        labels={'payment': 'Payment','percentage': 'Number of Transactions(%)'})\n",
    "\n",
    "# Sort the bars from lowest to highest\n",
    "payment_method.show()"
   ]
  },
  {
   "attachments": {},
   "cell_type": "markdown",
   "metadata": {},
   "source": [
    "### Daily Revenue"
   ]
  },
  {
   "cell_type": "code",
   "execution_count": 287,
   "metadata": {},
   "outputs": [
    {
     "name": "stderr",
     "output_type": "stream",
     "text": [
      "C:\\Users\\abu aisha\\AppData\\Local\\Temp\\ipykernel_7000\\356656317.py:2: FutureWarning:\n",
      "\n",
      "The default value of numeric_only in DataFrameGroupBy.sum is deprecated. In a future version, numeric_only will default to False. Either specify numeric_only or select only columns which should be valid for the function.\n",
      "\n"
     ]
    },
    {
     "data": {
      "application/vnd.plotly.v1+json": {
       "config": {
        "plotlyServerURL": "https://plot.ly"
       },
       "data": [
        {
         "hovertemplate": "Date=%{x}<br>Daily Revenue=%{y}<extra></extra>",
         "legendgroup": "",
         "line": {
          "color": "#636efa",
          "dash": "solid"
         },
         "marker": {
          "symbol": "circle"
         },
         "mode": "lines",
         "name": "",
         "orientation": "v",
         "showlegend": false,
         "type": "scatter",
         "x": [
          "2021-01-06T00:00:00",
          "2021-01-07T00:00:00",
          "2021-01-08T00:00:00",
          "2021-02-06T00:00:00",
          "2021-02-07T00:00:00",
          "2021-02-08T00:00:00",
          "2021-03-06T00:00:00",
          "2021-03-07T00:00:00",
          "2021-03-08T00:00:00",
          "2021-04-06T00:00:00",
          "2021-04-07T00:00:00",
          "2021-04-08T00:00:00",
          "2021-05-06T00:00:00",
          "2021-05-07T00:00:00",
          "2021-05-08T00:00:00",
          "2021-06-06T00:00:00",
          "2021-06-07T00:00:00",
          "2021-06-08T00:00:00",
          "2021-06-13T00:00:00",
          "2021-06-14T00:00:00",
          "2021-06-15T00:00:00",
          "2021-06-16T00:00:00",
          "2021-06-17T00:00:00",
          "2021-06-18T00:00:00",
          "2021-06-19T00:00:00",
          "2021-06-20T00:00:00",
          "2021-06-21T00:00:00",
          "2021-06-22T00:00:00",
          "2021-06-23T00:00:00",
          "2021-06-24T00:00:00",
          "2021-06-25T00:00:00",
          "2021-06-26T00:00:00",
          "2021-06-27T00:00:00",
          "2021-06-28T00:00:00",
          "2021-06-29T00:00:00",
          "2021-06-30T00:00:00",
          "2021-07-06T00:00:00",
          "2021-07-07T00:00:00",
          "2021-07-08T00:00:00",
          "2021-07-13T00:00:00",
          "2021-07-14T00:00:00",
          "2021-07-15T00:00:00",
          "2021-07-16T00:00:00",
          "2021-07-17T00:00:00",
          "2021-07-18T00:00:00",
          "2021-07-19T00:00:00",
          "2021-07-20T00:00:00",
          "2021-07-21T00:00:00",
          "2021-07-22T00:00:00",
          "2021-07-23T00:00:00",
          "2021-07-24T00:00:00",
          "2021-07-25T00:00:00",
          "2021-07-26T00:00:00",
          "2021-07-27T00:00:00",
          "2021-07-28T00:00:00",
          "2021-07-29T00:00:00",
          "2021-07-30T00:00:00",
          "2021-07-31T00:00:00",
          "2021-08-06T00:00:00",
          "2021-08-07T00:00:00",
          "2021-08-08T00:00:00",
          "2021-08-13T00:00:00",
          "2021-08-14T00:00:00",
          "2021-08-15T00:00:00",
          "2021-08-16T00:00:00",
          "2021-08-17T00:00:00",
          "2021-08-18T00:00:00",
          "2021-08-19T00:00:00",
          "2021-08-20T00:00:00",
          "2021-08-21T00:00:00",
          "2021-08-22T00:00:00",
          "2021-08-23T00:00:00",
          "2021-08-24T00:00:00",
          "2021-08-25T00:00:00",
          "2021-08-26T00:00:00",
          "2021-08-27T00:00:00",
          "2021-08-28T00:00:00",
          "2021-09-06T00:00:00",
          "2021-09-07T00:00:00",
          "2021-09-08T00:00:00",
          "2021-10-06T00:00:00",
          "2021-10-07T00:00:00",
          "2021-10-08T00:00:00",
          "2021-11-06T00:00:00",
          "2021-11-07T00:00:00",
          "2021-11-08T00:00:00",
          "2021-12-06T00:00:00",
          "2021-12-07T00:00:00",
          "2021-12-08T00:00:00"
         ],
         "xaxis": "x",
         "y": [
          5378.29,
          4511.43,
          4599.58,
          1297.1399999999999,
          4125.26,
          5282.8099999999995,
          1054.85,
          4206.3,
          8417.08,
          899.4,
          3356.47,
          4911.22,
          2893.56,
          1940.12,
          1334.91,
          4304.7300000000005,
          2396.37,
          2661.0099999999998,
          1578.94,
          2413.74,
          6727.1,
          3180.95,
          2880.03,
          4132.7,
          3611.84,
          3961.27,
          1360.56,
          1528.01,
          3591.77,
          3268.62,
          3391.14,
          3363.71,
          4038.69,
          6123.79,
          3316.67,
          2857.32,
          2519.71,
          3774.96,
          6128.64,
          2304.1,
          979.4799999999999,
          2894.15,
          5095.21,
          1224.08,
          3451.84,
          2091.44,
          3866.54,
          3341.6,
          779.57,
          2861.16,
          1114.71,
          1903.15,
          3648.33,
          2254.16,
          4545.76,
          1404.5900000000001,
          1795.85,
          5219.7,
          5073.56,
          4192.56,
          5041.6900000000005,
          4097.66,
          1702.75,
          3079.2400000000002,
          976.9300000000001,
          3974.67,
          3940.68,
          2390.95,
          3008.3500000000004,
          3232.53,
          2678.83,
          1271.85,
          3633.7,
          2340.66,
          1267.22,
          3467.13,
          4399.7,
          2391.44,
          3093.15,
          3169.9300000000003,
          3241.03,
          4761.4,
          5443.33,
          1683.24,
          3157.42,
          1697.4899999999998,
          3256.23,
          3257.05,
          6094.52
         ],
         "yaxis": "y"
        }
       ],
       "layout": {
        "legend": {
         "tracegroupgap": 0
        },
        "template": {
         "data": {
          "bar": [
           {
            "error_x": {
             "color": "#2a3f5f"
            },
            "error_y": {
             "color": "#2a3f5f"
            },
            "marker": {
             "line": {
              "color": "#E5ECF6",
              "width": 0.5
             },
             "pattern": {
              "fillmode": "overlay",
              "size": 10,
              "solidity": 0.2
             }
            },
            "type": "bar"
           }
          ],
          "barpolar": [
           {
            "marker": {
             "line": {
              "color": "#E5ECF6",
              "width": 0.5
             },
             "pattern": {
              "fillmode": "overlay",
              "size": 10,
              "solidity": 0.2
             }
            },
            "type": "barpolar"
           }
          ],
          "carpet": [
           {
            "aaxis": {
             "endlinecolor": "#2a3f5f",
             "gridcolor": "white",
             "linecolor": "white",
             "minorgridcolor": "white",
             "startlinecolor": "#2a3f5f"
            },
            "baxis": {
             "endlinecolor": "#2a3f5f",
             "gridcolor": "white",
             "linecolor": "white",
             "minorgridcolor": "white",
             "startlinecolor": "#2a3f5f"
            },
            "type": "carpet"
           }
          ],
          "choropleth": [
           {
            "colorbar": {
             "outlinewidth": 0,
             "ticks": ""
            },
            "type": "choropleth"
           }
          ],
          "contour": [
           {
            "colorbar": {
             "outlinewidth": 0,
             "ticks": ""
            },
            "colorscale": [
             [
              0,
              "#0d0887"
             ],
             [
              0.1111111111111111,
              "#46039f"
             ],
             [
              0.2222222222222222,
              "#7201a8"
             ],
             [
              0.3333333333333333,
              "#9c179e"
             ],
             [
              0.4444444444444444,
              "#bd3786"
             ],
             [
              0.5555555555555556,
              "#d8576b"
             ],
             [
              0.6666666666666666,
              "#ed7953"
             ],
             [
              0.7777777777777778,
              "#fb9f3a"
             ],
             [
              0.8888888888888888,
              "#fdca26"
             ],
             [
              1,
              "#f0f921"
             ]
            ],
            "type": "contour"
           }
          ],
          "contourcarpet": [
           {
            "colorbar": {
             "outlinewidth": 0,
             "ticks": ""
            },
            "type": "contourcarpet"
           }
          ],
          "heatmap": [
           {
            "colorbar": {
             "outlinewidth": 0,
             "ticks": ""
            },
            "colorscale": [
             [
              0,
              "#0d0887"
             ],
             [
              0.1111111111111111,
              "#46039f"
             ],
             [
              0.2222222222222222,
              "#7201a8"
             ],
             [
              0.3333333333333333,
              "#9c179e"
             ],
             [
              0.4444444444444444,
              "#bd3786"
             ],
             [
              0.5555555555555556,
              "#d8576b"
             ],
             [
              0.6666666666666666,
              "#ed7953"
             ],
             [
              0.7777777777777778,
              "#fb9f3a"
             ],
             [
              0.8888888888888888,
              "#fdca26"
             ],
             [
              1,
              "#f0f921"
             ]
            ],
            "type": "heatmap"
           }
          ],
          "heatmapgl": [
           {
            "colorbar": {
             "outlinewidth": 0,
             "ticks": ""
            },
            "colorscale": [
             [
              0,
              "#0d0887"
             ],
             [
              0.1111111111111111,
              "#46039f"
             ],
             [
              0.2222222222222222,
              "#7201a8"
             ],
             [
              0.3333333333333333,
              "#9c179e"
             ],
             [
              0.4444444444444444,
              "#bd3786"
             ],
             [
              0.5555555555555556,
              "#d8576b"
             ],
             [
              0.6666666666666666,
              "#ed7953"
             ],
             [
              0.7777777777777778,
              "#fb9f3a"
             ],
             [
              0.8888888888888888,
              "#fdca26"
             ],
             [
              1,
              "#f0f921"
             ]
            ],
            "type": "heatmapgl"
           }
          ],
          "histogram": [
           {
            "marker": {
             "pattern": {
              "fillmode": "overlay",
              "size": 10,
              "solidity": 0.2
             }
            },
            "type": "histogram"
           }
          ],
          "histogram2d": [
           {
            "colorbar": {
             "outlinewidth": 0,
             "ticks": ""
            },
            "colorscale": [
             [
              0,
              "#0d0887"
             ],
             [
              0.1111111111111111,
              "#46039f"
             ],
             [
              0.2222222222222222,
              "#7201a8"
             ],
             [
              0.3333333333333333,
              "#9c179e"
             ],
             [
              0.4444444444444444,
              "#bd3786"
             ],
             [
              0.5555555555555556,
              "#d8576b"
             ],
             [
              0.6666666666666666,
              "#ed7953"
             ],
             [
              0.7777777777777778,
              "#fb9f3a"
             ],
             [
              0.8888888888888888,
              "#fdca26"
             ],
             [
              1,
              "#f0f921"
             ]
            ],
            "type": "histogram2d"
           }
          ],
          "histogram2dcontour": [
           {
            "colorbar": {
             "outlinewidth": 0,
             "ticks": ""
            },
            "colorscale": [
             [
              0,
              "#0d0887"
             ],
             [
              0.1111111111111111,
              "#46039f"
             ],
             [
              0.2222222222222222,
              "#7201a8"
             ],
             [
              0.3333333333333333,
              "#9c179e"
             ],
             [
              0.4444444444444444,
              "#bd3786"
             ],
             [
              0.5555555555555556,
              "#d8576b"
             ],
             [
              0.6666666666666666,
              "#ed7953"
             ],
             [
              0.7777777777777778,
              "#fb9f3a"
             ],
             [
              0.8888888888888888,
              "#fdca26"
             ],
             [
              1,
              "#f0f921"
             ]
            ],
            "type": "histogram2dcontour"
           }
          ],
          "mesh3d": [
           {
            "colorbar": {
             "outlinewidth": 0,
             "ticks": ""
            },
            "type": "mesh3d"
           }
          ],
          "parcoords": [
           {
            "line": {
             "colorbar": {
              "outlinewidth": 0,
              "ticks": ""
             }
            },
            "type": "parcoords"
           }
          ],
          "pie": [
           {
            "automargin": true,
            "type": "pie"
           }
          ],
          "scatter": [
           {
            "fillpattern": {
             "fillmode": "overlay",
             "size": 10,
             "solidity": 0.2
            },
            "type": "scatter"
           }
          ],
          "scatter3d": [
           {
            "line": {
             "colorbar": {
              "outlinewidth": 0,
              "ticks": ""
             }
            },
            "marker": {
             "colorbar": {
              "outlinewidth": 0,
              "ticks": ""
             }
            },
            "type": "scatter3d"
           }
          ],
          "scattercarpet": [
           {
            "marker": {
             "colorbar": {
              "outlinewidth": 0,
              "ticks": ""
             }
            },
            "type": "scattercarpet"
           }
          ],
          "scattergeo": [
           {
            "marker": {
             "colorbar": {
              "outlinewidth": 0,
              "ticks": ""
             }
            },
            "type": "scattergeo"
           }
          ],
          "scattergl": [
           {
            "marker": {
             "colorbar": {
              "outlinewidth": 0,
              "ticks": ""
             }
            },
            "type": "scattergl"
           }
          ],
          "scattermapbox": [
           {
            "marker": {
             "colorbar": {
              "outlinewidth": 0,
              "ticks": ""
             }
            },
            "type": "scattermapbox"
           }
          ],
          "scatterpolar": [
           {
            "marker": {
             "colorbar": {
              "outlinewidth": 0,
              "ticks": ""
             }
            },
            "type": "scatterpolar"
           }
          ],
          "scatterpolargl": [
           {
            "marker": {
             "colorbar": {
              "outlinewidth": 0,
              "ticks": ""
             }
            },
            "type": "scatterpolargl"
           }
          ],
          "scatterternary": [
           {
            "marker": {
             "colorbar": {
              "outlinewidth": 0,
              "ticks": ""
             }
            },
            "type": "scatterternary"
           }
          ],
          "surface": [
           {
            "colorbar": {
             "outlinewidth": 0,
             "ticks": ""
            },
            "colorscale": [
             [
              0,
              "#0d0887"
             ],
             [
              0.1111111111111111,
              "#46039f"
             ],
             [
              0.2222222222222222,
              "#7201a8"
             ],
             [
              0.3333333333333333,
              "#9c179e"
             ],
             [
              0.4444444444444444,
              "#bd3786"
             ],
             [
              0.5555555555555556,
              "#d8576b"
             ],
             [
              0.6666666666666666,
              "#ed7953"
             ],
             [
              0.7777777777777778,
              "#fb9f3a"
             ],
             [
              0.8888888888888888,
              "#fdca26"
             ],
             [
              1,
              "#f0f921"
             ]
            ],
            "type": "surface"
           }
          ],
          "table": [
           {
            "cells": {
             "fill": {
              "color": "#EBF0F8"
             },
             "line": {
              "color": "white"
             }
            },
            "header": {
             "fill": {
              "color": "#C8D4E3"
             },
             "line": {
              "color": "white"
             }
            },
            "type": "table"
           }
          ]
         },
         "layout": {
          "annotationdefaults": {
           "arrowcolor": "#2a3f5f",
           "arrowhead": 0,
           "arrowwidth": 1
          },
          "autotypenumbers": "strict",
          "coloraxis": {
           "colorbar": {
            "outlinewidth": 0,
            "ticks": ""
           }
          },
          "colorscale": {
           "diverging": [
            [
             0,
             "#8e0152"
            ],
            [
             0.1,
             "#c51b7d"
            ],
            [
             0.2,
             "#de77ae"
            ],
            [
             0.3,
             "#f1b6da"
            ],
            [
             0.4,
             "#fde0ef"
            ],
            [
             0.5,
             "#f7f7f7"
            ],
            [
             0.6,
             "#e6f5d0"
            ],
            [
             0.7,
             "#b8e186"
            ],
            [
             0.8,
             "#7fbc41"
            ],
            [
             0.9,
             "#4d9221"
            ],
            [
             1,
             "#276419"
            ]
           ],
           "sequential": [
            [
             0,
             "#0d0887"
            ],
            [
             0.1111111111111111,
             "#46039f"
            ],
            [
             0.2222222222222222,
             "#7201a8"
            ],
            [
             0.3333333333333333,
             "#9c179e"
            ],
            [
             0.4444444444444444,
             "#bd3786"
            ],
            [
             0.5555555555555556,
             "#d8576b"
            ],
            [
             0.6666666666666666,
             "#ed7953"
            ],
            [
             0.7777777777777778,
             "#fb9f3a"
            ],
            [
             0.8888888888888888,
             "#fdca26"
            ],
            [
             1,
             "#f0f921"
            ]
           ],
           "sequentialminus": [
            [
             0,
             "#0d0887"
            ],
            [
             0.1111111111111111,
             "#46039f"
            ],
            [
             0.2222222222222222,
             "#7201a8"
            ],
            [
             0.3333333333333333,
             "#9c179e"
            ],
            [
             0.4444444444444444,
             "#bd3786"
            ],
            [
             0.5555555555555556,
             "#d8576b"
            ],
            [
             0.6666666666666666,
             "#ed7953"
            ],
            [
             0.7777777777777778,
             "#fb9f3a"
            ],
            [
             0.8888888888888888,
             "#fdca26"
            ],
            [
             1,
             "#f0f921"
            ]
           ]
          },
          "colorway": [
           "#636efa",
           "#EF553B",
           "#00cc96",
           "#ab63fa",
           "#FFA15A",
           "#19d3f3",
           "#FF6692",
           "#B6E880",
           "#FF97FF",
           "#FECB52"
          ],
          "font": {
           "color": "#2a3f5f"
          },
          "geo": {
           "bgcolor": "white",
           "lakecolor": "white",
           "landcolor": "#E5ECF6",
           "showlakes": true,
           "showland": true,
           "subunitcolor": "white"
          },
          "hoverlabel": {
           "align": "left"
          },
          "hovermode": "closest",
          "mapbox": {
           "style": "light"
          },
          "paper_bgcolor": "white",
          "plot_bgcolor": "#E5ECF6",
          "polar": {
           "angularaxis": {
            "gridcolor": "white",
            "linecolor": "white",
            "ticks": ""
           },
           "bgcolor": "#E5ECF6",
           "radialaxis": {
            "gridcolor": "white",
            "linecolor": "white",
            "ticks": ""
           }
          },
          "scene": {
           "xaxis": {
            "backgroundcolor": "#E5ECF6",
            "gridcolor": "white",
            "gridwidth": 2,
            "linecolor": "white",
            "showbackground": true,
            "ticks": "",
            "zerolinecolor": "white"
           },
           "yaxis": {
            "backgroundcolor": "#E5ECF6",
            "gridcolor": "white",
            "gridwidth": 2,
            "linecolor": "white",
            "showbackground": true,
            "ticks": "",
            "zerolinecolor": "white"
           },
           "zaxis": {
            "backgroundcolor": "#E5ECF6",
            "gridcolor": "white",
            "gridwidth": 2,
            "linecolor": "white",
            "showbackground": true,
            "ticks": "",
            "zerolinecolor": "white"
           }
          },
          "shapedefaults": {
           "line": {
            "color": "#2a3f5f"
           }
          },
          "ternary": {
           "aaxis": {
            "gridcolor": "white",
            "linecolor": "white",
            "ticks": ""
           },
           "baxis": {
            "gridcolor": "white",
            "linecolor": "white",
            "ticks": ""
           },
           "bgcolor": "#E5ECF6",
           "caxis": {
            "gridcolor": "white",
            "linecolor": "white",
            "ticks": ""
           }
          },
          "title": {
           "x": 0.05
          },
          "xaxis": {
           "automargin": true,
           "gridcolor": "white",
           "linecolor": "white",
           "ticks": "",
           "title": {
            "standoff": 15
           },
           "zerolinecolor": "white",
           "zerolinewidth": 2
          },
          "yaxis": {
           "automargin": true,
           "gridcolor": "white",
           "linecolor": "white",
           "ticks": "",
           "title": {
            "standoff": 15
           },
           "zerolinecolor": "white",
           "zerolinewidth": 2
          }
         }
        },
        "title": {
         "text": "Daily Revenue"
        },
        "xaxis": {
         "anchor": "y",
         "domain": [
          0,
          1
         ],
         "title": {
          "text": "Date"
         }
        },
        "yaxis": {
         "anchor": "x",
         "domain": [
          0,
          1
         ],
         "title": {
          "text": "Daily Revenue"
         }
        }
       }
      }
     },
     "metadata": {},
     "output_type": "display_data"
    }
   ],
   "source": [
    "# Plot the DataFrame\n",
    "daily_revenue = px.line(sales.groupby('date').sum().reset_index().loc[:,[\"date\",\"total\"]], \n",
    "                        x='date', y='total', title='Daily Revenue',\n",
    "                        labels={'date': 'Date','total': 'Daily Revenue'})\n",
    "\n",
    "# Show the plot\n",
    "daily_revenue.show()"
   ]
  },
  {
   "attachments": {},
   "cell_type": "markdown",
   "metadata": {},
   "source": []
  },
  {
   "attachments": {},
   "cell_type": "markdown",
   "metadata": {},
   "source": [
    "### Days of the week with higher revenue"
   ]
  },
  {
   "cell_type": "code",
   "execution_count": 288,
   "metadata": {},
   "outputs": [
    {
     "data": {
      "application/vnd.plotly.v1+json": {
       "config": {
        "plotlyServerURL": "https://plot.ly"
       },
       "data": [
        {
         "alignmentgroup": "True",
         "hovertemplate": "Day of the Week=%{x}<br>Number of Transactions(%)=%{y}<extra></extra>",
         "legendgroup": "Monday",
         "marker": {
          "color": "#636efa",
          "pattern": {
           "shape": ""
          }
         },
         "name": "Monday",
         "offsetgroup": "Monday",
         "orientation": "v",
         "showlegend": true,
         "textposition": "auto",
         "type": "bar",
         "x": [
          "Monday"
         ],
         "xaxis": "x",
         "y": [
          14.399999999999999
         ],
         "yaxis": "y"
        },
        {
         "alignmentgroup": "True",
         "hovertemplate": "Day of the Week=%{x}<br>Number of Transactions(%)=%{y}<extra></extra>",
         "legendgroup": "Tuesday",
         "marker": {
          "color": "#EF553B",
          "pattern": {
           "shape": ""
          }
         },
         "name": "Tuesday",
         "offsetgroup": "Tuesday",
         "orientation": "v",
         "showlegend": true,
         "textposition": "auto",
         "type": "bar",
         "x": [
          "Tuesday"
         ],
         "xaxis": "x",
         "y": [
          13.3
         ],
         "yaxis": "y"
        },
        {
         "alignmentgroup": "True",
         "hovertemplate": "Day of the Week=%{x}<br>Number of Transactions(%)=%{y}<extra></extra>",
         "legendgroup": "Wednesday",
         "marker": {
          "color": "#00cc96",
          "pattern": {
           "shape": ""
          }
         },
         "name": "Wednesday",
         "offsetgroup": "Wednesday",
         "orientation": "v",
         "showlegend": true,
         "textposition": "auto",
         "type": "bar",
         "x": [
          "Wednesday"
         ],
         "xaxis": "x",
         "y": [
          17
         ],
         "yaxis": "y"
        },
        {
         "alignmentgroup": "True",
         "hovertemplate": "Day of the Week=%{x}<br>Number of Transactions(%)=%{y}<extra></extra>",
         "legendgroup": "Thursday",
         "marker": {
          "color": "#ab63fa",
          "pattern": {
           "shape": ""
          }
         },
         "name": "Thursday",
         "offsetgroup": "Thursday",
         "orientation": "v",
         "showlegend": true,
         "textposition": "auto",
         "type": "bar",
         "x": [
          "Thursday"
         ],
         "xaxis": "x",
         "y": [
          12.6
         ],
         "yaxis": "y"
        },
        {
         "alignmentgroup": "True",
         "hovertemplate": "Day of the Week=%{x}<br>Number of Transactions(%)=%{y}<extra></extra>",
         "legendgroup": "Friday",
         "marker": {
          "color": "#FFA15A",
          "pattern": {
           "shape": ""
          }
         },
         "name": "Friday",
         "offsetgroup": "Friday",
         "orientation": "v",
         "showlegend": true,
         "textposition": "auto",
         "type": "bar",
         "x": [
          "Friday"
         ],
         "xaxis": "x",
         "y": [
          15.1
         ],
         "yaxis": "y"
        },
        {
         "alignmentgroup": "True",
         "hovertemplate": "Day of the Week=%{x}<br>Number of Transactions(%)=%{y}<extra></extra>",
         "legendgroup": "Saturday",
         "marker": {
          "color": "#19d3f3",
          "pattern": {
           "shape": ""
          }
         },
         "name": "Saturday",
         "offsetgroup": "Saturday",
         "orientation": "v",
         "showlegend": true,
         "textposition": "auto",
         "type": "bar",
         "x": [
          "Saturday"
         ],
         "xaxis": "x",
         "y": [
          15.1
         ],
         "yaxis": "y"
        },
        {
         "alignmentgroup": "True",
         "hovertemplate": "Day of the Week=%{x}<br>Number of Transactions(%)=%{y}<extra></extra>",
         "legendgroup": "Sunday",
         "marker": {
          "color": "#FF6692",
          "pattern": {
           "shape": ""
          }
         },
         "name": "Sunday",
         "offsetgroup": "Sunday",
         "orientation": "v",
         "showlegend": true,
         "textposition": "auto",
         "type": "bar",
         "x": [
          "Sunday"
         ],
         "xaxis": "x",
         "y": [
          12.5
         ],
         "yaxis": "y"
        }
       ],
       "layout": {
        "barmode": "relative",
        "legend": {
         "title": {
          "text": "Day of the Week"
         },
         "tracegroupgap": 0
        },
        "template": {
         "data": {
          "bar": [
           {
            "error_x": {
             "color": "#2a3f5f"
            },
            "error_y": {
             "color": "#2a3f5f"
            },
            "marker": {
             "line": {
              "color": "#E5ECF6",
              "width": 0.5
             },
             "pattern": {
              "fillmode": "overlay",
              "size": 10,
              "solidity": 0.2
             }
            },
            "type": "bar"
           }
          ],
          "barpolar": [
           {
            "marker": {
             "line": {
              "color": "#E5ECF6",
              "width": 0.5
             },
             "pattern": {
              "fillmode": "overlay",
              "size": 10,
              "solidity": 0.2
             }
            },
            "type": "barpolar"
           }
          ],
          "carpet": [
           {
            "aaxis": {
             "endlinecolor": "#2a3f5f",
             "gridcolor": "white",
             "linecolor": "white",
             "minorgridcolor": "white",
             "startlinecolor": "#2a3f5f"
            },
            "baxis": {
             "endlinecolor": "#2a3f5f",
             "gridcolor": "white",
             "linecolor": "white",
             "minorgridcolor": "white",
             "startlinecolor": "#2a3f5f"
            },
            "type": "carpet"
           }
          ],
          "choropleth": [
           {
            "colorbar": {
             "outlinewidth": 0,
             "ticks": ""
            },
            "type": "choropleth"
           }
          ],
          "contour": [
           {
            "colorbar": {
             "outlinewidth": 0,
             "ticks": ""
            },
            "colorscale": [
             [
              0,
              "#0d0887"
             ],
             [
              0.1111111111111111,
              "#46039f"
             ],
             [
              0.2222222222222222,
              "#7201a8"
             ],
             [
              0.3333333333333333,
              "#9c179e"
             ],
             [
              0.4444444444444444,
              "#bd3786"
             ],
             [
              0.5555555555555556,
              "#d8576b"
             ],
             [
              0.6666666666666666,
              "#ed7953"
             ],
             [
              0.7777777777777778,
              "#fb9f3a"
             ],
             [
              0.8888888888888888,
              "#fdca26"
             ],
             [
              1,
              "#f0f921"
             ]
            ],
            "type": "contour"
           }
          ],
          "contourcarpet": [
           {
            "colorbar": {
             "outlinewidth": 0,
             "ticks": ""
            },
            "type": "contourcarpet"
           }
          ],
          "heatmap": [
           {
            "colorbar": {
             "outlinewidth": 0,
             "ticks": ""
            },
            "colorscale": [
             [
              0,
              "#0d0887"
             ],
             [
              0.1111111111111111,
              "#46039f"
             ],
             [
              0.2222222222222222,
              "#7201a8"
             ],
             [
              0.3333333333333333,
              "#9c179e"
             ],
             [
              0.4444444444444444,
              "#bd3786"
             ],
             [
              0.5555555555555556,
              "#d8576b"
             ],
             [
              0.6666666666666666,
              "#ed7953"
             ],
             [
              0.7777777777777778,
              "#fb9f3a"
             ],
             [
              0.8888888888888888,
              "#fdca26"
             ],
             [
              1,
              "#f0f921"
             ]
            ],
            "type": "heatmap"
           }
          ],
          "heatmapgl": [
           {
            "colorbar": {
             "outlinewidth": 0,
             "ticks": ""
            },
            "colorscale": [
             [
              0,
              "#0d0887"
             ],
             [
              0.1111111111111111,
              "#46039f"
             ],
             [
              0.2222222222222222,
              "#7201a8"
             ],
             [
              0.3333333333333333,
              "#9c179e"
             ],
             [
              0.4444444444444444,
              "#bd3786"
             ],
             [
              0.5555555555555556,
              "#d8576b"
             ],
             [
              0.6666666666666666,
              "#ed7953"
             ],
             [
              0.7777777777777778,
              "#fb9f3a"
             ],
             [
              0.8888888888888888,
              "#fdca26"
             ],
             [
              1,
              "#f0f921"
             ]
            ],
            "type": "heatmapgl"
           }
          ],
          "histogram": [
           {
            "marker": {
             "pattern": {
              "fillmode": "overlay",
              "size": 10,
              "solidity": 0.2
             }
            },
            "type": "histogram"
           }
          ],
          "histogram2d": [
           {
            "colorbar": {
             "outlinewidth": 0,
             "ticks": ""
            },
            "colorscale": [
             [
              0,
              "#0d0887"
             ],
             [
              0.1111111111111111,
              "#46039f"
             ],
             [
              0.2222222222222222,
              "#7201a8"
             ],
             [
              0.3333333333333333,
              "#9c179e"
             ],
             [
              0.4444444444444444,
              "#bd3786"
             ],
             [
              0.5555555555555556,
              "#d8576b"
             ],
             [
              0.6666666666666666,
              "#ed7953"
             ],
             [
              0.7777777777777778,
              "#fb9f3a"
             ],
             [
              0.8888888888888888,
              "#fdca26"
             ],
             [
              1,
              "#f0f921"
             ]
            ],
            "type": "histogram2d"
           }
          ],
          "histogram2dcontour": [
           {
            "colorbar": {
             "outlinewidth": 0,
             "ticks": ""
            },
            "colorscale": [
             [
              0,
              "#0d0887"
             ],
             [
              0.1111111111111111,
              "#46039f"
             ],
             [
              0.2222222222222222,
              "#7201a8"
             ],
             [
              0.3333333333333333,
              "#9c179e"
             ],
             [
              0.4444444444444444,
              "#bd3786"
             ],
             [
              0.5555555555555556,
              "#d8576b"
             ],
             [
              0.6666666666666666,
              "#ed7953"
             ],
             [
              0.7777777777777778,
              "#fb9f3a"
             ],
             [
              0.8888888888888888,
              "#fdca26"
             ],
             [
              1,
              "#f0f921"
             ]
            ],
            "type": "histogram2dcontour"
           }
          ],
          "mesh3d": [
           {
            "colorbar": {
             "outlinewidth": 0,
             "ticks": ""
            },
            "type": "mesh3d"
           }
          ],
          "parcoords": [
           {
            "line": {
             "colorbar": {
              "outlinewidth": 0,
              "ticks": ""
             }
            },
            "type": "parcoords"
           }
          ],
          "pie": [
           {
            "automargin": true,
            "type": "pie"
           }
          ],
          "scatter": [
           {
            "fillpattern": {
             "fillmode": "overlay",
             "size": 10,
             "solidity": 0.2
            },
            "type": "scatter"
           }
          ],
          "scatter3d": [
           {
            "line": {
             "colorbar": {
              "outlinewidth": 0,
              "ticks": ""
             }
            },
            "marker": {
             "colorbar": {
              "outlinewidth": 0,
              "ticks": ""
             }
            },
            "type": "scatter3d"
           }
          ],
          "scattercarpet": [
           {
            "marker": {
             "colorbar": {
              "outlinewidth": 0,
              "ticks": ""
             }
            },
            "type": "scattercarpet"
           }
          ],
          "scattergeo": [
           {
            "marker": {
             "colorbar": {
              "outlinewidth": 0,
              "ticks": ""
             }
            },
            "type": "scattergeo"
           }
          ],
          "scattergl": [
           {
            "marker": {
             "colorbar": {
              "outlinewidth": 0,
              "ticks": ""
             }
            },
            "type": "scattergl"
           }
          ],
          "scattermapbox": [
           {
            "marker": {
             "colorbar": {
              "outlinewidth": 0,
              "ticks": ""
             }
            },
            "type": "scattermapbox"
           }
          ],
          "scatterpolar": [
           {
            "marker": {
             "colorbar": {
              "outlinewidth": 0,
              "ticks": ""
             }
            },
            "type": "scatterpolar"
           }
          ],
          "scatterpolargl": [
           {
            "marker": {
             "colorbar": {
              "outlinewidth": 0,
              "ticks": ""
             }
            },
            "type": "scatterpolargl"
           }
          ],
          "scatterternary": [
           {
            "marker": {
             "colorbar": {
              "outlinewidth": 0,
              "ticks": ""
             }
            },
            "type": "scatterternary"
           }
          ],
          "surface": [
           {
            "colorbar": {
             "outlinewidth": 0,
             "ticks": ""
            },
            "colorscale": [
             [
              0,
              "#0d0887"
             ],
             [
              0.1111111111111111,
              "#46039f"
             ],
             [
              0.2222222222222222,
              "#7201a8"
             ],
             [
              0.3333333333333333,
              "#9c179e"
             ],
             [
              0.4444444444444444,
              "#bd3786"
             ],
             [
              0.5555555555555556,
              "#d8576b"
             ],
             [
              0.6666666666666666,
              "#ed7953"
             ],
             [
              0.7777777777777778,
              "#fb9f3a"
             ],
             [
              0.8888888888888888,
              "#fdca26"
             ],
             [
              1,
              "#f0f921"
             ]
            ],
            "type": "surface"
           }
          ],
          "table": [
           {
            "cells": {
             "fill": {
              "color": "#EBF0F8"
             },
             "line": {
              "color": "white"
             }
            },
            "header": {
             "fill": {
              "color": "#C8D4E3"
             },
             "line": {
              "color": "white"
             }
            },
            "type": "table"
           }
          ]
         },
         "layout": {
          "annotationdefaults": {
           "arrowcolor": "#2a3f5f",
           "arrowhead": 0,
           "arrowwidth": 1
          },
          "autotypenumbers": "strict",
          "coloraxis": {
           "colorbar": {
            "outlinewidth": 0,
            "ticks": ""
           }
          },
          "colorscale": {
           "diverging": [
            [
             0,
             "#8e0152"
            ],
            [
             0.1,
             "#c51b7d"
            ],
            [
             0.2,
             "#de77ae"
            ],
            [
             0.3,
             "#f1b6da"
            ],
            [
             0.4,
             "#fde0ef"
            ],
            [
             0.5,
             "#f7f7f7"
            ],
            [
             0.6,
             "#e6f5d0"
            ],
            [
             0.7,
             "#b8e186"
            ],
            [
             0.8,
             "#7fbc41"
            ],
            [
             0.9,
             "#4d9221"
            ],
            [
             1,
             "#276419"
            ]
           ],
           "sequential": [
            [
             0,
             "#0d0887"
            ],
            [
             0.1111111111111111,
             "#46039f"
            ],
            [
             0.2222222222222222,
             "#7201a8"
            ],
            [
             0.3333333333333333,
             "#9c179e"
            ],
            [
             0.4444444444444444,
             "#bd3786"
            ],
            [
             0.5555555555555556,
             "#d8576b"
            ],
            [
             0.6666666666666666,
             "#ed7953"
            ],
            [
             0.7777777777777778,
             "#fb9f3a"
            ],
            [
             0.8888888888888888,
             "#fdca26"
            ],
            [
             1,
             "#f0f921"
            ]
           ],
           "sequentialminus": [
            [
             0,
             "#0d0887"
            ],
            [
             0.1111111111111111,
             "#46039f"
            ],
            [
             0.2222222222222222,
             "#7201a8"
            ],
            [
             0.3333333333333333,
             "#9c179e"
            ],
            [
             0.4444444444444444,
             "#bd3786"
            ],
            [
             0.5555555555555556,
             "#d8576b"
            ],
            [
             0.6666666666666666,
             "#ed7953"
            ],
            [
             0.7777777777777778,
             "#fb9f3a"
            ],
            [
             0.8888888888888888,
             "#fdca26"
            ],
            [
             1,
             "#f0f921"
            ]
           ]
          },
          "colorway": [
           "#636efa",
           "#EF553B",
           "#00cc96",
           "#ab63fa",
           "#FFA15A",
           "#19d3f3",
           "#FF6692",
           "#B6E880",
           "#FF97FF",
           "#FECB52"
          ],
          "font": {
           "color": "#2a3f5f"
          },
          "geo": {
           "bgcolor": "white",
           "lakecolor": "white",
           "landcolor": "#E5ECF6",
           "showlakes": true,
           "showland": true,
           "subunitcolor": "white"
          },
          "hoverlabel": {
           "align": "left"
          },
          "hovermode": "closest",
          "mapbox": {
           "style": "light"
          },
          "paper_bgcolor": "white",
          "plot_bgcolor": "#E5ECF6",
          "polar": {
           "angularaxis": {
            "gridcolor": "white",
            "linecolor": "white",
            "ticks": ""
           },
           "bgcolor": "#E5ECF6",
           "radialaxis": {
            "gridcolor": "white",
            "linecolor": "white",
            "ticks": ""
           }
          },
          "scene": {
           "xaxis": {
            "backgroundcolor": "#E5ECF6",
            "gridcolor": "white",
            "gridwidth": 2,
            "linecolor": "white",
            "showbackground": true,
            "ticks": "",
            "zerolinecolor": "white"
           },
           "yaxis": {
            "backgroundcolor": "#E5ECF6",
            "gridcolor": "white",
            "gridwidth": 2,
            "linecolor": "white",
            "showbackground": true,
            "ticks": "",
            "zerolinecolor": "white"
           },
           "zaxis": {
            "backgroundcolor": "#E5ECF6",
            "gridcolor": "white",
            "gridwidth": 2,
            "linecolor": "white",
            "showbackground": true,
            "ticks": "",
            "zerolinecolor": "white"
           }
          },
          "shapedefaults": {
           "line": {
            "color": "#2a3f5f"
           }
          },
          "ternary": {
           "aaxis": {
            "gridcolor": "white",
            "linecolor": "white",
            "ticks": ""
           },
           "baxis": {
            "gridcolor": "white",
            "linecolor": "white",
            "ticks": ""
           },
           "bgcolor": "#E5ECF6",
           "caxis": {
            "gridcolor": "white",
            "linecolor": "white",
            "ticks": ""
           }
          },
          "title": {
           "x": 0.05
          },
          "xaxis": {
           "automargin": true,
           "gridcolor": "white",
           "linecolor": "white",
           "ticks": "",
           "title": {
            "standoff": 15
           },
           "zerolinecolor": "white",
           "zerolinewidth": 2
          },
          "yaxis": {
           "automargin": true,
           "gridcolor": "white",
           "linecolor": "white",
           "ticks": "",
           "title": {
            "standoff": 15
           },
           "zerolinecolor": "white",
           "zerolinewidth": 2
          }
         }
        },
        "title": {
         "text": "Number of Transactions In each Day of the Week"
        },
        "xaxis": {
         "anchor": "y",
         "categoryarray": [
          "Monday",
          "Tuesday",
          "Wednesday",
          "Thursday",
          "Friday",
          "Saturday",
          "Sunday"
         ],
         "categoryorder": "array",
         "domain": [
          0,
          1
         ],
         "title": {
          "text": "Day of the Week"
         }
        },
        "yaxis": {
         "anchor": "x",
         "domain": [
          0,
          1
         ],
         "title": {
          "text": "Number of Transactions(%)"
         }
        }
       }
      }
     },
     "metadata": {},
     "output_type": "display_data"
    }
   ],
   "source": [
    "import plotly.express as px\n",
    "\n",
    "# Plot the DataFrame\n",
    "weekday_trans = px.bar(sales.groupby('Weekday').count().reset_index().\n",
    "                        assign(percentage=lambda x: (x['date'] / x['date'].sum()) * 100).\n",
    "                        loc[:,[\"Weekday\",\"percentage\"]].sort_values(by=\"Weekday\").reset_index(drop=True),\n",
    "                        color=\"Weekday\", x='Weekday', y='percentage', title='Number of Transactions In each Day of the Week', \n",
    "                        labels={'Weekday': 'Day of the Week','percentage': 'Number of Transactions(%)'})\n",
    "\n",
    "# Sort the bars from lowest to highest\n",
    "weekday_trans.show()"
   ]
  },
  {
   "attachments": {},
   "cell_type": "markdown",
   "metadata": {},
   "source": [
    "### Product Line with most Number of Transactions"
   ]
  },
  {
   "cell_type": "code",
   "execution_count": 289,
   "metadata": {},
   "outputs": [
    {
     "data": {
      "application/vnd.plotly.v1+json": {
       "config": {
        "plotlyServerURL": "https://plot.ly"
       },
       "data": [
        {
         "alignmentgroup": "True",
         "hovertemplate": "Products Category=%{x}<br>Number of Transactions(%)=%{y}<extra></extra>",
         "legendgroup": "Engine",
         "marker": {
          "color": "#636efa",
          "pattern": {
           "shape": ""
          }
         },
         "name": "Engine",
         "offsetgroup": "Engine",
         "orientation": "v",
         "showlegend": true,
         "textposition": "auto",
         "type": "bar",
         "x": [
          "Engine"
         ],
         "xaxis": "x",
         "y": [
          6.1
         ],
         "yaxis": "y"
        },
        {
         "alignmentgroup": "True",
         "hovertemplate": "Products Category=%{x}<br>Number of Transactions(%)=%{y}<extra></extra>",
         "legendgroup": "Miscellaneous",
         "marker": {
          "color": "#EF553B",
          "pattern": {
           "shape": ""
          }
         },
         "name": "Miscellaneous",
         "offsetgroup": "Miscellaneous",
         "orientation": "v",
         "showlegend": true,
         "textposition": "auto",
         "type": "bar",
         "x": [
          "Miscellaneous"
         ],
         "xaxis": "x",
         "y": [
          12.2
         ],
         "yaxis": "y"
        },
        {
         "alignmentgroup": "True",
         "hovertemplate": "Products Category=%{x}<br>Number of Transactions(%)=%{y}<extra></extra>",
         "legendgroup": "Frame & body",
         "marker": {
          "color": "#00cc96",
          "pattern": {
           "shape": ""
          }
         },
         "name": "Frame & body",
         "offsetgroup": "Frame & body",
         "orientation": "v",
         "showlegend": true,
         "textposition": "auto",
         "type": "bar",
         "x": [
          "Frame & body"
         ],
         "xaxis": "x",
         "y": [
          16.6
         ],
         "yaxis": "y"
        },
        {
         "alignmentgroup": "True",
         "hovertemplate": "Products Category=%{x}<br>Number of Transactions(%)=%{y}<extra></extra>",
         "legendgroup": "Electrical system",
         "marker": {
          "color": "#ab63fa",
          "pattern": {
           "shape": ""
          }
         },
         "name": "Electrical system",
         "offsetgroup": "Electrical system",
         "orientation": "v",
         "showlegend": true,
         "textposition": "auto",
         "type": "bar",
         "x": [
          "Electrical system"
         ],
         "xaxis": "x",
         "y": [
          19.3
         ],
         "yaxis": "y"
        },
        {
         "alignmentgroup": "True",
         "hovertemplate": "Products Category=%{x}<br>Number of Transactions(%)=%{y}<extra></extra>",
         "legendgroup": "Suspension & traction",
         "marker": {
          "color": "#FFA15A",
          "pattern": {
           "shape": ""
          }
         },
         "name": "Suspension & traction",
         "offsetgroup": "Suspension & traction",
         "orientation": "v",
         "showlegend": true,
         "textposition": "auto",
         "type": "bar",
         "x": [
          "Suspension & traction"
         ],
         "xaxis": "x",
         "y": [
          22.8
         ],
         "yaxis": "y"
        },
        {
         "alignmentgroup": "True",
         "hovertemplate": "Products Category=%{x}<br>Number of Transactions(%)=%{y}<extra></extra>",
         "legendgroup": "Breaking system",
         "marker": {
          "color": "#19d3f3",
          "pattern": {
           "shape": ""
          }
         },
         "name": "Breaking system",
         "offsetgroup": "Breaking system",
         "orientation": "v",
         "showlegend": true,
         "textposition": "auto",
         "type": "bar",
         "x": [
          "Breaking system"
         ],
         "xaxis": "x",
         "y": [
          23
         ],
         "yaxis": "y"
        }
       ],
       "layout": {
        "barmode": "relative",
        "legend": {
         "title": {
          "text": "Products Category"
         },
         "tracegroupgap": 0
        },
        "template": {
         "data": {
          "bar": [
           {
            "error_x": {
             "color": "#2a3f5f"
            },
            "error_y": {
             "color": "#2a3f5f"
            },
            "marker": {
             "line": {
              "color": "#E5ECF6",
              "width": 0.5
             },
             "pattern": {
              "fillmode": "overlay",
              "size": 10,
              "solidity": 0.2
             }
            },
            "type": "bar"
           }
          ],
          "barpolar": [
           {
            "marker": {
             "line": {
              "color": "#E5ECF6",
              "width": 0.5
             },
             "pattern": {
              "fillmode": "overlay",
              "size": 10,
              "solidity": 0.2
             }
            },
            "type": "barpolar"
           }
          ],
          "carpet": [
           {
            "aaxis": {
             "endlinecolor": "#2a3f5f",
             "gridcolor": "white",
             "linecolor": "white",
             "minorgridcolor": "white",
             "startlinecolor": "#2a3f5f"
            },
            "baxis": {
             "endlinecolor": "#2a3f5f",
             "gridcolor": "white",
             "linecolor": "white",
             "minorgridcolor": "white",
             "startlinecolor": "#2a3f5f"
            },
            "type": "carpet"
           }
          ],
          "choropleth": [
           {
            "colorbar": {
             "outlinewidth": 0,
             "ticks": ""
            },
            "type": "choropleth"
           }
          ],
          "contour": [
           {
            "colorbar": {
             "outlinewidth": 0,
             "ticks": ""
            },
            "colorscale": [
             [
              0,
              "#0d0887"
             ],
             [
              0.1111111111111111,
              "#46039f"
             ],
             [
              0.2222222222222222,
              "#7201a8"
             ],
             [
              0.3333333333333333,
              "#9c179e"
             ],
             [
              0.4444444444444444,
              "#bd3786"
             ],
             [
              0.5555555555555556,
              "#d8576b"
             ],
             [
              0.6666666666666666,
              "#ed7953"
             ],
             [
              0.7777777777777778,
              "#fb9f3a"
             ],
             [
              0.8888888888888888,
              "#fdca26"
             ],
             [
              1,
              "#f0f921"
             ]
            ],
            "type": "contour"
           }
          ],
          "contourcarpet": [
           {
            "colorbar": {
             "outlinewidth": 0,
             "ticks": ""
            },
            "type": "contourcarpet"
           }
          ],
          "heatmap": [
           {
            "colorbar": {
             "outlinewidth": 0,
             "ticks": ""
            },
            "colorscale": [
             [
              0,
              "#0d0887"
             ],
             [
              0.1111111111111111,
              "#46039f"
             ],
             [
              0.2222222222222222,
              "#7201a8"
             ],
             [
              0.3333333333333333,
              "#9c179e"
             ],
             [
              0.4444444444444444,
              "#bd3786"
             ],
             [
              0.5555555555555556,
              "#d8576b"
             ],
             [
              0.6666666666666666,
              "#ed7953"
             ],
             [
              0.7777777777777778,
              "#fb9f3a"
             ],
             [
              0.8888888888888888,
              "#fdca26"
             ],
             [
              1,
              "#f0f921"
             ]
            ],
            "type": "heatmap"
           }
          ],
          "heatmapgl": [
           {
            "colorbar": {
             "outlinewidth": 0,
             "ticks": ""
            },
            "colorscale": [
             [
              0,
              "#0d0887"
             ],
             [
              0.1111111111111111,
              "#46039f"
             ],
             [
              0.2222222222222222,
              "#7201a8"
             ],
             [
              0.3333333333333333,
              "#9c179e"
             ],
             [
              0.4444444444444444,
              "#bd3786"
             ],
             [
              0.5555555555555556,
              "#d8576b"
             ],
             [
              0.6666666666666666,
              "#ed7953"
             ],
             [
              0.7777777777777778,
              "#fb9f3a"
             ],
             [
              0.8888888888888888,
              "#fdca26"
             ],
             [
              1,
              "#f0f921"
             ]
            ],
            "type": "heatmapgl"
           }
          ],
          "histogram": [
           {
            "marker": {
             "pattern": {
              "fillmode": "overlay",
              "size": 10,
              "solidity": 0.2
             }
            },
            "type": "histogram"
           }
          ],
          "histogram2d": [
           {
            "colorbar": {
             "outlinewidth": 0,
             "ticks": ""
            },
            "colorscale": [
             [
              0,
              "#0d0887"
             ],
             [
              0.1111111111111111,
              "#46039f"
             ],
             [
              0.2222222222222222,
              "#7201a8"
             ],
             [
              0.3333333333333333,
              "#9c179e"
             ],
             [
              0.4444444444444444,
              "#bd3786"
             ],
             [
              0.5555555555555556,
              "#d8576b"
             ],
             [
              0.6666666666666666,
              "#ed7953"
             ],
             [
              0.7777777777777778,
              "#fb9f3a"
             ],
             [
              0.8888888888888888,
              "#fdca26"
             ],
             [
              1,
              "#f0f921"
             ]
            ],
            "type": "histogram2d"
           }
          ],
          "histogram2dcontour": [
           {
            "colorbar": {
             "outlinewidth": 0,
             "ticks": ""
            },
            "colorscale": [
             [
              0,
              "#0d0887"
             ],
             [
              0.1111111111111111,
              "#46039f"
             ],
             [
              0.2222222222222222,
              "#7201a8"
             ],
             [
              0.3333333333333333,
              "#9c179e"
             ],
             [
              0.4444444444444444,
              "#bd3786"
             ],
             [
              0.5555555555555556,
              "#d8576b"
             ],
             [
              0.6666666666666666,
              "#ed7953"
             ],
             [
              0.7777777777777778,
              "#fb9f3a"
             ],
             [
              0.8888888888888888,
              "#fdca26"
             ],
             [
              1,
              "#f0f921"
             ]
            ],
            "type": "histogram2dcontour"
           }
          ],
          "mesh3d": [
           {
            "colorbar": {
             "outlinewidth": 0,
             "ticks": ""
            },
            "type": "mesh3d"
           }
          ],
          "parcoords": [
           {
            "line": {
             "colorbar": {
              "outlinewidth": 0,
              "ticks": ""
             }
            },
            "type": "parcoords"
           }
          ],
          "pie": [
           {
            "automargin": true,
            "type": "pie"
           }
          ],
          "scatter": [
           {
            "fillpattern": {
             "fillmode": "overlay",
             "size": 10,
             "solidity": 0.2
            },
            "type": "scatter"
           }
          ],
          "scatter3d": [
           {
            "line": {
             "colorbar": {
              "outlinewidth": 0,
              "ticks": ""
             }
            },
            "marker": {
             "colorbar": {
              "outlinewidth": 0,
              "ticks": ""
             }
            },
            "type": "scatter3d"
           }
          ],
          "scattercarpet": [
           {
            "marker": {
             "colorbar": {
              "outlinewidth": 0,
              "ticks": ""
             }
            },
            "type": "scattercarpet"
           }
          ],
          "scattergeo": [
           {
            "marker": {
             "colorbar": {
              "outlinewidth": 0,
              "ticks": ""
             }
            },
            "type": "scattergeo"
           }
          ],
          "scattergl": [
           {
            "marker": {
             "colorbar": {
              "outlinewidth": 0,
              "ticks": ""
             }
            },
            "type": "scattergl"
           }
          ],
          "scattermapbox": [
           {
            "marker": {
             "colorbar": {
              "outlinewidth": 0,
              "ticks": ""
             }
            },
            "type": "scattermapbox"
           }
          ],
          "scatterpolar": [
           {
            "marker": {
             "colorbar": {
              "outlinewidth": 0,
              "ticks": ""
             }
            },
            "type": "scatterpolar"
           }
          ],
          "scatterpolargl": [
           {
            "marker": {
             "colorbar": {
              "outlinewidth": 0,
              "ticks": ""
             }
            },
            "type": "scatterpolargl"
           }
          ],
          "scatterternary": [
           {
            "marker": {
             "colorbar": {
              "outlinewidth": 0,
              "ticks": ""
             }
            },
            "type": "scatterternary"
           }
          ],
          "surface": [
           {
            "colorbar": {
             "outlinewidth": 0,
             "ticks": ""
            },
            "colorscale": [
             [
              0,
              "#0d0887"
             ],
             [
              0.1111111111111111,
              "#46039f"
             ],
             [
              0.2222222222222222,
              "#7201a8"
             ],
             [
              0.3333333333333333,
              "#9c179e"
             ],
             [
              0.4444444444444444,
              "#bd3786"
             ],
             [
              0.5555555555555556,
              "#d8576b"
             ],
             [
              0.6666666666666666,
              "#ed7953"
             ],
             [
              0.7777777777777778,
              "#fb9f3a"
             ],
             [
              0.8888888888888888,
              "#fdca26"
             ],
             [
              1,
              "#f0f921"
             ]
            ],
            "type": "surface"
           }
          ],
          "table": [
           {
            "cells": {
             "fill": {
              "color": "#EBF0F8"
             },
             "line": {
              "color": "white"
             }
            },
            "header": {
             "fill": {
              "color": "#C8D4E3"
             },
             "line": {
              "color": "white"
             }
            },
            "type": "table"
           }
          ]
         },
         "layout": {
          "annotationdefaults": {
           "arrowcolor": "#2a3f5f",
           "arrowhead": 0,
           "arrowwidth": 1
          },
          "autotypenumbers": "strict",
          "coloraxis": {
           "colorbar": {
            "outlinewidth": 0,
            "ticks": ""
           }
          },
          "colorscale": {
           "diverging": [
            [
             0,
             "#8e0152"
            ],
            [
             0.1,
             "#c51b7d"
            ],
            [
             0.2,
             "#de77ae"
            ],
            [
             0.3,
             "#f1b6da"
            ],
            [
             0.4,
             "#fde0ef"
            ],
            [
             0.5,
             "#f7f7f7"
            ],
            [
             0.6,
             "#e6f5d0"
            ],
            [
             0.7,
             "#b8e186"
            ],
            [
             0.8,
             "#7fbc41"
            ],
            [
             0.9,
             "#4d9221"
            ],
            [
             1,
             "#276419"
            ]
           ],
           "sequential": [
            [
             0,
             "#0d0887"
            ],
            [
             0.1111111111111111,
             "#46039f"
            ],
            [
             0.2222222222222222,
             "#7201a8"
            ],
            [
             0.3333333333333333,
             "#9c179e"
            ],
            [
             0.4444444444444444,
             "#bd3786"
            ],
            [
             0.5555555555555556,
             "#d8576b"
            ],
            [
             0.6666666666666666,
             "#ed7953"
            ],
            [
             0.7777777777777778,
             "#fb9f3a"
            ],
            [
             0.8888888888888888,
             "#fdca26"
            ],
            [
             1,
             "#f0f921"
            ]
           ],
           "sequentialminus": [
            [
             0,
             "#0d0887"
            ],
            [
             0.1111111111111111,
             "#46039f"
            ],
            [
             0.2222222222222222,
             "#7201a8"
            ],
            [
             0.3333333333333333,
             "#9c179e"
            ],
            [
             0.4444444444444444,
             "#bd3786"
            ],
            [
             0.5555555555555556,
             "#d8576b"
            ],
            [
             0.6666666666666666,
             "#ed7953"
            ],
            [
             0.7777777777777778,
             "#fb9f3a"
            ],
            [
             0.8888888888888888,
             "#fdca26"
            ],
            [
             1,
             "#f0f921"
            ]
           ]
          },
          "colorway": [
           "#636efa",
           "#EF553B",
           "#00cc96",
           "#ab63fa",
           "#FFA15A",
           "#19d3f3",
           "#FF6692",
           "#B6E880",
           "#FF97FF",
           "#FECB52"
          ],
          "font": {
           "color": "#2a3f5f"
          },
          "geo": {
           "bgcolor": "white",
           "lakecolor": "white",
           "landcolor": "#E5ECF6",
           "showlakes": true,
           "showland": true,
           "subunitcolor": "white"
          },
          "hoverlabel": {
           "align": "left"
          },
          "hovermode": "closest",
          "mapbox": {
           "style": "light"
          },
          "paper_bgcolor": "white",
          "plot_bgcolor": "#E5ECF6",
          "polar": {
           "angularaxis": {
            "gridcolor": "white",
            "linecolor": "white",
            "ticks": ""
           },
           "bgcolor": "#E5ECF6",
           "radialaxis": {
            "gridcolor": "white",
            "linecolor": "white",
            "ticks": ""
           }
          },
          "scene": {
           "xaxis": {
            "backgroundcolor": "#E5ECF6",
            "gridcolor": "white",
            "gridwidth": 2,
            "linecolor": "white",
            "showbackground": true,
            "ticks": "",
            "zerolinecolor": "white"
           },
           "yaxis": {
            "backgroundcolor": "#E5ECF6",
            "gridcolor": "white",
            "gridwidth": 2,
            "linecolor": "white",
            "showbackground": true,
            "ticks": "",
            "zerolinecolor": "white"
           },
           "zaxis": {
            "backgroundcolor": "#E5ECF6",
            "gridcolor": "white",
            "gridwidth": 2,
            "linecolor": "white",
            "showbackground": true,
            "ticks": "",
            "zerolinecolor": "white"
           }
          },
          "shapedefaults": {
           "line": {
            "color": "#2a3f5f"
           }
          },
          "ternary": {
           "aaxis": {
            "gridcolor": "white",
            "linecolor": "white",
            "ticks": ""
           },
           "baxis": {
            "gridcolor": "white",
            "linecolor": "white",
            "ticks": ""
           },
           "bgcolor": "#E5ECF6",
           "caxis": {
            "gridcolor": "white",
            "linecolor": "white",
            "ticks": ""
           }
          },
          "title": {
           "x": 0.05
          },
          "xaxis": {
           "automargin": true,
           "gridcolor": "white",
           "linecolor": "white",
           "ticks": "",
           "title": {
            "standoff": 15
           },
           "zerolinecolor": "white",
           "zerolinewidth": 2
          },
          "yaxis": {
           "automargin": true,
           "gridcolor": "white",
           "linecolor": "white",
           "ticks": "",
           "title": {
            "standoff": 15
           },
           "zerolinecolor": "white",
           "zerolinewidth": 2
          }
         }
        },
        "title": {
         "text": "Number of Transactions by Product Line"
        },
        "xaxis": {
         "anchor": "y",
         "categoryarray": [
          "Engine",
          "Miscellaneous",
          "Frame & body",
          "Electrical system",
          "Suspension & traction",
          "Breaking system"
         ],
         "categoryorder": "array",
         "domain": [
          0,
          1
         ],
         "title": {
          "text": "Products Category"
         }
        },
        "yaxis": {
         "anchor": "x",
         "domain": [
          0,
          1
         ],
         "title": {
          "text": "Number of Transactions(%)"
         }
        }
       }
      }
     },
     "metadata": {},
     "output_type": "display_data"
    }
   ],
   "source": [
    "import plotly.express as px\n",
    "\n",
    "# Plot the DataFrame\n",
    "product_line_trans = px.bar(sales.groupby('product_line').count().reset_index().\n",
    "                        assign(percentage=lambda x: (x['date'] / x['date'].sum()) * 100).\n",
    "                        loc[:,[\"product_line\",\"percentage\"]].sort_values(by=\"percentage\").reset_index(drop=True),\n",
    "                        color=\"product_line\", x='product_line', y='percentage', title='Number of Transactions by Product Line', \n",
    "                        labels={'product_line': 'Products Category','percentage': 'Number of Transactions(%)'})\n",
    "\n",
    "# Sort the bars from lowest to highest\n",
    "product_line_trans.show()"
   ]
  },
  {
   "attachments": {},
   "cell_type": "markdown",
   "metadata": {},
   "source": [
    "### Product Category with most sales"
   ]
  },
  {
   "cell_type": "code",
   "execution_count": 290,
   "metadata": {},
   "outputs": [
    {
     "name": "stderr",
     "output_type": "stream",
     "text": [
      "C:\\Users\\abu aisha\\AppData\\Local\\Temp\\ipykernel_7000\\2887843600.py:4: FutureWarning:\n",
      "\n",
      "The default value of numeric_only in DataFrameGroupBy.sum is deprecated. In a future version, numeric_only will default to False. Either specify numeric_only or select only columns which should be valid for the function.\n",
      "\n"
     ]
    },
    {
     "data": {
      "application/vnd.plotly.v1+json": {
       "config": {
        "plotlyServerURL": "https://plot.ly"
       },
       "data": [
        {
         "alignmentgroup": "True",
         "hovertemplate": "Products Category=%{y}<br>Revenue($)=%{x}<extra></extra>",
         "legendgroup": "Suspension & traction",
         "marker": {
          "color": "#636efa",
          "pattern": {
           "shape": ""
          }
         },
         "name": "Suspension & traction",
         "offsetgroup": "Suspension & traction",
         "orientation": "h",
         "showlegend": true,
         "textposition": "auto",
         "type": "bar",
         "x": [
          73014.21
         ],
         "xaxis": "x",
         "y": [
          "Suspension & traction"
         ],
         "yaxis": "y"
        },
        {
         "alignmentgroup": "True",
         "hovertemplate": "Products Category=%{y}<br>Revenue($)=%{x}<extra></extra>",
         "legendgroup": "Frame & body",
         "marker": {
          "color": "#EF553B",
          "pattern": {
           "shape": ""
          }
         },
         "name": "Frame & body",
         "offsetgroup": "Frame & body",
         "orientation": "h",
         "showlegend": true,
         "textposition": "auto",
         "type": "bar",
         "x": [
          69024.73
         ],
         "xaxis": "x",
         "y": [
          "Frame & body"
         ],
         "yaxis": "y"
        },
        {
         "alignmentgroup": "True",
         "hovertemplate": "Products Category=%{y}<br>Revenue($)=%{x}<extra></extra>",
         "legendgroup": "Electrical system",
         "marker": {
          "color": "#00cc96",
          "pattern": {
           "shape": ""
          }
         },
         "name": "Electrical system",
         "offsetgroup": "Electrical system",
         "orientation": "h",
         "showlegend": true,
         "textposition": "auto",
         "type": "bar",
         "x": [
          43612.71
         ],
         "xaxis": "x",
         "y": [
          "Electrical system"
         ],
         "yaxis": "y"
        },
        {
         "alignmentgroup": "True",
         "hovertemplate": "Products Category=%{y}<br>Revenue($)=%{x}<extra></extra>",
         "legendgroup": "Breaking system",
         "marker": {
          "color": "#ab63fa",
          "pattern": {
           "shape": ""
          }
         },
         "name": "Breaking system",
         "offsetgroup": "Breaking system",
         "orientation": "h",
         "showlegend": true,
         "textposition": "auto",
         "type": "bar",
         "x": [
          38350.15
         ],
         "xaxis": "x",
         "y": [
          "Breaking system"
         ],
         "yaxis": "y"
        },
        {
         "alignmentgroup": "True",
         "hovertemplate": "Products Category=%{y}<br>Revenue($)=%{x}<extra></extra>",
         "legendgroup": "Engine",
         "marker": {
          "color": "#FFA15A",
          "pattern": {
           "shape": ""
          }
         },
         "name": "Engine",
         "offsetgroup": "Engine",
         "orientation": "h",
         "showlegend": true,
         "textposition": "auto",
         "type": "bar",
         "x": [
          37945.38
         ],
         "xaxis": "x",
         "y": [
          "Engine"
         ],
         "yaxis": "y"
        },
        {
         "alignmentgroup": "True",
         "hovertemplate": "Products Category=%{y}<br>Revenue($)=%{x}<extra></extra>",
         "legendgroup": "Miscellaneous",
         "marker": {
          "color": "#19d3f3",
          "pattern": {
           "shape": ""
          }
         },
         "name": "Miscellaneous",
         "offsetgroup": "Miscellaneous",
         "orientation": "h",
         "showlegend": true,
         "textposition": "auto",
         "type": "bar",
         "x": [
          27165.82
         ],
         "xaxis": "x",
         "y": [
          "Miscellaneous"
         ],
         "yaxis": "y"
        }
       ],
       "layout": {
        "barmode": "relative",
        "legend": {
         "title": {
          "text": "Products Category"
         },
         "tracegroupgap": 0
        },
        "template": {
         "data": {
          "bar": [
           {
            "error_x": {
             "color": "#2a3f5f"
            },
            "error_y": {
             "color": "#2a3f5f"
            },
            "marker": {
             "line": {
              "color": "#E5ECF6",
              "width": 0.5
             },
             "pattern": {
              "fillmode": "overlay",
              "size": 10,
              "solidity": 0.2
             }
            },
            "type": "bar"
           }
          ],
          "barpolar": [
           {
            "marker": {
             "line": {
              "color": "#E5ECF6",
              "width": 0.5
             },
             "pattern": {
              "fillmode": "overlay",
              "size": 10,
              "solidity": 0.2
             }
            },
            "type": "barpolar"
           }
          ],
          "carpet": [
           {
            "aaxis": {
             "endlinecolor": "#2a3f5f",
             "gridcolor": "white",
             "linecolor": "white",
             "minorgridcolor": "white",
             "startlinecolor": "#2a3f5f"
            },
            "baxis": {
             "endlinecolor": "#2a3f5f",
             "gridcolor": "white",
             "linecolor": "white",
             "minorgridcolor": "white",
             "startlinecolor": "#2a3f5f"
            },
            "type": "carpet"
           }
          ],
          "choropleth": [
           {
            "colorbar": {
             "outlinewidth": 0,
             "ticks": ""
            },
            "type": "choropleth"
           }
          ],
          "contour": [
           {
            "colorbar": {
             "outlinewidth": 0,
             "ticks": ""
            },
            "colorscale": [
             [
              0,
              "#0d0887"
             ],
             [
              0.1111111111111111,
              "#46039f"
             ],
             [
              0.2222222222222222,
              "#7201a8"
             ],
             [
              0.3333333333333333,
              "#9c179e"
             ],
             [
              0.4444444444444444,
              "#bd3786"
             ],
             [
              0.5555555555555556,
              "#d8576b"
             ],
             [
              0.6666666666666666,
              "#ed7953"
             ],
             [
              0.7777777777777778,
              "#fb9f3a"
             ],
             [
              0.8888888888888888,
              "#fdca26"
             ],
             [
              1,
              "#f0f921"
             ]
            ],
            "type": "contour"
           }
          ],
          "contourcarpet": [
           {
            "colorbar": {
             "outlinewidth": 0,
             "ticks": ""
            },
            "type": "contourcarpet"
           }
          ],
          "heatmap": [
           {
            "colorbar": {
             "outlinewidth": 0,
             "ticks": ""
            },
            "colorscale": [
             [
              0,
              "#0d0887"
             ],
             [
              0.1111111111111111,
              "#46039f"
             ],
             [
              0.2222222222222222,
              "#7201a8"
             ],
             [
              0.3333333333333333,
              "#9c179e"
             ],
             [
              0.4444444444444444,
              "#bd3786"
             ],
             [
              0.5555555555555556,
              "#d8576b"
             ],
             [
              0.6666666666666666,
              "#ed7953"
             ],
             [
              0.7777777777777778,
              "#fb9f3a"
             ],
             [
              0.8888888888888888,
              "#fdca26"
             ],
             [
              1,
              "#f0f921"
             ]
            ],
            "type": "heatmap"
           }
          ],
          "heatmapgl": [
           {
            "colorbar": {
             "outlinewidth": 0,
             "ticks": ""
            },
            "colorscale": [
             [
              0,
              "#0d0887"
             ],
             [
              0.1111111111111111,
              "#46039f"
             ],
             [
              0.2222222222222222,
              "#7201a8"
             ],
             [
              0.3333333333333333,
              "#9c179e"
             ],
             [
              0.4444444444444444,
              "#bd3786"
             ],
             [
              0.5555555555555556,
              "#d8576b"
             ],
             [
              0.6666666666666666,
              "#ed7953"
             ],
             [
              0.7777777777777778,
              "#fb9f3a"
             ],
             [
              0.8888888888888888,
              "#fdca26"
             ],
             [
              1,
              "#f0f921"
             ]
            ],
            "type": "heatmapgl"
           }
          ],
          "histogram": [
           {
            "marker": {
             "pattern": {
              "fillmode": "overlay",
              "size": 10,
              "solidity": 0.2
             }
            },
            "type": "histogram"
           }
          ],
          "histogram2d": [
           {
            "colorbar": {
             "outlinewidth": 0,
             "ticks": ""
            },
            "colorscale": [
             [
              0,
              "#0d0887"
             ],
             [
              0.1111111111111111,
              "#46039f"
             ],
             [
              0.2222222222222222,
              "#7201a8"
             ],
             [
              0.3333333333333333,
              "#9c179e"
             ],
             [
              0.4444444444444444,
              "#bd3786"
             ],
             [
              0.5555555555555556,
              "#d8576b"
             ],
             [
              0.6666666666666666,
              "#ed7953"
             ],
             [
              0.7777777777777778,
              "#fb9f3a"
             ],
             [
              0.8888888888888888,
              "#fdca26"
             ],
             [
              1,
              "#f0f921"
             ]
            ],
            "type": "histogram2d"
           }
          ],
          "histogram2dcontour": [
           {
            "colorbar": {
             "outlinewidth": 0,
             "ticks": ""
            },
            "colorscale": [
             [
              0,
              "#0d0887"
             ],
             [
              0.1111111111111111,
              "#46039f"
             ],
             [
              0.2222222222222222,
              "#7201a8"
             ],
             [
              0.3333333333333333,
              "#9c179e"
             ],
             [
              0.4444444444444444,
              "#bd3786"
             ],
             [
              0.5555555555555556,
              "#d8576b"
             ],
             [
              0.6666666666666666,
              "#ed7953"
             ],
             [
              0.7777777777777778,
              "#fb9f3a"
             ],
             [
              0.8888888888888888,
              "#fdca26"
             ],
             [
              1,
              "#f0f921"
             ]
            ],
            "type": "histogram2dcontour"
           }
          ],
          "mesh3d": [
           {
            "colorbar": {
             "outlinewidth": 0,
             "ticks": ""
            },
            "type": "mesh3d"
           }
          ],
          "parcoords": [
           {
            "line": {
             "colorbar": {
              "outlinewidth": 0,
              "ticks": ""
             }
            },
            "type": "parcoords"
           }
          ],
          "pie": [
           {
            "automargin": true,
            "type": "pie"
           }
          ],
          "scatter": [
           {
            "fillpattern": {
             "fillmode": "overlay",
             "size": 10,
             "solidity": 0.2
            },
            "type": "scatter"
           }
          ],
          "scatter3d": [
           {
            "line": {
             "colorbar": {
              "outlinewidth": 0,
              "ticks": ""
             }
            },
            "marker": {
             "colorbar": {
              "outlinewidth": 0,
              "ticks": ""
             }
            },
            "type": "scatter3d"
           }
          ],
          "scattercarpet": [
           {
            "marker": {
             "colorbar": {
              "outlinewidth": 0,
              "ticks": ""
             }
            },
            "type": "scattercarpet"
           }
          ],
          "scattergeo": [
           {
            "marker": {
             "colorbar": {
              "outlinewidth": 0,
              "ticks": ""
             }
            },
            "type": "scattergeo"
           }
          ],
          "scattergl": [
           {
            "marker": {
             "colorbar": {
              "outlinewidth": 0,
              "ticks": ""
             }
            },
            "type": "scattergl"
           }
          ],
          "scattermapbox": [
           {
            "marker": {
             "colorbar": {
              "outlinewidth": 0,
              "ticks": ""
             }
            },
            "type": "scattermapbox"
           }
          ],
          "scatterpolar": [
           {
            "marker": {
             "colorbar": {
              "outlinewidth": 0,
              "ticks": ""
             }
            },
            "type": "scatterpolar"
           }
          ],
          "scatterpolargl": [
           {
            "marker": {
             "colorbar": {
              "outlinewidth": 0,
              "ticks": ""
             }
            },
            "type": "scatterpolargl"
           }
          ],
          "scatterternary": [
           {
            "marker": {
             "colorbar": {
              "outlinewidth": 0,
              "ticks": ""
             }
            },
            "type": "scatterternary"
           }
          ],
          "surface": [
           {
            "colorbar": {
             "outlinewidth": 0,
             "ticks": ""
            },
            "colorscale": [
             [
              0,
              "#0d0887"
             ],
             [
              0.1111111111111111,
              "#46039f"
             ],
             [
              0.2222222222222222,
              "#7201a8"
             ],
             [
              0.3333333333333333,
              "#9c179e"
             ],
             [
              0.4444444444444444,
              "#bd3786"
             ],
             [
              0.5555555555555556,
              "#d8576b"
             ],
             [
              0.6666666666666666,
              "#ed7953"
             ],
             [
              0.7777777777777778,
              "#fb9f3a"
             ],
             [
              0.8888888888888888,
              "#fdca26"
             ],
             [
              1,
              "#f0f921"
             ]
            ],
            "type": "surface"
           }
          ],
          "table": [
           {
            "cells": {
             "fill": {
              "color": "#EBF0F8"
             },
             "line": {
              "color": "white"
             }
            },
            "header": {
             "fill": {
              "color": "#C8D4E3"
             },
             "line": {
              "color": "white"
             }
            },
            "type": "table"
           }
          ]
         },
         "layout": {
          "annotationdefaults": {
           "arrowcolor": "#2a3f5f",
           "arrowhead": 0,
           "arrowwidth": 1
          },
          "autotypenumbers": "strict",
          "coloraxis": {
           "colorbar": {
            "outlinewidth": 0,
            "ticks": ""
           }
          },
          "colorscale": {
           "diverging": [
            [
             0,
             "#8e0152"
            ],
            [
             0.1,
             "#c51b7d"
            ],
            [
             0.2,
             "#de77ae"
            ],
            [
             0.3,
             "#f1b6da"
            ],
            [
             0.4,
             "#fde0ef"
            ],
            [
             0.5,
             "#f7f7f7"
            ],
            [
             0.6,
             "#e6f5d0"
            ],
            [
             0.7,
             "#b8e186"
            ],
            [
             0.8,
             "#7fbc41"
            ],
            [
             0.9,
             "#4d9221"
            ],
            [
             1,
             "#276419"
            ]
           ],
           "sequential": [
            [
             0,
             "#0d0887"
            ],
            [
             0.1111111111111111,
             "#46039f"
            ],
            [
             0.2222222222222222,
             "#7201a8"
            ],
            [
             0.3333333333333333,
             "#9c179e"
            ],
            [
             0.4444444444444444,
             "#bd3786"
            ],
            [
             0.5555555555555556,
             "#d8576b"
            ],
            [
             0.6666666666666666,
             "#ed7953"
            ],
            [
             0.7777777777777778,
             "#fb9f3a"
            ],
            [
             0.8888888888888888,
             "#fdca26"
            ],
            [
             1,
             "#f0f921"
            ]
           ],
           "sequentialminus": [
            [
             0,
             "#0d0887"
            ],
            [
             0.1111111111111111,
             "#46039f"
            ],
            [
             0.2222222222222222,
             "#7201a8"
            ],
            [
             0.3333333333333333,
             "#9c179e"
            ],
            [
             0.4444444444444444,
             "#bd3786"
            ],
            [
             0.5555555555555556,
             "#d8576b"
            ],
            [
             0.6666666666666666,
             "#ed7953"
            ],
            [
             0.7777777777777778,
             "#fb9f3a"
            ],
            [
             0.8888888888888888,
             "#fdca26"
            ],
            [
             1,
             "#f0f921"
            ]
           ]
          },
          "colorway": [
           "#636efa",
           "#EF553B",
           "#00cc96",
           "#ab63fa",
           "#FFA15A",
           "#19d3f3",
           "#FF6692",
           "#B6E880",
           "#FF97FF",
           "#FECB52"
          ],
          "font": {
           "color": "#2a3f5f"
          },
          "geo": {
           "bgcolor": "white",
           "lakecolor": "white",
           "landcolor": "#E5ECF6",
           "showlakes": true,
           "showland": true,
           "subunitcolor": "white"
          },
          "hoverlabel": {
           "align": "left"
          },
          "hovermode": "closest",
          "mapbox": {
           "style": "light"
          },
          "paper_bgcolor": "white",
          "plot_bgcolor": "#E5ECF6",
          "polar": {
           "angularaxis": {
            "gridcolor": "white",
            "linecolor": "white",
            "ticks": ""
           },
           "bgcolor": "#E5ECF6",
           "radialaxis": {
            "gridcolor": "white",
            "linecolor": "white",
            "ticks": ""
           }
          },
          "scene": {
           "xaxis": {
            "backgroundcolor": "#E5ECF6",
            "gridcolor": "white",
            "gridwidth": 2,
            "linecolor": "white",
            "showbackground": true,
            "ticks": "",
            "zerolinecolor": "white"
           },
           "yaxis": {
            "backgroundcolor": "#E5ECF6",
            "gridcolor": "white",
            "gridwidth": 2,
            "linecolor": "white",
            "showbackground": true,
            "ticks": "",
            "zerolinecolor": "white"
           },
           "zaxis": {
            "backgroundcolor": "#E5ECF6",
            "gridcolor": "white",
            "gridwidth": 2,
            "linecolor": "white",
            "showbackground": true,
            "ticks": "",
            "zerolinecolor": "white"
           }
          },
          "shapedefaults": {
           "line": {
            "color": "#2a3f5f"
           }
          },
          "ternary": {
           "aaxis": {
            "gridcolor": "white",
            "linecolor": "white",
            "ticks": ""
           },
           "baxis": {
            "gridcolor": "white",
            "linecolor": "white",
            "ticks": ""
           },
           "bgcolor": "#E5ECF6",
           "caxis": {
            "gridcolor": "white",
            "linecolor": "white",
            "ticks": ""
           }
          },
          "title": {
           "x": 0.05
          },
          "xaxis": {
           "automargin": true,
           "gridcolor": "white",
           "linecolor": "white",
           "ticks": "",
           "title": {
            "standoff": 15
           },
           "zerolinecolor": "white",
           "zerolinewidth": 2
          },
          "yaxis": {
           "automargin": true,
           "gridcolor": "white",
           "linecolor": "white",
           "ticks": "",
           "title": {
            "standoff": 15
           },
           "zerolinecolor": "white",
           "zerolinewidth": 2
          }
         }
        },
        "title": {
         "text": "Revenue by Product Line"
        },
        "xaxis": {
         "anchor": "y",
         "domain": [
          0,
          1
         ],
         "tickformat": ",.",
         "tickprefix": "$",
         "title": {
          "text": "Revenue($)"
         }
        },
        "yaxis": {
         "anchor": "x",
         "categoryarray": [
          "Miscellaneous",
          "Engine",
          "Breaking system",
          "Electrical system",
          "Frame & body",
          "Suspension & traction"
         ],
         "categoryorder": "array",
         "domain": [
          0,
          1
         ],
         "title": {
          "text": "Products Category"
         }
        }
       }
      }
     },
     "metadata": {},
     "output_type": "display_data"
    }
   ],
   "source": [
    "import plotly.express as px\n",
    "\n",
    "# Plot the DataFrame\n",
    "cat_most_sales = px.bar(sales.groupby('product_line').sum().reset_index().\n",
    "                        loc[:,[\"product_line\",\"total\"]].sort_values(by=\"total\", ascending=False),\n",
    "                        color=\"product_line\", y='product_line', x='total', title='Revenue by Product Line', \n",
    "                        labels={'product_line': 'Products Category','total': 'Revenue($)'})\n",
    "\n",
    "cat_most_sales.update_layout(xaxis_tickprefix = '$', xaxis_tickformat = ',.')\n",
    "\n",
    "# Sort the bars from lowest to highest\n",
    "cat_most_sales.show()"
   ]
  },
  {
   "cell_type": "code",
   "execution_count": 291,
   "metadata": {},
   "outputs": [
    {
     "data": {
      "text/html": [
       "<div>\n",
       "<style scoped>\n",
       "    .dataframe tbody tr th:only-of-type {\n",
       "        vertical-align: middle;\n",
       "    }\n",
       "\n",
       "    .dataframe tbody tr th {\n",
       "        vertical-align: top;\n",
       "    }\n",
       "\n",
       "    .dataframe thead th {\n",
       "        text-align: right;\n",
       "    }\n",
       "</style>\n",
       "<table border=\"1\" class=\"dataframe\">\n",
       "  <thead>\n",
       "    <tr style=\"text-align: right;\">\n",
       "      <th></th>\n",
       "      <th>date</th>\n",
       "      <th>warehouse</th>\n",
       "      <th>client_type</th>\n",
       "      <th>product_line</th>\n",
       "      <th>quantity</th>\n",
       "      <th>unit_price</th>\n",
       "      <th>total</th>\n",
       "      <th>payment</th>\n",
       "      <th>Weekday</th>\n",
       "      <th>Month</th>\n",
       "    </tr>\n",
       "  </thead>\n",
       "  <tbody>\n",
       "    <tr>\n",
       "      <th>0</th>\n",
       "      <td>2021-01-06</td>\n",
       "      <td>Central</td>\n",
       "      <td>Retail</td>\n",
       "      <td>Miscellaneous</td>\n",
       "      <td>8</td>\n",
       "      <td>16.85</td>\n",
       "      <td>134.83</td>\n",
       "      <td>Credit card</td>\n",
       "      <td>Wednesday</td>\n",
       "      <td>January</td>\n",
       "    </tr>\n",
       "    <tr>\n",
       "      <th>1</th>\n",
       "      <td>2021-01-06</td>\n",
       "      <td>North</td>\n",
       "      <td>Retail</td>\n",
       "      <td>Breaking system</td>\n",
       "      <td>9</td>\n",
       "      <td>19.29</td>\n",
       "      <td>173.61</td>\n",
       "      <td>Cash</td>\n",
       "      <td>Wednesday</td>\n",
       "      <td>January</td>\n",
       "    </tr>\n",
       "    <tr>\n",
       "      <th>2</th>\n",
       "      <td>2021-01-06</td>\n",
       "      <td>North</td>\n",
       "      <td>Retail</td>\n",
       "      <td>Suspension &amp; traction</td>\n",
       "      <td>8</td>\n",
       "      <td>32.93</td>\n",
       "      <td>263.45</td>\n",
       "      <td>Credit card</td>\n",
       "      <td>Wednesday</td>\n",
       "      <td>January</td>\n",
       "    </tr>\n",
       "    <tr>\n",
       "      <th>3</th>\n",
       "      <td>2021-01-06</td>\n",
       "      <td>North</td>\n",
       "      <td>Wholesale</td>\n",
       "      <td>Frame &amp; body</td>\n",
       "      <td>16</td>\n",
       "      <td>37.84</td>\n",
       "      <td>605.44</td>\n",
       "      <td>Transfer</td>\n",
       "      <td>Wednesday</td>\n",
       "      <td>January</td>\n",
       "    </tr>\n",
       "    <tr>\n",
       "      <th>4</th>\n",
       "      <td>2021-01-06</td>\n",
       "      <td>Central</td>\n",
       "      <td>Retail</td>\n",
       "      <td>Engine</td>\n",
       "      <td>2</td>\n",
       "      <td>60.48</td>\n",
       "      <td>120.96</td>\n",
       "      <td>Credit card</td>\n",
       "      <td>Wednesday</td>\n",
       "      <td>January</td>\n",
       "    </tr>\n",
       "  </tbody>\n",
       "</table>\n",
       "</div>"
      ],
      "text/plain": [
       "        date warehouse client_type           product_line  quantity  \\\n",
       "0 2021-01-06   Central      Retail          Miscellaneous         8   \n",
       "1 2021-01-06     North      Retail        Breaking system         9   \n",
       "2 2021-01-06     North      Retail  Suspension & traction         8   \n",
       "3 2021-01-06     North   Wholesale           Frame & body        16   \n",
       "4 2021-01-06   Central      Retail                 Engine         2   \n",
       "\n",
       "   unit_price   total      payment    Weekday    Month  \n",
       "0       16.85  134.83  Credit card  Wednesday  January  \n",
       "1       19.29  173.61         Cash  Wednesday  January  \n",
       "2       32.93  263.45  Credit card  Wednesday  January  \n",
       "3       37.84  605.44     Transfer  Wednesday  January  \n",
       "4       60.48  120.96  Credit card  Wednesday  January  "
      ]
     },
     "execution_count": 291,
     "metadata": {},
     "output_type": "execute_result"
    }
   ],
   "source": [
    "sales.head()"
   ]
  },
  {
   "attachments": {},
   "cell_type": "markdown",
   "metadata": {},
   "source": [
    "### Warehouse With the Highest Revenue"
   ]
  },
  {
   "cell_type": "code",
   "execution_count": 292,
   "metadata": {},
   "outputs": [
    {
     "name": "stderr",
     "output_type": "stream",
     "text": [
      "C:\\Users\\abu aisha\\AppData\\Local\\Temp\\ipykernel_7000\\520630073.py:2: FutureWarning:\n",
      "\n",
      "The default value of numeric_only in DataFrameGroupBy.sum is deprecated. In a future version, numeric_only will default to False. Either specify numeric_only or select only columns which should be valid for the function.\n",
      "\n"
     ]
    },
    {
     "data": {
      "application/vnd.plotly.v1+json": {
       "config": {
        "plotlyServerURL": "https://plot.ly"
       },
       "data": [
        {
         "alignmentgroup": "True",
         "hovertemplate": "Warehouse=%{x}<br>Revenue($)=%{y}<extra></extra>",
         "legendgroup": "Central",
         "marker": {
          "color": "#636efa",
          "pattern": {
           "shape": ""
          }
         },
         "name": "Central",
         "offsetgroup": "Central",
         "orientation": "v",
         "showlegend": true,
         "textposition": "auto",
         "type": "bar",
         "x": [
          "Central"
         ],
         "xaxis": "x",
         "y": [
          141982.88
         ],
         "yaxis": "y"
        },
        {
         "alignmentgroup": "True",
         "hovertemplate": "Warehouse=%{x}<br>Revenue($)=%{y}<extra></extra>",
         "legendgroup": "North",
         "marker": {
          "color": "#EF553B",
          "pattern": {
           "shape": ""
          }
         },
         "name": "North",
         "offsetgroup": "North",
         "orientation": "v",
         "showlegend": true,
         "textposition": "auto",
         "type": "bar",
         "x": [
          "North"
         ],
         "xaxis": "x",
         "y": [
          100203.63
         ],
         "yaxis": "y"
        },
        {
         "alignmentgroup": "True",
         "hovertemplate": "Warehouse=%{x}<br>Revenue($)=%{y}<extra></extra>",
         "legendgroup": "West",
         "marker": {
          "color": "#00cc96",
          "pattern": {
           "shape": ""
          }
         },
         "name": "West",
         "offsetgroup": "West",
         "orientation": "v",
         "showlegend": true,
         "textposition": "auto",
         "type": "bar",
         "x": [
          "West"
         ],
         "xaxis": "x",
         "y": [
          46926.49
         ],
         "yaxis": "y"
        }
       ],
       "layout": {
        "barmode": "relative",
        "legend": {
         "title": {
          "text": "Warehouse"
         },
         "tracegroupgap": 0
        },
        "template": {
         "data": {
          "bar": [
           {
            "error_x": {
             "color": "#2a3f5f"
            },
            "error_y": {
             "color": "#2a3f5f"
            },
            "marker": {
             "line": {
              "color": "#E5ECF6",
              "width": 0.5
             },
             "pattern": {
              "fillmode": "overlay",
              "size": 10,
              "solidity": 0.2
             }
            },
            "type": "bar"
           }
          ],
          "barpolar": [
           {
            "marker": {
             "line": {
              "color": "#E5ECF6",
              "width": 0.5
             },
             "pattern": {
              "fillmode": "overlay",
              "size": 10,
              "solidity": 0.2
             }
            },
            "type": "barpolar"
           }
          ],
          "carpet": [
           {
            "aaxis": {
             "endlinecolor": "#2a3f5f",
             "gridcolor": "white",
             "linecolor": "white",
             "minorgridcolor": "white",
             "startlinecolor": "#2a3f5f"
            },
            "baxis": {
             "endlinecolor": "#2a3f5f",
             "gridcolor": "white",
             "linecolor": "white",
             "minorgridcolor": "white",
             "startlinecolor": "#2a3f5f"
            },
            "type": "carpet"
           }
          ],
          "choropleth": [
           {
            "colorbar": {
             "outlinewidth": 0,
             "ticks": ""
            },
            "type": "choropleth"
           }
          ],
          "contour": [
           {
            "colorbar": {
             "outlinewidth": 0,
             "ticks": ""
            },
            "colorscale": [
             [
              0,
              "#0d0887"
             ],
             [
              0.1111111111111111,
              "#46039f"
             ],
             [
              0.2222222222222222,
              "#7201a8"
             ],
             [
              0.3333333333333333,
              "#9c179e"
             ],
             [
              0.4444444444444444,
              "#bd3786"
             ],
             [
              0.5555555555555556,
              "#d8576b"
             ],
             [
              0.6666666666666666,
              "#ed7953"
             ],
             [
              0.7777777777777778,
              "#fb9f3a"
             ],
             [
              0.8888888888888888,
              "#fdca26"
             ],
             [
              1,
              "#f0f921"
             ]
            ],
            "type": "contour"
           }
          ],
          "contourcarpet": [
           {
            "colorbar": {
             "outlinewidth": 0,
             "ticks": ""
            },
            "type": "contourcarpet"
           }
          ],
          "heatmap": [
           {
            "colorbar": {
             "outlinewidth": 0,
             "ticks": ""
            },
            "colorscale": [
             [
              0,
              "#0d0887"
             ],
             [
              0.1111111111111111,
              "#46039f"
             ],
             [
              0.2222222222222222,
              "#7201a8"
             ],
             [
              0.3333333333333333,
              "#9c179e"
             ],
             [
              0.4444444444444444,
              "#bd3786"
             ],
             [
              0.5555555555555556,
              "#d8576b"
             ],
             [
              0.6666666666666666,
              "#ed7953"
             ],
             [
              0.7777777777777778,
              "#fb9f3a"
             ],
             [
              0.8888888888888888,
              "#fdca26"
             ],
             [
              1,
              "#f0f921"
             ]
            ],
            "type": "heatmap"
           }
          ],
          "heatmapgl": [
           {
            "colorbar": {
             "outlinewidth": 0,
             "ticks": ""
            },
            "colorscale": [
             [
              0,
              "#0d0887"
             ],
             [
              0.1111111111111111,
              "#46039f"
             ],
             [
              0.2222222222222222,
              "#7201a8"
             ],
             [
              0.3333333333333333,
              "#9c179e"
             ],
             [
              0.4444444444444444,
              "#bd3786"
             ],
             [
              0.5555555555555556,
              "#d8576b"
             ],
             [
              0.6666666666666666,
              "#ed7953"
             ],
             [
              0.7777777777777778,
              "#fb9f3a"
             ],
             [
              0.8888888888888888,
              "#fdca26"
             ],
             [
              1,
              "#f0f921"
             ]
            ],
            "type": "heatmapgl"
           }
          ],
          "histogram": [
           {
            "marker": {
             "pattern": {
              "fillmode": "overlay",
              "size": 10,
              "solidity": 0.2
             }
            },
            "type": "histogram"
           }
          ],
          "histogram2d": [
           {
            "colorbar": {
             "outlinewidth": 0,
             "ticks": ""
            },
            "colorscale": [
             [
              0,
              "#0d0887"
             ],
             [
              0.1111111111111111,
              "#46039f"
             ],
             [
              0.2222222222222222,
              "#7201a8"
             ],
             [
              0.3333333333333333,
              "#9c179e"
             ],
             [
              0.4444444444444444,
              "#bd3786"
             ],
             [
              0.5555555555555556,
              "#d8576b"
             ],
             [
              0.6666666666666666,
              "#ed7953"
             ],
             [
              0.7777777777777778,
              "#fb9f3a"
             ],
             [
              0.8888888888888888,
              "#fdca26"
             ],
             [
              1,
              "#f0f921"
             ]
            ],
            "type": "histogram2d"
           }
          ],
          "histogram2dcontour": [
           {
            "colorbar": {
             "outlinewidth": 0,
             "ticks": ""
            },
            "colorscale": [
             [
              0,
              "#0d0887"
             ],
             [
              0.1111111111111111,
              "#46039f"
             ],
             [
              0.2222222222222222,
              "#7201a8"
             ],
             [
              0.3333333333333333,
              "#9c179e"
             ],
             [
              0.4444444444444444,
              "#bd3786"
             ],
             [
              0.5555555555555556,
              "#d8576b"
             ],
             [
              0.6666666666666666,
              "#ed7953"
             ],
             [
              0.7777777777777778,
              "#fb9f3a"
             ],
             [
              0.8888888888888888,
              "#fdca26"
             ],
             [
              1,
              "#f0f921"
             ]
            ],
            "type": "histogram2dcontour"
           }
          ],
          "mesh3d": [
           {
            "colorbar": {
             "outlinewidth": 0,
             "ticks": ""
            },
            "type": "mesh3d"
           }
          ],
          "parcoords": [
           {
            "line": {
             "colorbar": {
              "outlinewidth": 0,
              "ticks": ""
             }
            },
            "type": "parcoords"
           }
          ],
          "pie": [
           {
            "automargin": true,
            "type": "pie"
           }
          ],
          "scatter": [
           {
            "fillpattern": {
             "fillmode": "overlay",
             "size": 10,
             "solidity": 0.2
            },
            "type": "scatter"
           }
          ],
          "scatter3d": [
           {
            "line": {
             "colorbar": {
              "outlinewidth": 0,
              "ticks": ""
             }
            },
            "marker": {
             "colorbar": {
              "outlinewidth": 0,
              "ticks": ""
             }
            },
            "type": "scatter3d"
           }
          ],
          "scattercarpet": [
           {
            "marker": {
             "colorbar": {
              "outlinewidth": 0,
              "ticks": ""
             }
            },
            "type": "scattercarpet"
           }
          ],
          "scattergeo": [
           {
            "marker": {
             "colorbar": {
              "outlinewidth": 0,
              "ticks": ""
             }
            },
            "type": "scattergeo"
           }
          ],
          "scattergl": [
           {
            "marker": {
             "colorbar": {
              "outlinewidth": 0,
              "ticks": ""
             }
            },
            "type": "scattergl"
           }
          ],
          "scattermapbox": [
           {
            "marker": {
             "colorbar": {
              "outlinewidth": 0,
              "ticks": ""
             }
            },
            "type": "scattermapbox"
           }
          ],
          "scatterpolar": [
           {
            "marker": {
             "colorbar": {
              "outlinewidth": 0,
              "ticks": ""
             }
            },
            "type": "scatterpolar"
           }
          ],
          "scatterpolargl": [
           {
            "marker": {
             "colorbar": {
              "outlinewidth": 0,
              "ticks": ""
             }
            },
            "type": "scatterpolargl"
           }
          ],
          "scatterternary": [
           {
            "marker": {
             "colorbar": {
              "outlinewidth": 0,
              "ticks": ""
             }
            },
            "type": "scatterternary"
           }
          ],
          "surface": [
           {
            "colorbar": {
             "outlinewidth": 0,
             "ticks": ""
            },
            "colorscale": [
             [
              0,
              "#0d0887"
             ],
             [
              0.1111111111111111,
              "#46039f"
             ],
             [
              0.2222222222222222,
              "#7201a8"
             ],
             [
              0.3333333333333333,
              "#9c179e"
             ],
             [
              0.4444444444444444,
              "#bd3786"
             ],
             [
              0.5555555555555556,
              "#d8576b"
             ],
             [
              0.6666666666666666,
              "#ed7953"
             ],
             [
              0.7777777777777778,
              "#fb9f3a"
             ],
             [
              0.8888888888888888,
              "#fdca26"
             ],
             [
              1,
              "#f0f921"
             ]
            ],
            "type": "surface"
           }
          ],
          "table": [
           {
            "cells": {
             "fill": {
              "color": "#EBF0F8"
             },
             "line": {
              "color": "white"
             }
            },
            "header": {
             "fill": {
              "color": "#C8D4E3"
             },
             "line": {
              "color": "white"
             }
            },
            "type": "table"
           }
          ]
         },
         "layout": {
          "annotationdefaults": {
           "arrowcolor": "#2a3f5f",
           "arrowhead": 0,
           "arrowwidth": 1
          },
          "autotypenumbers": "strict",
          "coloraxis": {
           "colorbar": {
            "outlinewidth": 0,
            "ticks": ""
           }
          },
          "colorscale": {
           "diverging": [
            [
             0,
             "#8e0152"
            ],
            [
             0.1,
             "#c51b7d"
            ],
            [
             0.2,
             "#de77ae"
            ],
            [
             0.3,
             "#f1b6da"
            ],
            [
             0.4,
             "#fde0ef"
            ],
            [
             0.5,
             "#f7f7f7"
            ],
            [
             0.6,
             "#e6f5d0"
            ],
            [
             0.7,
             "#b8e186"
            ],
            [
             0.8,
             "#7fbc41"
            ],
            [
             0.9,
             "#4d9221"
            ],
            [
             1,
             "#276419"
            ]
           ],
           "sequential": [
            [
             0,
             "#0d0887"
            ],
            [
             0.1111111111111111,
             "#46039f"
            ],
            [
             0.2222222222222222,
             "#7201a8"
            ],
            [
             0.3333333333333333,
             "#9c179e"
            ],
            [
             0.4444444444444444,
             "#bd3786"
            ],
            [
             0.5555555555555556,
             "#d8576b"
            ],
            [
             0.6666666666666666,
             "#ed7953"
            ],
            [
             0.7777777777777778,
             "#fb9f3a"
            ],
            [
             0.8888888888888888,
             "#fdca26"
            ],
            [
             1,
             "#f0f921"
            ]
           ],
           "sequentialminus": [
            [
             0,
             "#0d0887"
            ],
            [
             0.1111111111111111,
             "#46039f"
            ],
            [
             0.2222222222222222,
             "#7201a8"
            ],
            [
             0.3333333333333333,
             "#9c179e"
            ],
            [
             0.4444444444444444,
             "#bd3786"
            ],
            [
             0.5555555555555556,
             "#d8576b"
            ],
            [
             0.6666666666666666,
             "#ed7953"
            ],
            [
             0.7777777777777778,
             "#fb9f3a"
            ],
            [
             0.8888888888888888,
             "#fdca26"
            ],
            [
             1,
             "#f0f921"
            ]
           ]
          },
          "colorway": [
           "#636efa",
           "#EF553B",
           "#00cc96",
           "#ab63fa",
           "#FFA15A",
           "#19d3f3",
           "#FF6692",
           "#B6E880",
           "#FF97FF",
           "#FECB52"
          ],
          "font": {
           "color": "#2a3f5f"
          },
          "geo": {
           "bgcolor": "white",
           "lakecolor": "white",
           "landcolor": "#E5ECF6",
           "showlakes": true,
           "showland": true,
           "subunitcolor": "white"
          },
          "hoverlabel": {
           "align": "left"
          },
          "hovermode": "closest",
          "mapbox": {
           "style": "light"
          },
          "paper_bgcolor": "white",
          "plot_bgcolor": "#E5ECF6",
          "polar": {
           "angularaxis": {
            "gridcolor": "white",
            "linecolor": "white",
            "ticks": ""
           },
           "bgcolor": "#E5ECF6",
           "radialaxis": {
            "gridcolor": "white",
            "linecolor": "white",
            "ticks": ""
           }
          },
          "scene": {
           "xaxis": {
            "backgroundcolor": "#E5ECF6",
            "gridcolor": "white",
            "gridwidth": 2,
            "linecolor": "white",
            "showbackground": true,
            "ticks": "",
            "zerolinecolor": "white"
           },
           "yaxis": {
            "backgroundcolor": "#E5ECF6",
            "gridcolor": "white",
            "gridwidth": 2,
            "linecolor": "white",
            "showbackground": true,
            "ticks": "",
            "zerolinecolor": "white"
           },
           "zaxis": {
            "backgroundcolor": "#E5ECF6",
            "gridcolor": "white",
            "gridwidth": 2,
            "linecolor": "white",
            "showbackground": true,
            "ticks": "",
            "zerolinecolor": "white"
           }
          },
          "shapedefaults": {
           "line": {
            "color": "#2a3f5f"
           }
          },
          "ternary": {
           "aaxis": {
            "gridcolor": "white",
            "linecolor": "white",
            "ticks": ""
           },
           "baxis": {
            "gridcolor": "white",
            "linecolor": "white",
            "ticks": ""
           },
           "bgcolor": "#E5ECF6",
           "caxis": {
            "gridcolor": "white",
            "linecolor": "white",
            "ticks": ""
           }
          },
          "title": {
           "x": 0.05
          },
          "xaxis": {
           "automargin": true,
           "gridcolor": "white",
           "linecolor": "white",
           "ticks": "",
           "title": {
            "standoff": 15
           },
           "zerolinecolor": "white",
           "zerolinewidth": 2
          },
          "yaxis": {
           "automargin": true,
           "gridcolor": "white",
           "linecolor": "white",
           "ticks": "",
           "title": {
            "standoff": 15
           },
           "zerolinecolor": "white",
           "zerolinewidth": 2
          }
         }
        },
        "title": {
         "text": "Warehouse With the Highest Revenue"
        },
        "xaxis": {
         "anchor": "y",
         "categoryarray": [
          "Central",
          "North",
          "West"
         ],
         "categoryorder": "array",
         "domain": [
          0,
          1
         ],
         "title": {
          "text": "Warehouse"
         }
        },
        "yaxis": {
         "anchor": "x",
         "domain": [
          0,
          1
         ],
         "tickformat": ",.",
         "tickprefix": "$",
         "title": {
          "text": "Revenue($)"
         }
        }
       }
      }
     },
     "metadata": {},
     "output_type": "display_data"
    }
   ],
   "source": [
    "# Plot the DataFrame\n",
    "wh_most_sales = px.bar(sales.groupby('warehouse').sum().reset_index().\n",
    "                        loc[:,[\"warehouse\",\"total\"]].sort_values(by=\"total\", ascending=False),\n",
    "                        color=\"warehouse\", x='warehouse', y='total', title='Warehouse With the Highest Revenue', \n",
    "                        labels={'warehouse': 'Warehouse','total': 'Revenue($)'})\n",
    "\n",
    "wh_most_sales.update_layout(yaxis_tickprefix = '$', yaxis_tickformat = ',.')\n",
    "\n",
    "# Sort the bars from lowest to highest\n",
    "wh_most_sales.show()"
   ]
  },
  {
   "cell_type": "code",
   "execution_count": 293,
   "metadata": {},
   "outputs": [
    {
     "data": {
      "text/html": [
       "<div>\n",
       "<style scoped>\n",
       "    .dataframe tbody tr th:only-of-type {\n",
       "        vertical-align: middle;\n",
       "    }\n",
       "\n",
       "    .dataframe tbody tr th {\n",
       "        vertical-align: top;\n",
       "    }\n",
       "\n",
       "    .dataframe thead th {\n",
       "        text-align: right;\n",
       "    }\n",
       "</style>\n",
       "<table border=\"1\" class=\"dataframe\">\n",
       "  <thead>\n",
       "    <tr style=\"text-align: right;\">\n",
       "      <th></th>\n",
       "      <th>date</th>\n",
       "      <th>warehouse</th>\n",
       "      <th>client_type</th>\n",
       "      <th>product_line</th>\n",
       "      <th>quantity</th>\n",
       "      <th>unit_price</th>\n",
       "      <th>total</th>\n",
       "      <th>payment</th>\n",
       "      <th>Weekday</th>\n",
       "      <th>Month</th>\n",
       "    </tr>\n",
       "  </thead>\n",
       "  <tbody>\n",
       "    <tr>\n",
       "      <th>0</th>\n",
       "      <td>2021-01-06</td>\n",
       "      <td>Central</td>\n",
       "      <td>Retail</td>\n",
       "      <td>Miscellaneous</td>\n",
       "      <td>8</td>\n",
       "      <td>16.85</td>\n",
       "      <td>134.83</td>\n",
       "      <td>Credit card</td>\n",
       "      <td>Wednesday</td>\n",
       "      <td>January</td>\n",
       "    </tr>\n",
       "    <tr>\n",
       "      <th>1</th>\n",
       "      <td>2021-01-06</td>\n",
       "      <td>North</td>\n",
       "      <td>Retail</td>\n",
       "      <td>Breaking system</td>\n",
       "      <td>9</td>\n",
       "      <td>19.29</td>\n",
       "      <td>173.61</td>\n",
       "      <td>Cash</td>\n",
       "      <td>Wednesday</td>\n",
       "      <td>January</td>\n",
       "    </tr>\n",
       "    <tr>\n",
       "      <th>2</th>\n",
       "      <td>2021-01-06</td>\n",
       "      <td>North</td>\n",
       "      <td>Retail</td>\n",
       "      <td>Suspension &amp; traction</td>\n",
       "      <td>8</td>\n",
       "      <td>32.93</td>\n",
       "      <td>263.45</td>\n",
       "      <td>Credit card</td>\n",
       "      <td>Wednesday</td>\n",
       "      <td>January</td>\n",
       "    </tr>\n",
       "    <tr>\n",
       "      <th>3</th>\n",
       "      <td>2021-01-06</td>\n",
       "      <td>North</td>\n",
       "      <td>Wholesale</td>\n",
       "      <td>Frame &amp; body</td>\n",
       "      <td>16</td>\n",
       "      <td>37.84</td>\n",
       "      <td>605.44</td>\n",
       "      <td>Transfer</td>\n",
       "      <td>Wednesday</td>\n",
       "      <td>January</td>\n",
       "    </tr>\n",
       "    <tr>\n",
       "      <th>4</th>\n",
       "      <td>2021-01-06</td>\n",
       "      <td>Central</td>\n",
       "      <td>Retail</td>\n",
       "      <td>Engine</td>\n",
       "      <td>2</td>\n",
       "      <td>60.48</td>\n",
       "      <td>120.96</td>\n",
       "      <td>Credit card</td>\n",
       "      <td>Wednesday</td>\n",
       "      <td>January</td>\n",
       "    </tr>\n",
       "  </tbody>\n",
       "</table>\n",
       "</div>"
      ],
      "text/plain": [
       "        date warehouse client_type           product_line  quantity  \\\n",
       "0 2021-01-06   Central      Retail          Miscellaneous         8   \n",
       "1 2021-01-06     North      Retail        Breaking system         9   \n",
       "2 2021-01-06     North      Retail  Suspension & traction         8   \n",
       "3 2021-01-06     North   Wholesale           Frame & body        16   \n",
       "4 2021-01-06   Central      Retail                 Engine         2   \n",
       "\n",
       "   unit_price   total      payment    Weekday    Month  \n",
       "0       16.85  134.83  Credit card  Wednesday  January  \n",
       "1       19.29  173.61         Cash  Wednesday  January  \n",
       "2       32.93  263.45  Credit card  Wednesday  January  \n",
       "3       37.84  605.44     Transfer  Wednesday  January  \n",
       "4       60.48  120.96  Credit card  Wednesday  January  "
      ]
     },
     "execution_count": 293,
     "metadata": {},
     "output_type": "execute_result"
    }
   ],
   "source": [
    "sales.head()"
   ]
  },
  {
   "attachments": {},
   "cell_type": "markdown",
   "metadata": {},
   "source": [
    "## Classfication Model"
   ]
  },
  {
   "cell_type": "code",
   "execution_count": 294,
   "metadata": {},
   "outputs": [],
   "source": [
    "from imblearn.over_sampling import SMOTE\n",
    "from sklearn.preprocessing import LabelEncoder, PolynomialFeatures, OneHotEncoder\n",
    "from sklearn.model_selection import train_test_split, cross_val_score\n",
    "from sklearn.metrics import accuracy_score\n",
    "from catboost import CatBoostClassifier"
   ]
  },
  {
   "cell_type": "code",
   "execution_count": 295,
   "metadata": {},
   "outputs": [
    {
     "name": "stderr",
     "output_type": "stream",
     "text": [
      "C:\\Users\\abu aisha\\AppData\\Roaming\\Python\\Python310\\site-packages\\sklearn\\preprocessing\\_encoders.py:868: FutureWarning:\n",
      "\n",
      "`sparse` was renamed to `sparse_output` in version 1.2 and will be removed in 1.4. `sparse_output` is ignored unless you leave `sparse` to its default value.\n",
      "\n",
      "C:\\Users\\abu aisha\\AppData\\Roaming\\Python\\Python310\\site-packages\\sklearn\\preprocessing\\_encoders.py:868: FutureWarning:\n",
      "\n",
      "`sparse` was renamed to `sparse_output` in version 1.2 and will be removed in 1.4. `sparse_output` is ignored unless you leave `sparse` to its default value.\n",
      "\n",
      "C:\\Users\\abu aisha\\AppData\\Roaming\\Python\\Python310\\site-packages\\sklearn\\preprocessing\\_encoders.py:868: FutureWarning:\n",
      "\n",
      "`sparse` was renamed to `sparse_output` in version 1.2 and will be removed in 1.4. `sparse_output` is ignored unless you leave `sparse` to its default value.\n",
      "\n",
      "C:\\Users\\abu aisha\\AppData\\Roaming\\Python\\Python310\\site-packages\\sklearn\\preprocessing\\_encoders.py:868: FutureWarning:\n",
      "\n",
      "`sparse` was renamed to `sparse_output` in version 1.2 and will be removed in 1.4. `sparse_output` is ignored unless you leave `sparse` to its default value.\n",
      "\n",
      "C:\\Users\\abu aisha\\AppData\\Roaming\\Python\\Python310\\site-packages\\sklearn\\preprocessing\\_encoders.py:868: FutureWarning:\n",
      "\n",
      "`sparse` was renamed to `sparse_output` in version 1.2 and will be removed in 1.4. `sparse_output` is ignored unless you leave `sparse` to its default value.\n",
      "\n"
     ]
    },
    {
     "name": "stdout",
     "output_type": "stream",
     "text": [
      "Accuracy: 0.88\n",
      "0:\tlearn: 0.9819056\ttotal: 49.5ms\tremaining: 4.9s\n",
      "1:\tlearn: 0.8961151\ttotal: 90.3ms\tremaining: 4.42s\n",
      "2:\tlearn: 0.8314819\ttotal: 133ms\tremaining: 4.29s\n",
      "3:\tlearn: 0.7664150\ttotal: 176ms\tremaining: 4.23s\n",
      "4:\tlearn: 0.7131015\ttotal: 218ms\tremaining: 4.15s\n",
      "5:\tlearn: 0.6711457\ttotal: 260ms\tremaining: 4.07s\n",
      "6:\tlearn: 0.6297582\ttotal: 274ms\tremaining: 3.65s\n",
      "7:\tlearn: 0.5870408\ttotal: 316ms\tremaining: 3.63s\n",
      "8:\tlearn: 0.5528230\ttotal: 358ms\tremaining: 3.62s\n",
      "9:\tlearn: 0.5170212\ttotal: 398ms\tremaining: 3.58s\n",
      "10:\tlearn: 0.4901701\ttotal: 438ms\tremaining: 3.54s\n",
      "11:\tlearn: 0.4649309\ttotal: 479ms\tremaining: 3.51s\n",
      "12:\tlearn: 0.4425427\ttotal: 521ms\tremaining: 3.49s\n",
      "13:\tlearn: 0.4210410\ttotal: 563ms\tremaining: 3.46s\n",
      "14:\tlearn: 0.4010670\ttotal: 605ms\tremaining: 3.43s\n",
      "15:\tlearn: 0.3862955\ttotal: 646ms\tremaining: 3.39s\n",
      "16:\tlearn: 0.3692293\ttotal: 690ms\tremaining: 3.37s\n",
      "17:\tlearn: 0.3526452\ttotal: 730ms\tremaining: 3.32s\n",
      "18:\tlearn: 0.3358182\ttotal: 771ms\tremaining: 3.29s\n",
      "19:\tlearn: 0.3185112\ttotal: 811ms\tremaining: 3.24s\n",
      "20:\tlearn: 0.3054312\ttotal: 851ms\tremaining: 3.2s\n",
      "21:\tlearn: 0.2940338\ttotal: 895ms\tremaining: 3.17s\n",
      "22:\tlearn: 0.2821394\ttotal: 940ms\tremaining: 3.15s\n",
      "23:\tlearn: 0.2757928\ttotal: 980ms\tremaining: 3.1s\n",
      "24:\tlearn: 0.2681403\ttotal: 1.02s\tremaining: 3.06s\n",
      "25:\tlearn: 0.2585684\ttotal: 1.06s\tremaining: 3.02s\n",
      "26:\tlearn: 0.2486697\ttotal: 1.1s\tremaining: 2.98s\n",
      "27:\tlearn: 0.2405088\ttotal: 1.14s\tremaining: 2.94s\n",
      "28:\tlearn: 0.2363956\ttotal: 1.18s\tremaining: 2.9s\n",
      "29:\tlearn: 0.2297806\ttotal: 1.22s\tremaining: 2.86s\n",
      "30:\tlearn: 0.2251462\ttotal: 1.27s\tremaining: 2.82s\n",
      "31:\tlearn: 0.2178091\ttotal: 1.31s\tremaining: 2.78s\n",
      "32:\tlearn: 0.2122208\ttotal: 1.35s\tremaining: 2.74s\n",
      "33:\tlearn: 0.2056240\ttotal: 1.39s\tremaining: 2.7s\n",
      "34:\tlearn: 0.2013557\ttotal: 1.43s\tremaining: 2.66s\n",
      "35:\tlearn: 0.1982772\ttotal: 1.47s\tremaining: 2.62s\n",
      "36:\tlearn: 0.1945828\ttotal: 1.51s\tremaining: 2.57s\n",
      "37:\tlearn: 0.1925582\ttotal: 1.55s\tremaining: 2.54s\n",
      "38:\tlearn: 0.1890444\ttotal: 1.59s\tremaining: 2.5s\n",
      "39:\tlearn: 0.1858242\ttotal: 1.64s\tremaining: 2.45s\n",
      "40:\tlearn: 0.1834239\ttotal: 1.68s\tremaining: 2.41s\n",
      "41:\tlearn: 0.1815170\ttotal: 1.72s\tremaining: 2.37s\n",
      "42:\tlearn: 0.1791383\ttotal: 1.76s\tremaining: 2.33s\n",
      "43:\tlearn: 0.1740394\ttotal: 1.8s\tremaining: 2.29s\n",
      "44:\tlearn: 0.1702781\ttotal: 1.84s\tremaining: 2.25s\n",
      "45:\tlearn: 0.1669263\ttotal: 1.88s\tremaining: 2.21s\n",
      "46:\tlearn: 0.1634913\ttotal: 1.92s\tremaining: 2.17s\n",
      "47:\tlearn: 0.1598299\ttotal: 1.96s\tremaining: 2.12s\n",
      "48:\tlearn: 0.1569037\ttotal: 2s\tremaining: 2.08s\n",
      "49:\tlearn: 0.1541896\ttotal: 2.04s\tremaining: 2.04s\n",
      "50:\tlearn: 0.1522511\ttotal: 2.08s\tremaining: 2s\n",
      "51:\tlearn: 0.1515846\ttotal: 2.12s\tremaining: 1.96s\n",
      "52:\tlearn: 0.1493120\ttotal: 2.17s\tremaining: 1.92s\n",
      "53:\tlearn: 0.1468830\ttotal: 2.21s\tremaining: 1.88s\n",
      "54:\tlearn: 0.1457739\ttotal: 2.25s\tremaining: 1.84s\n",
      "55:\tlearn: 0.1436746\ttotal: 2.29s\tremaining: 1.8s\n",
      "56:\tlearn: 0.1410043\ttotal: 2.33s\tremaining: 1.76s\n",
      "57:\tlearn: 0.1376771\ttotal: 2.37s\tremaining: 1.72s\n",
      "58:\tlearn: 0.1360271\ttotal: 2.41s\tremaining: 1.68s\n",
      "59:\tlearn: 0.1338711\ttotal: 2.45s\tremaining: 1.64s\n",
      "60:\tlearn: 0.1326217\ttotal: 2.5s\tremaining: 1.6s\n",
      "61:\tlearn: 0.1295914\ttotal: 2.54s\tremaining: 1.55s\n",
      "62:\tlearn: 0.1270294\ttotal: 2.58s\tremaining: 1.51s\n",
      "63:\tlearn: 0.1259593\ttotal: 2.62s\tremaining: 1.47s\n",
      "64:\tlearn: 0.1242653\ttotal: 2.66s\tremaining: 1.43s\n",
      "65:\tlearn: 0.1225645\ttotal: 2.7s\tremaining: 1.39s\n",
      "66:\tlearn: 0.1213327\ttotal: 2.74s\tremaining: 1.35s\n",
      "67:\tlearn: 0.1194428\ttotal: 2.78s\tremaining: 1.31s\n",
      "68:\tlearn: 0.1184931\ttotal: 2.82s\tremaining: 1.27s\n",
      "69:\tlearn: 0.1157841\ttotal: 2.87s\tremaining: 1.23s\n",
      "70:\tlearn: 0.1146744\ttotal: 2.9s\tremaining: 1.19s\n",
      "71:\tlearn: 0.1122626\ttotal: 2.95s\tremaining: 1.15s\n",
      "72:\tlearn: 0.1106573\ttotal: 2.99s\tremaining: 1.1s\n",
      "73:\tlearn: 0.1098054\ttotal: 3.03s\tremaining: 1.06s\n",
      "74:\tlearn: 0.1083604\ttotal: 3.07s\tremaining: 1.02s\n",
      "75:\tlearn: 0.1066010\ttotal: 3.11s\tremaining: 982ms\n",
      "76:\tlearn: 0.1045926\ttotal: 3.15s\tremaining: 941ms\n",
      "77:\tlearn: 0.1033177\ttotal: 3.19s\tremaining: 900ms\n",
      "78:\tlearn: 0.1012829\ttotal: 3.23s\tremaining: 859ms\n",
      "79:\tlearn: 0.1003916\ttotal: 3.27s\tremaining: 818ms\n",
      "80:\tlearn: 0.0991714\ttotal: 3.31s\tremaining: 777ms\n",
      "81:\tlearn: 0.0968892\ttotal: 3.35s\tremaining: 736ms\n",
      "82:\tlearn: 0.0951071\ttotal: 3.39s\tremaining: 695ms\n",
      "83:\tlearn: 0.0935386\ttotal: 3.44s\tremaining: 654ms\n",
      "84:\tlearn: 0.0923533\ttotal: 3.48s\tremaining: 613ms\n",
      "85:\tlearn: 0.0909149\ttotal: 3.52s\tremaining: 572ms\n",
      "86:\tlearn: 0.0899452\ttotal: 3.56s\tremaining: 532ms\n",
      "87:\tlearn: 0.0886500\ttotal: 3.6s\tremaining: 491ms\n",
      "88:\tlearn: 0.0873755\ttotal: 3.64s\tremaining: 450ms\n",
      "89:\tlearn: 0.0858638\ttotal: 3.68s\tremaining: 409ms\n",
      "90:\tlearn: 0.0852717\ttotal: 3.72s\tremaining: 368ms\n",
      "91:\tlearn: 0.0846225\ttotal: 3.76s\tremaining: 327ms\n",
      "92:\tlearn: 0.0830527\ttotal: 3.81s\tremaining: 286ms\n",
      "93:\tlearn: 0.0822241\ttotal: 3.84s\tremaining: 245ms\n",
      "94:\tlearn: 0.0807886\ttotal: 3.88s\tremaining: 204ms\n",
      "95:\tlearn: 0.0798816\ttotal: 3.92s\tremaining: 164ms\n",
      "96:\tlearn: 0.0791142\ttotal: 3.96s\tremaining: 123ms\n",
      "97:\tlearn: 0.0781291\ttotal: 4.01s\tremaining: 81.8ms\n",
      "98:\tlearn: 0.0774954\ttotal: 4.05s\tremaining: 40.9ms\n",
      "99:\tlearn: 0.0764713\ttotal: 4.09s\tremaining: 0us\n",
      "0:\tlearn: 1.0036555\ttotal: 44.9ms\tremaining: 4.44s\n",
      "1:\tlearn: 0.9343693\ttotal: 81.3ms\tremaining: 3.98s\n",
      "2:\tlearn: 0.8621263\ttotal: 117ms\tremaining: 3.79s\n",
      "3:\tlearn: 0.8089288\ttotal: 155ms\tremaining: 3.73s\n",
      "4:\tlearn: 0.7600345\ttotal: 192ms\tremaining: 3.65s\n",
      "5:\tlearn: 0.7212288\ttotal: 228ms\tremaining: 3.58s\n",
      "6:\tlearn: 0.6831993\ttotal: 266ms\tremaining: 3.53s\n",
      "7:\tlearn: 0.6488658\ttotal: 303ms\tremaining: 3.49s\n",
      "8:\tlearn: 0.6135098\ttotal: 340ms\tremaining: 3.44s\n",
      "9:\tlearn: 0.5825313\ttotal: 377ms\tremaining: 3.4s\n",
      "10:\tlearn: 0.5547541\ttotal: 414ms\tremaining: 3.35s\n",
      "11:\tlearn: 0.5299460\ttotal: 450ms\tremaining: 3.3s\n",
      "12:\tlearn: 0.5098531\ttotal: 486ms\tremaining: 3.25s\n",
      "13:\tlearn: 0.4905872\ttotal: 523ms\tremaining: 3.21s\n",
      "14:\tlearn: 0.4720597\ttotal: 560ms\tremaining: 3.17s\n",
      "15:\tlearn: 0.4567504\ttotal: 598ms\tremaining: 3.14s\n",
      "16:\tlearn: 0.4429272\ttotal: 634ms\tremaining: 3.1s\n",
      "17:\tlearn: 0.4303969\ttotal: 671ms\tremaining: 3.06s\n",
      "18:\tlearn: 0.4151122\ttotal: 708ms\tremaining: 3.02s\n",
      "19:\tlearn: 0.4047528\ttotal: 745ms\tremaining: 2.98s\n",
      "20:\tlearn: 0.3945140\ttotal: 781ms\tremaining: 2.94s\n",
      "21:\tlearn: 0.3840712\ttotal: 818ms\tremaining: 2.9s\n",
      "22:\tlearn: 0.3742425\ttotal: 855ms\tremaining: 2.86s\n",
      "23:\tlearn: 0.3669923\ttotal: 893ms\tremaining: 2.83s\n",
      "24:\tlearn: 0.3581926\ttotal: 929ms\tremaining: 2.79s\n",
      "25:\tlearn: 0.3521176\ttotal: 969ms\tremaining: 2.76s\n",
      "26:\tlearn: 0.3467229\ttotal: 1s\tremaining: 2.71s\n",
      "27:\tlearn: 0.3423858\ttotal: 1.04s\tremaining: 2.67s\n",
      "28:\tlearn: 0.3384384\ttotal: 1.08s\tremaining: 2.63s\n",
      "29:\tlearn: 0.3326036\ttotal: 1.11s\tremaining: 2.59s\n",
      "30:\tlearn: 0.3283127\ttotal: 1.15s\tremaining: 2.56s\n",
      "31:\tlearn: 0.3227419\ttotal: 1.19s\tremaining: 2.53s\n",
      "32:\tlearn: 0.3178606\ttotal: 1.22s\tremaining: 2.49s\n",
      "33:\tlearn: 0.3140675\ttotal: 1.26s\tremaining: 2.45s\n",
      "34:\tlearn: 0.3121791\ttotal: 1.29s\tremaining: 2.41s\n",
      "35:\tlearn: 0.3072553\ttotal: 1.33s\tremaining: 2.37s\n",
      "36:\tlearn: 0.3035450\ttotal: 1.37s\tremaining: 2.33s\n",
      "37:\tlearn: 0.3011523\ttotal: 1.41s\tremaining: 2.29s\n",
      "38:\tlearn: 0.2979650\ttotal: 1.44s\tremaining: 2.26s\n",
      "39:\tlearn: 0.2955163\ttotal: 1.48s\tremaining: 2.22s\n",
      "40:\tlearn: 0.2927485\ttotal: 1.52s\tremaining: 2.18s\n",
      "41:\tlearn: 0.2901603\ttotal: 1.55s\tremaining: 2.15s\n",
      "42:\tlearn: 0.2887542\ttotal: 1.59s\tremaining: 2.11s\n",
      "43:\tlearn: 0.2861101\ttotal: 1.63s\tremaining: 2.07s\n",
      "44:\tlearn: 0.2838499\ttotal: 1.66s\tremaining: 2.03s\n",
      "45:\tlearn: 0.2822479\ttotal: 1.7s\tremaining: 1.99s\n",
      "46:\tlearn: 0.2802692\ttotal: 1.73s\tremaining: 1.96s\n",
      "47:\tlearn: 0.2772658\ttotal: 1.77s\tremaining: 1.92s\n",
      "48:\tlearn: 0.2740424\ttotal: 1.81s\tremaining: 1.88s\n",
      "49:\tlearn: 0.2704835\ttotal: 1.85s\tremaining: 1.85s\n",
      "50:\tlearn: 0.2686532\ttotal: 1.88s\tremaining: 1.81s\n",
      "51:\tlearn: 0.2661426\ttotal: 1.92s\tremaining: 1.77s\n",
      "52:\tlearn: 0.2644246\ttotal: 1.96s\tremaining: 1.74s\n",
      "53:\tlearn: 0.2618818\ttotal: 1.99s\tremaining: 1.7s\n",
      "54:\tlearn: 0.2596090\ttotal: 2.03s\tremaining: 1.66s\n",
      "55:\tlearn: 0.2585515\ttotal: 2.07s\tremaining: 1.62s\n",
      "56:\tlearn: 0.2560420\ttotal: 2.1s\tremaining: 1.59s\n",
      "57:\tlearn: 0.2529406\ttotal: 2.14s\tremaining: 1.55s\n",
      "58:\tlearn: 0.2511287\ttotal: 2.18s\tremaining: 1.51s\n",
      "59:\tlearn: 0.2487418\ttotal: 2.21s\tremaining: 1.48s\n",
      "60:\tlearn: 0.2473740\ttotal: 2.25s\tremaining: 1.44s\n",
      "61:\tlearn: 0.2463245\ttotal: 2.29s\tremaining: 1.4s\n",
      "62:\tlearn: 0.2449204\ttotal: 2.32s\tremaining: 1.36s\n",
      "63:\tlearn: 0.2437312\ttotal: 2.36s\tremaining: 1.32s\n",
      "64:\tlearn: 0.2421583\ttotal: 2.4s\tremaining: 1.29s\n",
      "65:\tlearn: 0.2403160\ttotal: 2.44s\tremaining: 1.26s\n",
      "66:\tlearn: 0.2388885\ttotal: 2.48s\tremaining: 1.22s\n",
      "67:\tlearn: 0.2368690\ttotal: 2.52s\tremaining: 1.19s\n",
      "68:\tlearn: 0.2345446\ttotal: 2.56s\tremaining: 1.15s\n",
      "69:\tlearn: 0.2338478\ttotal: 2.59s\tremaining: 1.11s\n",
      "70:\tlearn: 0.2317922\ttotal: 2.63s\tremaining: 1.07s\n",
      "71:\tlearn: 0.2302711\ttotal: 2.67s\tremaining: 1.04s\n",
      "72:\tlearn: 0.2280816\ttotal: 2.71s\tremaining: 1s\n",
      "73:\tlearn: 0.2267772\ttotal: 2.75s\tremaining: 966ms\n",
      "74:\tlearn: 0.2246419\ttotal: 2.79s\tremaining: 930ms\n",
      "75:\tlearn: 0.2229671\ttotal: 2.83s\tremaining: 893ms\n",
      "76:\tlearn: 0.2218514\ttotal: 2.86s\tremaining: 855ms\n",
      "77:\tlearn: 0.2204280\ttotal: 2.9s\tremaining: 817ms\n",
      "78:\tlearn: 0.2196897\ttotal: 2.94s\tremaining: 781ms\n",
      "79:\tlearn: 0.2188626\ttotal: 2.98s\tremaining: 745ms\n",
      "80:\tlearn: 0.2177169\ttotal: 3.02s\tremaining: 708ms\n",
      "81:\tlearn: 0.2160704\ttotal: 3.06s\tremaining: 671ms\n",
      "82:\tlearn: 0.2144637\ttotal: 3.09s\tremaining: 634ms\n",
      "83:\tlearn: 0.2132940\ttotal: 3.13s\tremaining: 596ms\n",
      "84:\tlearn: 0.2115808\ttotal: 3.17s\tremaining: 560ms\n",
      "85:\tlearn: 0.2107799\ttotal: 3.21s\tremaining: 523ms\n",
      "86:\tlearn: 0.2099874\ttotal: 3.25s\tremaining: 485ms\n",
      "87:\tlearn: 0.2090018\ttotal: 3.29s\tremaining: 448ms\n",
      "88:\tlearn: 0.2072924\ttotal: 3.32s\tremaining: 411ms\n",
      "89:\tlearn: 0.2055856\ttotal: 3.36s\tremaining: 373ms\n",
      "90:\tlearn: 0.2035741\ttotal: 3.4s\tremaining: 336ms\n",
      "91:\tlearn: 0.2022551\ttotal: 3.44s\tremaining: 299ms\n",
      "92:\tlearn: 0.2005672\ttotal: 3.47s\tremaining: 261ms\n",
      "93:\tlearn: 0.2001107\ttotal: 3.51s\tremaining: 224ms\n",
      "94:\tlearn: 0.1984915\ttotal: 3.55s\tremaining: 187ms\n",
      "95:\tlearn: 0.1975284\ttotal: 3.59s\tremaining: 150ms\n",
      "96:\tlearn: 0.1964336\ttotal: 3.63s\tremaining: 112ms\n",
      "97:\tlearn: 0.1956608\ttotal: 3.67s\tremaining: 74.9ms\n",
      "98:\tlearn: 0.1941435\ttotal: 3.71s\tremaining: 37.4ms\n",
      "99:\tlearn: 0.1927529\ttotal: 3.74s\tremaining: 0us\n",
      "0:\tlearn: 1.0055664\ttotal: 43.4ms\tremaining: 4.3s\n",
      "1:\tlearn: 0.9266967\ttotal: 79.8ms\tremaining: 3.91s\n",
      "2:\tlearn: 0.8609483\ttotal: 114ms\tremaining: 3.68s\n",
      "3:\tlearn: 0.7993203\ttotal: 147ms\tremaining: 3.52s\n",
      "4:\tlearn: 0.7543297\ttotal: 180ms\tremaining: 3.42s\n",
      "5:\tlearn: 0.7086258\ttotal: 214ms\tremaining: 3.35s\n",
      "6:\tlearn: 0.6724708\ttotal: 247ms\tremaining: 3.29s\n",
      "7:\tlearn: 0.6375636\ttotal: 284ms\tremaining: 3.26s\n",
      "8:\tlearn: 0.6002499\ttotal: 320ms\tremaining: 3.23s\n",
      "9:\tlearn: 0.5732732\ttotal: 355ms\tremaining: 3.19s\n",
      "10:\tlearn: 0.5477128\ttotal: 392ms\tremaining: 3.17s\n",
      "11:\tlearn: 0.5251216\ttotal: 428ms\tremaining: 3.13s\n",
      "12:\tlearn: 0.5051479\ttotal: 461ms\tremaining: 3.08s\n",
      "13:\tlearn: 0.4879233\ttotal: 495ms\tremaining: 3.04s\n",
      "14:\tlearn: 0.4716666\ttotal: 533ms\tremaining: 3.02s\n",
      "15:\tlearn: 0.4562061\ttotal: 567ms\tremaining: 2.97s\n",
      "16:\tlearn: 0.4423157\ttotal: 600ms\tremaining: 2.93s\n",
      "17:\tlearn: 0.4273032\ttotal: 638ms\tremaining: 2.9s\n",
      "18:\tlearn: 0.4202899\ttotal: 680ms\tremaining: 2.9s\n",
      "19:\tlearn: 0.4064900\ttotal: 715ms\tremaining: 2.86s\n",
      "20:\tlearn: 0.3946066\ttotal: 752ms\tremaining: 2.83s\n",
      "21:\tlearn: 0.3835795\ttotal: 786ms\tremaining: 2.79s\n",
      "22:\tlearn: 0.3742514\ttotal: 821ms\tremaining: 2.75s\n",
      "23:\tlearn: 0.3647388\ttotal: 856ms\tremaining: 2.71s\n",
      "24:\tlearn: 0.3593307\ttotal: 889ms\tremaining: 2.67s\n",
      "25:\tlearn: 0.3501909\ttotal: 924ms\tremaining: 2.63s\n",
      "26:\tlearn: 0.3426600\ttotal: 959ms\tremaining: 2.59s\n",
      "27:\tlearn: 0.3363224\ttotal: 996ms\tremaining: 2.56s\n",
      "28:\tlearn: 0.3302789\ttotal: 1.03s\tremaining: 2.53s\n",
      "29:\tlearn: 0.3246692\ttotal: 1.07s\tremaining: 2.49s\n",
      "30:\tlearn: 0.3173545\ttotal: 1.1s\tremaining: 2.45s\n",
      "31:\tlearn: 0.3152237\ttotal: 1.14s\tremaining: 2.41s\n",
      "32:\tlearn: 0.3108707\ttotal: 1.17s\tremaining: 2.38s\n",
      "33:\tlearn: 0.3064693\ttotal: 1.21s\tremaining: 2.34s\n",
      "34:\tlearn: 0.3020562\ttotal: 1.24s\tremaining: 2.3s\n",
      "35:\tlearn: 0.2997288\ttotal: 1.27s\tremaining: 2.26s\n",
      "36:\tlearn: 0.2952862\ttotal: 1.31s\tremaining: 2.23s\n",
      "37:\tlearn: 0.2913187\ttotal: 1.34s\tremaining: 2.19s\n",
      "38:\tlearn: 0.2883415\ttotal: 1.38s\tremaining: 2.16s\n",
      "39:\tlearn: 0.2841284\ttotal: 1.42s\tremaining: 2.12s\n",
      "40:\tlearn: 0.2823541\ttotal: 1.46s\tremaining: 2.1s\n",
      "41:\tlearn: 0.2804588\ttotal: 1.49s\tremaining: 2.06s\n",
      "42:\tlearn: 0.2789374\ttotal: 1.53s\tremaining: 2.02s\n",
      "43:\tlearn: 0.2770715\ttotal: 1.56s\tremaining: 1.99s\n",
      "44:\tlearn: 0.2749820\ttotal: 1.59s\tremaining: 1.95s\n",
      "45:\tlearn: 0.2728736\ttotal: 1.63s\tremaining: 1.91s\n",
      "46:\tlearn: 0.2715307\ttotal: 1.66s\tremaining: 1.87s\n",
      "47:\tlearn: 0.2698400\ttotal: 1.69s\tremaining: 1.84s\n",
      "48:\tlearn: 0.2671583\ttotal: 1.73s\tremaining: 1.8s\n",
      "49:\tlearn: 0.2652667\ttotal: 1.76s\tremaining: 1.76s\n",
      "50:\tlearn: 0.2634931\ttotal: 1.8s\tremaining: 1.73s\n",
      "51:\tlearn: 0.2604118\ttotal: 1.84s\tremaining: 1.7s\n",
      "52:\tlearn: 0.2592048\ttotal: 1.87s\tremaining: 1.66s\n",
      "53:\tlearn: 0.2565222\ttotal: 1.91s\tremaining: 1.63s\n",
      "54:\tlearn: 0.2541836\ttotal: 1.94s\tremaining: 1.59s\n",
      "55:\tlearn: 0.2527296\ttotal: 1.98s\tremaining: 1.55s\n",
      "56:\tlearn: 0.2510239\ttotal: 2.01s\tremaining: 1.51s\n",
      "57:\tlearn: 0.2492320\ttotal: 2.05s\tremaining: 1.48s\n",
      "58:\tlearn: 0.2477375\ttotal: 2.09s\tremaining: 1.45s\n",
      "59:\tlearn: 0.2456473\ttotal: 2.12s\tremaining: 1.42s\n",
      "60:\tlearn: 0.2432078\ttotal: 2.16s\tremaining: 1.38s\n",
      "61:\tlearn: 0.2422381\ttotal: 2.19s\tremaining: 1.34s\n",
      "62:\tlearn: 0.2411648\ttotal: 2.23s\tremaining: 1.31s\n",
      "63:\tlearn: 0.2401310\ttotal: 2.26s\tremaining: 1.27s\n",
      "64:\tlearn: 0.2383362\ttotal: 2.3s\tremaining: 1.24s\n",
      "65:\tlearn: 0.2367549\ttotal: 2.34s\tremaining: 1.2s\n",
      "66:\tlearn: 0.2359636\ttotal: 2.37s\tremaining: 1.17s\n",
      "67:\tlearn: 0.2334842\ttotal: 2.41s\tremaining: 1.13s\n",
      "68:\tlearn: 0.2319579\ttotal: 2.44s\tremaining: 1.1s\n",
      "69:\tlearn: 0.2309995\ttotal: 2.48s\tremaining: 1.06s\n",
      "70:\tlearn: 0.2301031\ttotal: 2.51s\tremaining: 1.02s\n",
      "71:\tlearn: 0.2287107\ttotal: 2.55s\tremaining: 991ms\n",
      "72:\tlearn: 0.2275373\ttotal: 2.58s\tremaining: 956ms\n",
      "73:\tlearn: 0.2263146\ttotal: 2.62s\tremaining: 922ms\n",
      "74:\tlearn: 0.2246038\ttotal: 2.66s\tremaining: 887ms\n",
      "75:\tlearn: 0.2235498\ttotal: 2.7s\tremaining: 852ms\n",
      "76:\tlearn: 0.2216966\ttotal: 2.73s\tremaining: 816ms\n",
      "77:\tlearn: 0.2207343\ttotal: 2.77s\tremaining: 780ms\n",
      "78:\tlearn: 0.2203267\ttotal: 2.8s\tremaining: 744ms\n",
      "79:\tlearn: 0.2190317\ttotal: 2.83s\tremaining: 708ms\n",
      "80:\tlearn: 0.2172926\ttotal: 2.87s\tremaining: 672ms\n",
      "81:\tlearn: 0.2160577\ttotal: 2.9s\tremaining: 637ms\n",
      "82:\tlearn: 0.2148285\ttotal: 2.94s\tremaining: 602ms\n",
      "83:\tlearn: 0.2140961\ttotal: 2.98s\tremaining: 567ms\n",
      "84:\tlearn: 0.2125318\ttotal: 3.02s\tremaining: 532ms\n",
      "85:\tlearn: 0.2111123\ttotal: 3.05s\tremaining: 496ms\n",
      "86:\tlearn: 0.2094117\ttotal: 3.08s\tremaining: 461ms\n",
      "87:\tlearn: 0.2080127\ttotal: 3.12s\tremaining: 425ms\n",
      "88:\tlearn: 0.2059027\ttotal: 3.15s\tremaining: 390ms\n",
      "89:\tlearn: 0.2036854\ttotal: 3.19s\tremaining: 354ms\n",
      "90:\tlearn: 0.2029057\ttotal: 3.22s\tremaining: 319ms\n",
      "91:\tlearn: 0.2014693\ttotal: 3.26s\tremaining: 284ms\n",
      "92:\tlearn: 0.1999383\ttotal: 3.3s\tremaining: 248ms\n",
      "93:\tlearn: 0.1980180\ttotal: 3.33s\tremaining: 213ms\n",
      "94:\tlearn: 0.1966320\ttotal: 3.37s\tremaining: 177ms\n",
      "95:\tlearn: 0.1950928\ttotal: 3.4s\tremaining: 142ms\n",
      "96:\tlearn: 0.1943799\ttotal: 3.43s\tremaining: 106ms\n",
      "97:\tlearn: 0.1932630\ttotal: 3.47s\tremaining: 70.8ms\n",
      "98:\tlearn: 0.1920331\ttotal: 3.5s\tremaining: 35.4ms\n",
      "99:\tlearn: 0.1905971\ttotal: 3.54s\tremaining: 0us\n",
      "0:\tlearn: 1.0038104\ttotal: 45.7ms\tremaining: 4.52s\n",
      "1:\tlearn: 0.9258335\ttotal: 80.3ms\tremaining: 3.93s\n",
      "2:\tlearn: 0.8532015\ttotal: 117ms\tremaining: 3.79s\n",
      "3:\tlearn: 0.7981300\ttotal: 154ms\tremaining: 3.69s\n",
      "4:\tlearn: 0.7481868\ttotal: 188ms\tremaining: 3.57s\n",
      "5:\tlearn: 0.7077555\ttotal: 222ms\tremaining: 3.48s\n",
      "6:\tlearn: 0.6713938\ttotal: 256ms\tremaining: 3.4s\n",
      "7:\tlearn: 0.6381110\ttotal: 291ms\tremaining: 3.34s\n",
      "8:\tlearn: 0.6039418\ttotal: 324ms\tremaining: 3.28s\n",
      "9:\tlearn: 0.5760299\ttotal: 358ms\tremaining: 3.22s\n",
      "10:\tlearn: 0.5538456\ttotal: 392ms\tremaining: 3.17s\n",
      "11:\tlearn: 0.5277084\ttotal: 427ms\tremaining: 3.13s\n",
      "12:\tlearn: 0.5096584\ttotal: 462ms\tremaining: 3.09s\n",
      "13:\tlearn: 0.4936098\ttotal: 495ms\tremaining: 3.04s\n",
      "14:\tlearn: 0.4748693\ttotal: 529ms\tremaining: 3s\n",
      "15:\tlearn: 0.4594045\ttotal: 564ms\tremaining: 2.96s\n",
      "16:\tlearn: 0.4447138\ttotal: 598ms\tremaining: 2.92s\n",
      "17:\tlearn: 0.4299102\ttotal: 631ms\tremaining: 2.87s\n",
      "18:\tlearn: 0.4192361\ttotal: 665ms\tremaining: 2.83s\n",
      "19:\tlearn: 0.4072203\ttotal: 705ms\tremaining: 2.82s\n",
      "20:\tlearn: 0.3975824\ttotal: 741ms\tremaining: 2.79s\n",
      "21:\tlearn: 0.3881816\ttotal: 776ms\tremaining: 2.75s\n",
      "22:\tlearn: 0.3788214\ttotal: 861ms\tremaining: 2.88s\n",
      "23:\tlearn: 0.3694023\ttotal: 901ms\tremaining: 2.85s\n",
      "24:\tlearn: 0.3612073\ttotal: 937ms\tremaining: 2.81s\n",
      "25:\tlearn: 0.3517999\ttotal: 972ms\tremaining: 2.77s\n",
      "26:\tlearn: 0.3476690\ttotal: 1s\tremaining: 2.72s\n",
      "27:\tlearn: 0.3410737\ttotal: 1.04s\tremaining: 2.67s\n",
      "28:\tlearn: 0.3369395\ttotal: 1.07s\tremaining: 2.63s\n",
      "29:\tlearn: 0.3321173\ttotal: 1.11s\tremaining: 2.58s\n",
      "30:\tlearn: 0.3274222\ttotal: 1.14s\tremaining: 2.54s\n",
      "31:\tlearn: 0.3239830\ttotal: 1.17s\tremaining: 2.5s\n",
      "32:\tlearn: 0.3187680\ttotal: 1.21s\tremaining: 2.45s\n",
      "33:\tlearn: 0.3142816\ttotal: 1.24s\tremaining: 2.41s\n",
      "34:\tlearn: 0.3126673\ttotal: 1.27s\tremaining: 2.37s\n",
      "35:\tlearn: 0.3100379\ttotal: 1.31s\tremaining: 2.33s\n",
      "36:\tlearn: 0.3050328\ttotal: 1.34s\tremaining: 2.29s\n",
      "37:\tlearn: 0.2994476\ttotal: 1.38s\tremaining: 2.25s\n",
      "38:\tlearn: 0.2952478\ttotal: 1.42s\tremaining: 2.21s\n",
      "39:\tlearn: 0.2923492\ttotal: 1.45s\tremaining: 2.17s\n",
      "40:\tlearn: 0.2898933\ttotal: 1.48s\tremaining: 2.13s\n",
      "41:\tlearn: 0.2875428\ttotal: 1.52s\tremaining: 2.1s\n",
      "42:\tlearn: 0.2848064\ttotal: 1.55s\tremaining: 2.06s\n",
      "43:\tlearn: 0.2832380\ttotal: 1.58s\tremaining: 2.02s\n",
      "44:\tlearn: 0.2799742\ttotal: 1.62s\tremaining: 1.98s\n",
      "45:\tlearn: 0.2788498\ttotal: 1.65s\tremaining: 1.94s\n",
      "46:\tlearn: 0.2758520\ttotal: 1.69s\tremaining: 1.9s\n",
      "47:\tlearn: 0.2736409\ttotal: 1.72s\tremaining: 1.86s\n",
      "48:\tlearn: 0.2702988\ttotal: 1.75s\tremaining: 1.83s\n",
      "49:\tlearn: 0.2686993\ttotal: 1.79s\tremaining: 1.79s\n",
      "50:\tlearn: 0.2661420\ttotal: 1.83s\tremaining: 1.75s\n",
      "51:\tlearn: 0.2648524\ttotal: 1.86s\tremaining: 1.72s\n",
      "52:\tlearn: 0.2637730\ttotal: 1.89s\tremaining: 1.68s\n",
      "53:\tlearn: 0.2607034\ttotal: 1.93s\tremaining: 1.64s\n",
      "54:\tlearn: 0.2580605\ttotal: 1.96s\tremaining: 1.6s\n",
      "55:\tlearn: 0.2562808\ttotal: 2s\tremaining: 1.57s\n",
      "56:\tlearn: 0.2548299\ttotal: 2.03s\tremaining: 1.53s\n",
      "57:\tlearn: 0.2521550\ttotal: 2.06s\tremaining: 1.49s\n",
      "58:\tlearn: 0.2503171\ttotal: 2.1s\tremaining: 1.46s\n",
      "59:\tlearn: 0.2491514\ttotal: 2.13s\tremaining: 1.42s\n",
      "60:\tlearn: 0.2476093\ttotal: 2.17s\tremaining: 1.38s\n",
      "61:\tlearn: 0.2446565\ttotal: 2.2s\tremaining: 1.35s\n",
      "62:\tlearn: 0.2433710\ttotal: 2.24s\tremaining: 1.31s\n",
      "63:\tlearn: 0.2406080\ttotal: 2.27s\tremaining: 1.28s\n",
      "64:\tlearn: 0.2394396\ttotal: 2.31s\tremaining: 1.24s\n",
      "65:\tlearn: 0.2368151\ttotal: 2.34s\tremaining: 1.21s\n",
      "66:\tlearn: 0.2349124\ttotal: 2.37s\tremaining: 1.17s\n",
      "67:\tlearn: 0.2328818\ttotal: 2.41s\tremaining: 1.13s\n",
      "68:\tlearn: 0.2313034\ttotal: 2.44s\tremaining: 1.1s\n",
      "69:\tlearn: 0.2296128\ttotal: 2.48s\tremaining: 1.06s\n",
      "70:\tlearn: 0.2282446\ttotal: 2.51s\tremaining: 1.02s\n",
      "71:\tlearn: 0.2259295\ttotal: 2.54s\tremaining: 989ms\n",
      "72:\tlearn: 0.2246297\ttotal: 2.58s\tremaining: 953ms\n",
      "73:\tlearn: 0.2229131\ttotal: 2.61s\tremaining: 919ms\n",
      "74:\tlearn: 0.2202321\ttotal: 2.65s\tremaining: 883ms\n",
      "75:\tlearn: 0.2189141\ttotal: 2.68s\tremaining: 847ms\n",
      "76:\tlearn: 0.2174308\ttotal: 2.71s\tremaining: 811ms\n",
      "77:\tlearn: 0.2159509\ttotal: 2.75s\tremaining: 776ms\n",
      "78:\tlearn: 0.2145085\ttotal: 2.78s\tremaining: 740ms\n",
      "79:\tlearn: 0.2125309\ttotal: 2.82s\tremaining: 704ms\n",
      "80:\tlearn: 0.2101842\ttotal: 2.85s\tremaining: 669ms\n",
      "81:\tlearn: 0.2086649\ttotal: 2.88s\tremaining: 633ms\n",
      "82:\tlearn: 0.2078526\ttotal: 2.92s\tremaining: 599ms\n",
      "83:\tlearn: 0.2056974\ttotal: 2.96s\tremaining: 563ms\n",
      "84:\tlearn: 0.2046922\ttotal: 2.99s\tremaining: 528ms\n",
      "85:\tlearn: 0.2035651\ttotal: 3.02s\tremaining: 492ms\n",
      "86:\tlearn: 0.2021286\ttotal: 3.06s\tremaining: 457ms\n",
      "87:\tlearn: 0.2005480\ttotal: 3.09s\tremaining: 422ms\n",
      "88:\tlearn: 0.1985436\ttotal: 3.13s\tremaining: 386ms\n",
      "89:\tlearn: 0.1968102\ttotal: 3.16s\tremaining: 351ms\n",
      "90:\tlearn: 0.1959146\ttotal: 3.19s\tremaining: 316ms\n",
      "91:\tlearn: 0.1945826\ttotal: 3.23s\tremaining: 281ms\n",
      "92:\tlearn: 0.1934809\ttotal: 3.26s\tremaining: 246ms\n",
      "93:\tlearn: 0.1930174\ttotal: 3.3s\tremaining: 210ms\n",
      "94:\tlearn: 0.1915946\ttotal: 3.33s\tremaining: 175ms\n",
      "95:\tlearn: 0.1908490\ttotal: 3.36s\tremaining: 140ms\n",
      "96:\tlearn: 0.1900337\ttotal: 3.4s\tremaining: 105ms\n",
      "97:\tlearn: 0.1893785\ttotal: 3.43s\tremaining: 70ms\n",
      "98:\tlearn: 0.1885216\ttotal: 3.46s\tremaining: 35ms\n",
      "99:\tlearn: 0.1872919\ttotal: 3.5s\tremaining: 0us\n",
      "0:\tlearn: 1.0115497\ttotal: 42.9ms\tremaining: 4.25s\n",
      "1:\tlearn: 0.9260261\ttotal: 77.2ms\tremaining: 3.78s\n",
      "2:\tlearn: 0.8645865\ttotal: 111ms\tremaining: 3.57s\n",
      "3:\tlearn: 0.8047834\ttotal: 143ms\tremaining: 3.44s\n",
      "4:\tlearn: 0.7632126\ttotal: 180ms\tremaining: 3.42s\n",
      "5:\tlearn: 0.7177857\ttotal: 214ms\tremaining: 3.35s\n",
      "6:\tlearn: 0.6812496\ttotal: 248ms\tremaining: 3.3s\n",
      "7:\tlearn: 0.6486843\ttotal: 282ms\tremaining: 3.25s\n",
      "8:\tlearn: 0.6125136\ttotal: 317ms\tremaining: 3.2s\n",
      "9:\tlearn: 0.5873693\ttotal: 363ms\tremaining: 3.26s\n",
      "10:\tlearn: 0.5618327\ttotal: 403ms\tremaining: 3.26s\n",
      "11:\tlearn: 0.5326262\ttotal: 439ms\tremaining: 3.22s\n",
      "12:\tlearn: 0.5122839\ttotal: 473ms\tremaining: 3.16s\n",
      "13:\tlearn: 0.4953458\ttotal: 506ms\tremaining: 3.11s\n",
      "14:\tlearn: 0.4770485\ttotal: 540ms\tremaining: 3.06s\n",
      "15:\tlearn: 0.4611278\ttotal: 574ms\tremaining: 3.02s\n",
      "16:\tlearn: 0.4452451\ttotal: 607ms\tremaining: 2.96s\n",
      "17:\tlearn: 0.4333674\ttotal: 643ms\tremaining: 2.93s\n",
      "18:\tlearn: 0.4227238\ttotal: 678ms\tremaining: 2.89s\n",
      "19:\tlearn: 0.4142159\ttotal: 712ms\tremaining: 2.85s\n",
      "20:\tlearn: 0.4009628\ttotal: 746ms\tremaining: 2.81s\n",
      "21:\tlearn: 0.3884537\ttotal: 780ms\tremaining: 2.77s\n",
      "22:\tlearn: 0.3798447\ttotal: 813ms\tremaining: 2.72s\n",
      "23:\tlearn: 0.3721574\ttotal: 849ms\tremaining: 2.69s\n",
      "24:\tlearn: 0.3642845\ttotal: 883ms\tremaining: 2.65s\n",
      "25:\tlearn: 0.3581312\ttotal: 918ms\tremaining: 2.61s\n",
      "26:\tlearn: 0.3508675\ttotal: 954ms\tremaining: 2.58s\n",
      "27:\tlearn: 0.3450169\ttotal: 987ms\tremaining: 2.54s\n",
      "28:\tlearn: 0.3393555\ttotal: 1.02s\tremaining: 2.5s\n",
      "29:\tlearn: 0.3336325\ttotal: 1.05s\tremaining: 2.46s\n",
      "30:\tlearn: 0.3278138\ttotal: 1.09s\tremaining: 2.42s\n",
      "31:\tlearn: 0.3215125\ttotal: 1.12s\tremaining: 2.39s\n",
      "32:\tlearn: 0.3178761\ttotal: 1.16s\tremaining: 2.35s\n",
      "33:\tlearn: 0.3124019\ttotal: 1.19s\tremaining: 2.32s\n",
      "34:\tlearn: 0.3079331\ttotal: 1.23s\tremaining: 2.28s\n",
      "35:\tlearn: 0.3057442\ttotal: 1.26s\tremaining: 2.24s\n",
      "36:\tlearn: 0.3021468\ttotal: 1.29s\tremaining: 2.21s\n",
      "37:\tlearn: 0.2989848\ttotal: 1.33s\tremaining: 2.17s\n",
      "38:\tlearn: 0.2965320\ttotal: 1.36s\tremaining: 2.13s\n",
      "39:\tlearn: 0.2927177\ttotal: 1.4s\tremaining: 2.1s\n",
      "40:\tlearn: 0.2918807\ttotal: 1.43s\tremaining: 2.06s\n",
      "41:\tlearn: 0.2885508\ttotal: 1.47s\tremaining: 2.03s\n",
      "42:\tlearn: 0.2867685\ttotal: 1.5s\tremaining: 1.99s\n",
      "43:\tlearn: 0.2841909\ttotal: 1.53s\tremaining: 1.95s\n",
      "44:\tlearn: 0.2807783\ttotal: 1.57s\tremaining: 1.92s\n",
      "45:\tlearn: 0.2788963\ttotal: 1.6s\tremaining: 1.88s\n",
      "46:\tlearn: 0.2743851\ttotal: 1.64s\tremaining: 1.85s\n",
      "47:\tlearn: 0.2734329\ttotal: 1.67s\tremaining: 1.81s\n",
      "48:\tlearn: 0.2705567\ttotal: 1.71s\tremaining: 1.78s\n",
      "49:\tlearn: 0.2675351\ttotal: 1.74s\tremaining: 1.74s\n",
      "50:\tlearn: 0.2650924\ttotal: 1.77s\tremaining: 1.7s\n",
      "51:\tlearn: 0.2624524\ttotal: 1.81s\tremaining: 1.67s\n",
      "52:\tlearn: 0.2592914\ttotal: 1.84s\tremaining: 1.63s\n",
      "53:\tlearn: 0.2566674\ttotal: 1.88s\tremaining: 1.6s\n",
      "54:\tlearn: 0.2551844\ttotal: 1.91s\tremaining: 1.56s\n",
      "55:\tlearn: 0.2524669\ttotal: 1.95s\tremaining: 1.53s\n",
      "56:\tlearn: 0.2514212\ttotal: 1.98s\tremaining: 1.49s\n",
      "57:\tlearn: 0.2487827\ttotal: 2.01s\tremaining: 1.46s\n",
      "58:\tlearn: 0.2475587\ttotal: 2.05s\tremaining: 1.42s\n",
      "59:\tlearn: 0.2457268\ttotal: 2.08s\tremaining: 1.39s\n",
      "60:\tlearn: 0.2441383\ttotal: 2.12s\tremaining: 1.35s\n",
      "61:\tlearn: 0.2415742\ttotal: 2.15s\tremaining: 1.32s\n",
      "62:\tlearn: 0.2399389\ttotal: 2.18s\tremaining: 1.28s\n",
      "63:\tlearn: 0.2391109\ttotal: 2.22s\tremaining: 1.25s\n",
      "64:\tlearn: 0.2373462\ttotal: 2.25s\tremaining: 1.21s\n",
      "65:\tlearn: 0.2359414\ttotal: 2.29s\tremaining: 1.18s\n",
      "66:\tlearn: 0.2352629\ttotal: 2.32s\tremaining: 1.14s\n",
      "67:\tlearn: 0.2337618\ttotal: 2.35s\tremaining: 1.11s\n",
      "68:\tlearn: 0.2312680\ttotal: 2.39s\tremaining: 1.07s\n",
      "69:\tlearn: 0.2298488\ttotal: 2.42s\tremaining: 1.04s\n",
      "70:\tlearn: 0.2291116\ttotal: 2.46s\tremaining: 1s\n",
      "71:\tlearn: 0.2284774\ttotal: 2.49s\tremaining: 970ms\n",
      "72:\tlearn: 0.2264814\ttotal: 2.53s\tremaining: 935ms\n",
      "73:\tlearn: 0.2244680\ttotal: 2.56s\tremaining: 900ms\n",
      "74:\tlearn: 0.2230773\ttotal: 2.6s\tremaining: 865ms\n",
      "75:\tlearn: 0.2213704\ttotal: 2.63s\tremaining: 831ms\n",
      "76:\tlearn: 0.2195685\ttotal: 2.67s\tremaining: 797ms\n",
      "77:\tlearn: 0.2177933\ttotal: 2.7s\tremaining: 761ms\n",
      "78:\tlearn: 0.2167697\ttotal: 2.73s\tremaining: 727ms\n",
      "79:\tlearn: 0.2152027\ttotal: 2.77s\tremaining: 692ms\n",
      "80:\tlearn: 0.2127166\ttotal: 2.8s\tremaining: 658ms\n",
      "81:\tlearn: 0.2100776\ttotal: 2.84s\tremaining: 623ms\n",
      "82:\tlearn: 0.2087317\ttotal: 2.87s\tremaining: 589ms\n",
      "83:\tlearn: 0.2073235\ttotal: 2.91s\tremaining: 554ms\n",
      "84:\tlearn: 0.2063404\ttotal: 2.94s\tremaining: 519ms\n",
      "85:\tlearn: 0.2043464\ttotal: 2.98s\tremaining: 485ms\n",
      "86:\tlearn: 0.2036054\ttotal: 3.01s\tremaining: 450ms\n",
      "87:\tlearn: 0.2014617\ttotal: 3.04s\tremaining: 415ms\n",
      "88:\tlearn: 0.1998547\ttotal: 3.08s\tremaining: 380ms\n",
      "89:\tlearn: 0.1984911\ttotal: 3.11s\tremaining: 346ms\n",
      "90:\tlearn: 0.1970526\ttotal: 3.15s\tremaining: 311ms\n",
      "91:\tlearn: 0.1956743\ttotal: 3.18s\tremaining: 277ms\n",
      "92:\tlearn: 0.1948870\ttotal: 3.21s\tremaining: 242ms\n",
      "93:\tlearn: 0.1935895\ttotal: 3.25s\tremaining: 207ms\n",
      "94:\tlearn: 0.1924802\ttotal: 3.28s\tremaining: 173ms\n",
      "95:\tlearn: 0.1916352\ttotal: 3.32s\tremaining: 138ms\n",
      "96:\tlearn: 0.1904492\ttotal: 3.35s\tremaining: 104ms\n",
      "97:\tlearn: 0.1895408\ttotal: 3.38s\tremaining: 69.1ms\n",
      "98:\tlearn: 0.1886489\ttotal: 3.43s\tremaining: 34.6ms\n",
      "99:\tlearn: 0.1869881\ttotal: 3.47s\tremaining: 0us\n",
      "Cross-validation scores: [0.70793651 0.99047619 0.97460317 0.96825397 0.98730159]\n"
     ]
    }
   ],
   "source": [
    "\n",
    "\n",
    "# Split the data into predictors (X) and target variable (y)\n",
    "X = sales[['warehouse', 'client_type', 'product_line', 'Weekday', 'Month', 'quantity', 'unit_price']]\n",
    "y = sales['payment']\n",
    "\n",
    "# Perform one-hot encoding on categorical variables\n",
    "cat_features = ['warehouse', 'client_type', 'product_line', 'Weekday', 'Month']\n",
    "for feature in cat_features:\n",
    "    encoder = OneHotEncoder(sparse=False)\n",
    "    encoded_features = encoder.fit_transform(X[[feature]])\n",
    "    # Create new column names for the encoded features\n",
    "    feature_names = [feature + \"_\" + str(i) for i in range(encoded_features.shape[1])]\n",
    "    # Create a DataFrame from the encoded features\n",
    "    encoded_df = pd.DataFrame(encoded_features, columns=feature_names)\n",
    "    # Concatenate the encoded features to the original data\n",
    "    X = pd.concat([X, encoded_df], axis=1)\n",
    "    # Drop the original categorical feature\n",
    "    X.drop(feature, axis=1, inplace=True)\n",
    "\n",
    "# Split the data into training and test sets\n",
    "X_train, X_test, y_train, y_test = train_test_split(X, y, test_size=0.2, random_state=42)\n",
    "\n",
    "# Perform oversampling using SMOTE\n",
    "smote = SMOTE(random_state=42)\n",
    "X_train, y_train = smote.fit_resample(X_train, y_train)\n",
    "\n",
    "# Initialize the PolynomialFeatures transformer\n",
    "poly_features = PolynomialFeatures(degree=2, interaction_only=True, include_bias=False)\n",
    "\n",
    "# Fit and transform the training data\n",
    "X_train_poly = poly_features.fit_transform(X_train)\n",
    "\n",
    "# Transform the test data\n",
    "X_test_poly = poly_features.transform(X_test)\n",
    "\n",
    "# Initialize the CatBoost classifier\n",
    "model = CatBoostClassifier(iterations=100, learning_rate=0.1, random_seed=42)\n",
    "\n",
    "# Fit the model to the training data\n",
    "model.fit(X_train_poly, y_train, verbose=False)\n",
    "\n",
    "# Make predictions on the test data\n",
    "y_pred = model.predict(X_test_poly)\n",
    "\n",
    "# Evaluate the model\n",
    "accuracy = accuracy_score(y_test, y_pred)\n",
    "print(\"Accuracy:\", accuracy)\n",
    "\n",
    "# Cross-validation\n",
    "cv_scores = cross_val_score(model, X_train_poly, y_train, cv=5)\n",
    "print(\"Cross-validation scores:\", cv_scores)\n"
   ]
  },
  {
   "cell_type": "code",
   "execution_count": 296,
   "metadata": {},
   "outputs": [
    {
     "data": {
      "text/plain": [
       "array([['Transfer'],\n",
       "       ['Transfer'],\n",
       "       ['Credit card'],\n",
       "       ['Transfer'],\n",
       "       ['Transfer'],\n",
       "       ['Transfer'],\n",
       "       ['Credit card'],\n",
       "       ['Credit card'],\n",
       "       ['Credit card'],\n",
       "       ['Transfer'],\n",
       "       ['Credit card'],\n",
       "       ['Transfer'],\n",
       "       ['Transfer'],\n",
       "       ['Credit card'],\n",
       "       ['Credit card'],\n",
       "       ['Credit card'],\n",
       "       ['Transfer'],\n",
       "       ['Credit card'],\n",
       "       ['Transfer'],\n",
       "       ['Credit card'],\n",
       "       ['Credit card'],\n",
       "       ['Transfer'],\n",
       "       ['Credit card'],\n",
       "       ['Credit card'],\n",
       "       ['Credit card'],\n",
       "       ['Credit card'],\n",
       "       ['Transfer'],\n",
       "       ['Credit card'],\n",
       "       ['Cash'],\n",
       "       ['Credit card'],\n",
       "       ['Credit card'],\n",
       "       ['Credit card'],\n",
       "       ['Credit card'],\n",
       "       ['Transfer'],\n",
       "       ['Transfer'],\n",
       "       ['Credit card'],\n",
       "       ['Credit card'],\n",
       "       ['Credit card'],\n",
       "       ['Transfer'],\n",
       "       ['Credit card'],\n",
       "       ['Credit card'],\n",
       "       ['Credit card'],\n",
       "       ['Credit card'],\n",
       "       ['Credit card'],\n",
       "       ['Credit card'],\n",
       "       ['Credit card'],\n",
       "       ['Cash'],\n",
       "       ['Credit card'],\n",
       "       ['Cash'],\n",
       "       ['Cash'],\n",
       "       ['Credit card'],\n",
       "       ['Credit card'],\n",
       "       ['Credit card'],\n",
       "       ['Credit card'],\n",
       "       ['Credit card'],\n",
       "       ['Credit card'],\n",
       "       ['Credit card'],\n",
       "       ['Credit card'],\n",
       "       ['Credit card'],\n",
       "       ['Credit card'],\n",
       "       ['Credit card'],\n",
       "       ['Credit card'],\n",
       "       ['Credit card'],\n",
       "       ['Credit card'],\n",
       "       ['Credit card'],\n",
       "       ['Credit card'],\n",
       "       ['Credit card'],\n",
       "       ['Transfer'],\n",
       "       ['Credit card'],\n",
       "       ['Transfer'],\n",
       "       ['Credit card'],\n",
       "       ['Transfer'],\n",
       "       ['Credit card'],\n",
       "       ['Credit card'],\n",
       "       ['Credit card'],\n",
       "       ['Transfer'],\n",
       "       ['Credit card'],\n",
       "       ['Credit card'],\n",
       "       ['Credit card'],\n",
       "       ['Credit card'],\n",
       "       ['Credit card'],\n",
       "       ['Credit card'],\n",
       "       ['Transfer'],\n",
       "       ['Transfer'],\n",
       "       ['Transfer'],\n",
       "       ['Credit card'],\n",
       "       ['Credit card'],\n",
       "       ['Transfer'],\n",
       "       ['Credit card'],\n",
       "       ['Transfer'],\n",
       "       ['Credit card'],\n",
       "       ['Credit card'],\n",
       "       ['Credit card'],\n",
       "       ['Credit card'],\n",
       "       ['Credit card'],\n",
       "       ['Credit card'],\n",
       "       ['Credit card'],\n",
       "       ['Credit card'],\n",
       "       ['Credit card'],\n",
       "       ['Credit card'],\n",
       "       ['Transfer'],\n",
       "       ['Transfer'],\n",
       "       ['Transfer'],\n",
       "       ['Credit card'],\n",
       "       ['Credit card'],\n",
       "       ['Credit card'],\n",
       "       ['Transfer'],\n",
       "       ['Credit card'],\n",
       "       ['Transfer'],\n",
       "       ['Credit card'],\n",
       "       ['Credit card'],\n",
       "       ['Credit card'],\n",
       "       ['Credit card'],\n",
       "       ['Credit card'],\n",
       "       ['Credit card'],\n",
       "       ['Credit card'],\n",
       "       ['Transfer'],\n",
       "       ['Credit card'],\n",
       "       ['Credit card'],\n",
       "       ['Credit card'],\n",
       "       ['Credit card'],\n",
       "       ['Credit card'],\n",
       "       ['Credit card'],\n",
       "       ['Credit card'],\n",
       "       ['Credit card'],\n",
       "       ['Credit card'],\n",
       "       ['Credit card'],\n",
       "       ['Credit card'],\n",
       "       ['Credit card'],\n",
       "       ['Transfer'],\n",
       "       ['Credit card'],\n",
       "       ['Credit card'],\n",
       "       ['Credit card'],\n",
       "       ['Credit card'],\n",
       "       ['Credit card'],\n",
       "       ['Transfer'],\n",
       "       ['Credit card'],\n",
       "       ['Credit card'],\n",
       "       ['Credit card'],\n",
       "       ['Credit card'],\n",
       "       ['Credit card'],\n",
       "       ['Credit card'],\n",
       "       ['Credit card'],\n",
       "       ['Credit card'],\n",
       "       ['Transfer'],\n",
       "       ['Credit card'],\n",
       "       ['Credit card'],\n",
       "       ['Credit card'],\n",
       "       ['Transfer'],\n",
       "       ['Credit card'],\n",
       "       ['Credit card'],\n",
       "       ['Credit card'],\n",
       "       ['Credit card'],\n",
       "       ['Credit card'],\n",
       "       ['Credit card'],\n",
       "       ['Transfer'],\n",
       "       ['Credit card'],\n",
       "       ['Credit card'],\n",
       "       ['Transfer'],\n",
       "       ['Cash'],\n",
       "       ['Credit card'],\n",
       "       ['Transfer'],\n",
       "       ['Credit card'],\n",
       "       ['Credit card'],\n",
       "       ['Credit card'],\n",
       "       ['Credit card'],\n",
       "       ['Credit card'],\n",
       "       ['Credit card'],\n",
       "       ['Transfer'],\n",
       "       ['Credit card'],\n",
       "       ['Credit card'],\n",
       "       ['Transfer'],\n",
       "       ['Credit card'],\n",
       "       ['Credit card'],\n",
       "       ['Credit card'],\n",
       "       ['Credit card'],\n",
       "       ['Credit card'],\n",
       "       ['Credit card'],\n",
       "       ['Transfer'],\n",
       "       ['Credit card'],\n",
       "       ['Credit card'],\n",
       "       ['Credit card'],\n",
       "       ['Credit card'],\n",
       "       ['Credit card'],\n",
       "       ['Credit card'],\n",
       "       ['Transfer'],\n",
       "       ['Transfer'],\n",
       "       ['Transfer'],\n",
       "       ['Credit card'],\n",
       "       ['Credit card'],\n",
       "       ['Credit card'],\n",
       "       ['Credit card'],\n",
       "       ['Credit card'],\n",
       "       ['Transfer'],\n",
       "       ['Credit card'],\n",
       "       ['Credit card'],\n",
       "       ['Transfer'],\n",
       "       ['Credit card'],\n",
       "       ['Credit card'],\n",
       "       ['Credit card']], dtype=object)"
      ]
     },
     "execution_count": 296,
     "metadata": {},
     "output_type": "execute_result"
    }
   ],
   "source": [
    "y_pred"
   ]
  },
  {
   "cell_type": "code",
   "execution_count": 300,
   "metadata": {},
   "outputs": [
    {
     "data": {
      "text/html": [
       "<div>\n",
       "<style scoped>\n",
       "    .dataframe tbody tr th:only-of-type {\n",
       "        vertical-align: middle;\n",
       "    }\n",
       "\n",
       "    .dataframe tbody tr th {\n",
       "        vertical-align: top;\n",
       "    }\n",
       "\n",
       "    .dataframe thead th {\n",
       "        text-align: right;\n",
       "    }\n",
       "</style>\n",
       "<table border=\"1\" class=\"dataframe\">\n",
       "  <thead>\n",
       "    <tr style=\"text-align: right;\">\n",
       "      <th></th>\n",
       "      <th>date</th>\n",
       "      <th>warehouse</th>\n",
       "      <th>client_type</th>\n",
       "      <th>product_line</th>\n",
       "      <th>quantity</th>\n",
       "      <th>unit_price</th>\n",
       "      <th>total</th>\n",
       "      <th>payment</th>\n",
       "      <th>Weekday</th>\n",
       "      <th>Month</th>\n",
       "    </tr>\n",
       "  </thead>\n",
       "  <tbody>\n",
       "    <tr>\n",
       "      <th>0</th>\n",
       "      <td>2021-01-06</td>\n",
       "      <td>Central</td>\n",
       "      <td>Retail</td>\n",
       "      <td>Miscellaneous</td>\n",
       "      <td>8</td>\n",
       "      <td>16.85</td>\n",
       "      <td>134.83</td>\n",
       "      <td>Credit card</td>\n",
       "      <td>Wednesday</td>\n",
       "      <td>January</td>\n",
       "    </tr>\n",
       "    <tr>\n",
       "      <th>1</th>\n",
       "      <td>2021-01-06</td>\n",
       "      <td>North</td>\n",
       "      <td>Retail</td>\n",
       "      <td>Breaking system</td>\n",
       "      <td>9</td>\n",
       "      <td>19.29</td>\n",
       "      <td>173.61</td>\n",
       "      <td>Cash</td>\n",
       "      <td>Wednesday</td>\n",
       "      <td>January</td>\n",
       "    </tr>\n",
       "    <tr>\n",
       "      <th>2</th>\n",
       "      <td>2021-01-06</td>\n",
       "      <td>North</td>\n",
       "      <td>Retail</td>\n",
       "      <td>Suspension &amp; traction</td>\n",
       "      <td>8</td>\n",
       "      <td>32.93</td>\n",
       "      <td>263.45</td>\n",
       "      <td>Credit card</td>\n",
       "      <td>Wednesday</td>\n",
       "      <td>January</td>\n",
       "    </tr>\n",
       "    <tr>\n",
       "      <th>3</th>\n",
       "      <td>2021-01-06</td>\n",
       "      <td>North</td>\n",
       "      <td>Wholesale</td>\n",
       "      <td>Frame &amp; body</td>\n",
       "      <td>16</td>\n",
       "      <td>37.84</td>\n",
       "      <td>605.44</td>\n",
       "      <td>Transfer</td>\n",
       "      <td>Wednesday</td>\n",
       "      <td>January</td>\n",
       "    </tr>\n",
       "    <tr>\n",
       "      <th>4</th>\n",
       "      <td>2021-01-06</td>\n",
       "      <td>Central</td>\n",
       "      <td>Retail</td>\n",
       "      <td>Engine</td>\n",
       "      <td>2</td>\n",
       "      <td>60.48</td>\n",
       "      <td>120.96</td>\n",
       "      <td>Credit card</td>\n",
       "      <td>Wednesday</td>\n",
       "      <td>January</td>\n",
       "    </tr>\n",
       "  </tbody>\n",
       "</table>\n",
       "</div>"
      ],
      "text/plain": [
       "        date warehouse client_type           product_line  quantity  \\\n",
       "0 2021-01-06   Central      Retail          Miscellaneous         8   \n",
       "1 2021-01-06     North      Retail        Breaking system         9   \n",
       "2 2021-01-06     North      Retail  Suspension & traction         8   \n",
       "3 2021-01-06     North   Wholesale           Frame & body        16   \n",
       "4 2021-01-06   Central      Retail                 Engine         2   \n",
       "\n",
       "   unit_price   total      payment    Weekday    Month  \n",
       "0       16.85  134.83  Credit card  Wednesday  January  \n",
       "1       19.29  173.61         Cash  Wednesday  January  \n",
       "2       32.93  263.45  Credit card  Wednesday  January  \n",
       "3       37.84  605.44     Transfer  Wednesday  January  \n",
       "4       60.48  120.96  Credit card  Wednesday  January  "
      ]
     },
     "execution_count": 300,
     "metadata": {},
     "output_type": "execute_result"
    }
   ],
   "source": [
    "sales.head()"
   ]
  },
  {
   "cell_type": "code",
   "execution_count": 307,
   "metadata": {},
   "outputs": [
    {
     "name": "stderr",
     "output_type": "stream",
     "text": [
      "C:\\Users\\abu aisha\\AppData\\Local\\Temp\\ipykernel_7000\\1501412222.py:6: UserWarning:\n",
      "\n",
      "Parsing dates in DD/MM/YYYY format when dayfirst=False (the default) was specified. This may lead to inconsistently parsed dates! Specify a format to ensure consistent parsing.\n",
      "\n",
      "C:\\Users\\abu aisha\\AppData\\Roaming\\Python\\Python310\\site-packages\\sklearn\\preprocessing\\_encoders.py:868: FutureWarning:\n",
      "\n",
      "`sparse` was renamed to `sparse_output` in version 1.2 and will be removed in 1.4. `sparse_output` is ignored unless you leave `sparse` to its default value.\n",
      "\n",
      "C:\\Users\\abu aisha\\AppData\\Roaming\\Python\\Python310\\site-packages\\sklearn\\preprocessing\\_encoders.py:868: FutureWarning:\n",
      "\n",
      "`sparse` was renamed to `sparse_output` in version 1.2 and will be removed in 1.4. `sparse_output` is ignored unless you leave `sparse` to its default value.\n",
      "\n",
      "C:\\Users\\abu aisha\\AppData\\Roaming\\Python\\Python310\\site-packages\\sklearn\\preprocessing\\_encoders.py:868: FutureWarning:\n",
      "\n",
      "`sparse` was renamed to `sparse_output` in version 1.2 and will be removed in 1.4. `sparse_output` is ignored unless you leave `sparse` to its default value.\n",
      "\n",
      "C:\\Users\\abu aisha\\AppData\\Roaming\\Python\\Python310\\site-packages\\sklearn\\preprocessing\\_encoders.py:868: FutureWarning:\n",
      "\n",
      "`sparse` was renamed to `sparse_output` in version 1.2 and will be removed in 1.4. `sparse_output` is ignored unless you leave `sparse` to its default value.\n",
      "\n",
      "C:\\Users\\abu aisha\\AppData\\Roaming\\Python\\Python310\\site-packages\\sklearn\\preprocessing\\_encoders.py:868: FutureWarning:\n",
      "\n",
      "`sparse` was renamed to `sparse_output` in version 1.2 and will be removed in 1.4. `sparse_output` is ignored unless you leave `sparse` to its default value.\n",
      "\n"
     ]
    },
    {
     "name": "stdout",
     "output_type": "stream",
     "text": [
      "Prediction: Cash\n"
     ]
    }
   ],
   "source": [
    "# Example usage:\n",
    "sample_data = pd.DataFrame({\n",
    "    'warehouse': [\"North\"],\n",
    "    'client_type': [\"Retail\"],\n",
    "    'product_line': [\"Breaking system\"],\n",
    "    'Weekday': ['Wednesday'],\n",
    "    'Month': ['January'],\n",
    "    'quantity': [9],\n",
    "    'unit_price': [19.29]\n",
    "})\n",
    "\n",
    "prediction = transform_and_predict(sample_data)\n",
    "print(\"Prediction:\", prediction[0][0])"
   ]
  },
  {
   "cell_type": "code",
   "execution_count": 303,
   "metadata": {},
   "outputs": [
    {
     "name": "stderr",
     "output_type": "stream",
     "text": [
      "C:\\Users\\abu aisha\\AppData\\Local\\Temp\\ipykernel_7000\\1501412222.py:6: UserWarning:\n",
      "\n",
      "Parsing dates in DD/MM/YYYY format when dayfirst=False (the default) was specified. This may lead to inconsistently parsed dates! Specify a format to ensure consistent parsing.\n",
      "\n",
      "C:\\Users\\abu aisha\\AppData\\Roaming\\Python\\Python310\\site-packages\\sklearn\\preprocessing\\_encoders.py:868: FutureWarning:\n",
      "\n",
      "`sparse` was renamed to `sparse_output` in version 1.2 and will be removed in 1.4. `sparse_output` is ignored unless you leave `sparse` to its default value.\n",
      "\n",
      "C:\\Users\\abu aisha\\AppData\\Roaming\\Python\\Python310\\site-packages\\sklearn\\preprocessing\\_encoders.py:868: FutureWarning:\n",
      "\n",
      "`sparse` was renamed to `sparse_output` in version 1.2 and will be removed in 1.4. `sparse_output` is ignored unless you leave `sparse` to its default value.\n",
      "\n",
      "C:\\Users\\abu aisha\\AppData\\Roaming\\Python\\Python310\\site-packages\\sklearn\\preprocessing\\_encoders.py:868: FutureWarning:\n",
      "\n",
      "`sparse` was renamed to `sparse_output` in version 1.2 and will be removed in 1.4. `sparse_output` is ignored unless you leave `sparse` to its default value.\n",
      "\n",
      "C:\\Users\\abu aisha\\AppData\\Roaming\\Python\\Python310\\site-packages\\sklearn\\preprocessing\\_encoders.py:868: FutureWarning:\n",
      "\n",
      "`sparse` was renamed to `sparse_output` in version 1.2 and will be removed in 1.4. `sparse_output` is ignored unless you leave `sparse` to its default value.\n",
      "\n",
      "C:\\Users\\abu aisha\\AppData\\Roaming\\Python\\Python310\\site-packages\\sklearn\\preprocessing\\_encoders.py:868: FutureWarning:\n",
      "\n",
      "`sparse` was renamed to `sparse_output` in version 1.2 and will be removed in 1.4. `sparse_output` is ignored unless you leave `sparse` to its default value.\n",
      "\n"
     ]
    },
    {
     "name": "stdout",
     "output_type": "stream",
     "text": [
      "Prediction: [['Credit card']]\n"
     ]
    }
   ],
   "source": [
    "def transform_and_predict(sample_data):\n",
    "    # Load the original dataset\n",
    "    sales = pd.read_csv(\"data/sales_data.csv\")  # Replace 'your_dataset.csv' with the actual filename\n",
    "    \n",
    "    # Convert 'date' column to datetime type\n",
    "    sales['date'] = pd.to_datetime(sales['date'])\n",
    "    \n",
    "    from pandas.api.types import CategoricalDtype\n",
    "\n",
    "    cats = ['Monday', 'Tuesday', 'Wednesday', 'Thursday', 'Friday', 'Saturday', 'Sunday']\n",
    "\n",
    "    cat_type = CategoricalDtype(categories=cats, ordered=True)\n",
    "\n",
    "    # Create new columns for the weekday and month\n",
    "    sales['Weekday'] = sales['date'].dt.day_name().astype(cat_type)\n",
    "    sales['Month'] = sales['date'].dt.month_name()\n",
    "\n",
    "    # Split the data into predictors (X) and target variable (y)\n",
    "    X = sales[['warehouse', 'client_type', 'product_line', 'Weekday', 'Month', 'quantity', 'unit_price']]\n",
    "    y = sales['payment']\n",
    "    \n",
    "    # Perform one-hot encoding on categorical variables\n",
    "    cat_features = ['warehouse', 'client_type', 'product_line', 'Weekday', 'Month']\n",
    "    encoders = {}  # Dictionary to store encoders for each feature\n",
    "    \n",
    "    for feature in cat_features:\n",
    "        encoder = OneHotEncoder(sparse=False)\n",
    "        encoded_features = encoder.fit_transform(X[[feature]])\n",
    "        # Create new column names for the encoded features\n",
    "        feature_names = [feature + \"_\" + str(i) for i in range(encoded_features.shape[1])]\n",
    "        # Create a DataFrame from the encoded features\n",
    "        encoded_df = pd.DataFrame(encoded_features, columns=feature_names)\n",
    "        # Concatenate the encoded features to the original data\n",
    "        X = pd.concat([X, encoded_df], axis=1)\n",
    "        # Drop the original categorical feature\n",
    "        X.drop(feature, axis=1, inplace=True)\n",
    "        \n",
    "        # Store the encoder for future use\n",
    "        encoders[feature] = encoder\n",
    "    \n",
    "    # Perform oversampling using SMOTE\n",
    "    smote = SMOTE(random_state=42)\n",
    "    X_train, y_train = smote.fit_resample(X, y)\n",
    "    \n",
    "    # Initialize the PolynomialFeatures transformer\n",
    "    poly_features = PolynomialFeatures(degree=2, interaction_only=True, include_bias=False)\n",
    "    \n",
    "    # Fit and transform the training data\n",
    "    X_train_poly = poly_features.fit_transform(X_train)\n",
    "\n",
    "    # Initialize the CatBoost classifier\n",
    "    model = CatBoostClassifier(iterations=100, learning_rate=0.1, random_seed=42)\n",
    "    \n",
    "    # Fit the model to the training data\n",
    "    model.fit(X_train_poly, y_train, verbose=False)\n",
    "    \n",
    "    # Transform the sample data\n",
    "    sample_data_encoded = sample_data.copy()\n",
    "    for feature in cat_features:\n",
    "        encoder = encoders[feature]  # Retrieve the corresponding encoder\n",
    "        encoded_features = encoder.transform(sample_data_encoded[[feature]])\n",
    "        feature_names = [feature + \"_\" + str(i) for i in range(encoded_features.shape[1])]\n",
    "        encoded_df = pd.DataFrame(encoded_features, columns=feature_names)\n",
    "        sample_data_encoded = pd.concat([sample_data_encoded, encoded_df], axis=1)\n",
    "        sample_data_encoded.drop(feature, axis=1, inplace=True)\n",
    "        \n",
    "    sample_data_poly = poly_features.transform(sample_data_encoded)\n",
    "    \n",
    "    \n",
    "    # Make predictions on the sample data\n",
    "    y_pred = model.predict(sample_data_poly)\n",
    "    \n",
    "    return y_pred\n",
    "\n",
    "# Example usage:\n",
    "sample_data = pd.DataFrame({\n",
    "    'warehouse': [\"North\"],\n",
    "    'client_type': [\"Retail\"],\n",
    "    'product_line': [\"Engine\"],\n",
    "    'Weekday': ['Monday'],\n",
    "    'Month': ['February'],\n",
    "    'quantity': [10],\n",
    "    'unit_price': [5.0]\n",
    "})\n",
    "\n",
    "prediction = transform_and_predict(sample_data)\n",
    "print(\"Prediction:\", prediction)\n"
   ]
  }
 ],
 "metadata": {
  "kernelspec": {
   "display_name": "Python 3",
   "language": "python",
   "name": "python3"
  },
  "language_info": {
   "codemirror_mode": {
    "name": "ipython",
    "version": 3
   },
   "file_extension": ".py",
   "mimetype": "text/x-python",
   "name": "python",
   "nbconvert_exporter": "python",
   "pygments_lexer": "ipython3",
   "version": "3.10.5"
  },
  "orig_nbformat": 4
 },
 "nbformat": 4,
 "nbformat_minor": 2
}
